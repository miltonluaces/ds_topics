{
 "cells": [
  {
   "cell_type": "code",
   "execution_count": 1,
   "metadata": {},
   "outputs": [
    {
     "name": "stdout",
     "output_type": "stream",
     "text": [
      "[[0.25371336]\n",
      " [0.13799621]\n",
      " [0.13799621]\n",
      " [0.20633274]\n",
      " [0.26396139]]\n"
     ]
    }
   ],
   "source": [
    "# M adjacency matrix\n",
    "# d damping factor (default value 0.85)\n",
    "# eps quadratic error for v (default value 1.0e-8)\n",
    "# Return v, a vector of ranks such that v_i is the i-th rank from [0, 1]\n",
    "\n",
    "import numpy as np\n",
    "\n",
    "def Pagerank(Mat, eps=1.0e-8, d=0.85):\n",
    "    N = M.shape[1]\n",
    "    v = np.random.rand(N, 1)\n",
    "    v = v / np.linalg.norm(v, 1)\n",
    "    last_v = np.ones((N, 1), dtype=np.float32) * 100\n",
    "    M_hat = (d * M) + (((1 - d) / N) * np.ones((N, N), dtype=np.float32))\n",
    "    \n",
    "    while np.linalg.norm(v - last_v, 2) > eps:\n",
    "        last_v = v\n",
    "        v = np.matmul(M_hat, v)\n",
    "    return v\n",
    "\n",
    "\n",
    "# Testing\n",
    "M = np.array([[0, 0, 0, 0, 1], [0.5, 0, 0, 0, 0], [0.5, 0, 0, 0, 0], [0, 1, 0.5, 0, 0], [0, 0, 0.5, 1, 0]])\n",
    "v = Pagerank(Mat=M, eps=0.001, d=0.85)\n",
    "print(v)\n"
   ]
  },
  {
   "cell_type": "code",
   "execution_count": null,
   "metadata": {},
   "outputs": [],
   "source": []
  }
 ],
 "metadata": {
  "kernelspec": {
   "display_name": "Python 3",
   "language": "python",
   "name": "python3"
  },
  "language_info": {
   "codemirror_mode": {
    "name": "ipython",
    "version": 3
   },
   "file_extension": ".py",
   "mimetype": "text/x-python",
   "name": "python",
   "nbconvert_exporter": "python",
   "pygments_lexer": "ipython3",
   "version": "3.8.1"
  }
 },
 "nbformat": 4,
 "nbformat_minor": 4
}
