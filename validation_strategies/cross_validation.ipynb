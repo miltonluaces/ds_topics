{
 "cells": [
  {
   "cell_type": "code",
   "execution_count": null,
   "metadata": {},
   "outputs": [],
   "source": [
    "from utilities.std_imports import *\n",
    "from sklearn.preprocessing import StandardScaler  \n",
    "from sklearn.ensemble import RandomForestClassifier  \n",
    "from sklearn.model_selection import cross_val_score \n",
    "from sklearn.model_selection import train_test_split  "
   ]
  },
  {
   "cell_type": "code",
   "execution_count": null,
   "metadata": {},
   "outputs": [],
   "source": [
    "def CrossVal(X, Y, testSize, nEstims, kFold):\n",
    "    Xtrain, Xtest, Ytrain, Ytest = train_test_split(X, Y, test_size=testSize, random_state=0)  \n",
    "\n",
    "    # Scale data\n",
    "    scaler = StandardScaler()  \n",
    "    featTrain = scaler.fit_transform(Xtrain)  \n",
    "    featTest = scaler.transform(Xtest)  \n",
    "\n",
    "    # Cross validation\n",
    "    classifier = RandomForestClassifier(n_estimators=nEstims, random_state=0)   \n",
    "    accurs = cross_val_score(estimator=classifier, X=Xtrain, y=Ytrain, cv=kFold)  \n",
    "    return accurs\n",
    "\n",
    "   "
   ]
  }
 ],
 "metadata": {
  "kernelspec": {
   "display_name": "Python 3",
   "language": "python",
   "name": "python3"
  },
  "language_info": {
   "codemirror_mode": {
    "name": "ipython",
    "version": 3
   },
   "file_extension": ".py",
   "mimetype": "text/x-python",
   "name": "python",
   "nbconvert_exporter": "python",
   "pygments_lexer": "ipython3",
   "version": "3.8.6"
  }
 },
 "nbformat": 4,
 "nbformat_minor": 4
}
