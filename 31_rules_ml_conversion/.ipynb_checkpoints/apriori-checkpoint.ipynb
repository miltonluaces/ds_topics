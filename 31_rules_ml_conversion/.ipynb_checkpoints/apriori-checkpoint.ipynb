{
 "cells": [
  {
   "cell_type": "code",
   "execution_count": null,
   "metadata": {},
   "outputs": [],
   "source": [
    "import numpy as np  \n",
    "import matplotlib.pyplot as plt  \n",
    "import pandas as pd  \n",
    "from apyori import apriori "
   ]
  },
  {
   "cell_type": "code",
   "execution_count": null,
   "metadata": {},
   "outputs": [],
   "source": [
    "storeData = pd.read_csv('D:/data/csv/storeData.csv')[:7501] \n",
    "storeData.head(10)"
   ]
  },
  {
   "cell_type": "code",
   "execution_count": null,
   "metadata": {},
   "outputs": [],
   "source": [
    "# Data Preprocessing\n",
    "records = []  \n",
    "for i in range(0, 7501):  \n",
    "    records.append([str(storeData.values[i,j]) for j in range(0, 20)])\n",
    "\n",
    "# Apply apriori\n",
    "assocRules = apriori(records, min_support=0.0045, min_confidence=0.2, min_lift=3, min_length=2)  \n",
    "assocRes = list(assocRules)  \n",
    "print(assocRules[0])  \n",
    "\n",
    "# Show support, confidence, lift\n",
    "for item in association_rules:\n",
    "\n",
    "    # 1st index of the inner list Contains base item and add item\n",
    "    pair = item[0] \n",
    "    items = [x for x in pair]\n",
    "    print(\"Rule: \" + items[0] + \" -> \" + items[1])\n",
    "\n",
    "    # 2nd index of the inner list\n",
    "    print(\"Support: \" + str(item[1]))\n",
    "\n",
    "    # 3rd index of the list located at 0th of the third index of the inner list\n",
    "\n",
    "    print(\"Confidence: \" + str(item[2][0][2]))\n",
    "    print(\"Lift: \" + str(item[2][0][3]))\n",
    "    print(\" \")"
   ]
  },
  {
   "cell_type": "code",
   "execution_count": null,
   "metadata": {},
   "outputs": [],
   "source": []
  }
 ],
 "metadata": {
  "kernelspec": {
   "display_name": "Python 3",
   "language": "python",
   "name": "python3"
  },
  "language_info": {
   "codemirror_mode": {
    "name": "ipython",
    "version": 3
   },
   "file_extension": ".py",
   "mimetype": "text/x-python",
   "name": "python",
   "nbconvert_exporter": "python",
   "pygments_lexer": "ipython3",
   "version": "3.7.1"
  }
 },
 "nbformat": 4,
 "nbformat_minor": 4
}
