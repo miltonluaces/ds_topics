{
 "cells": [
  {
   "cell_type": "code",
   "execution_count": null,
   "metadata": {},
   "outputs": [],
   "source": [
    "# LOOCV (leave one out cross-validation)\n",
    "# Define function and variable space\n",
    "a, b, c = 1, 2, 3\n",
    "x = np.linspace(0, 5, 10)\n",
    "y = a*x**2 + b*x + c + np.random.normal(0, 1, len(x))\n",
    "\n",
    "# Plot polynomial models\n",
    "plt.figure(figsize=(12,4))\n",
    "for deg in range(1, 5):\n",
    "    plt.subplot(1, 4, deg)\n",
    "    beta = np.polyfit(x, y, deg)\n",
    "    plt.plot(x, y, 'r:o')\n",
    "    plt.plot(x, np.polyval(beta, x), 'b-')\n",
    "    plt.title('Degree = %d' % deg)\n",
    "plt.show()\n",
    "\n",
    "def loocv(x, y, fit, pred, deg):\n",
    "    \"\"\"LOOCV RSS for fitting a polynomial model.\"\"\"\n",
    "    n = len(x)\n",
    "    idx = np.arange(n)\n",
    "    rss = np.sum([(y - pred(fit(x[idx!=i], y[idx!=i], deg), x))**2.0 for i in range(n)])\n",
    "    return rss\n",
    "\n",
    "# RSS does not detect overfitting and selects the most complex model\n",
    "print('\\nDirect RSS selection')\n",
    "for deg in range(1, 5):\n",
    "    print('Degree = %d, RSS=%.2f' % (deg, np.sum((y - np.polyval(np.polyfit(x, y, deg), x))**2.0)))\n",
    "\n",
    "# LOOCV selects the correct model\n",
    "print('\\nLOOCV selection')\n",
    "for deg in range(1, 5):\n",
    "    print('Degree = %d, RSS=%.2f' % (deg, loocv(x, y, np.polyfit, np.polyval, deg)))\n",
    "\n",
    "\n"
   ]
  }
 ],
 "metadata": {
  "kernelspec": {
   "display_name": "Python 3",
   "language": "python",
   "name": "python3"
  },
  "language_info": {
   "codemirror_mode": {
    "name": "ipython",
    "version": 3
   },
   "file_extension": ".py",
   "mimetype": "text/x-python",
   "name": "python",
   "nbconvert_exporter": "python",
   "pygments_lexer": "ipython3",
   "version": "3.7.1"
  }
 },
 "nbformat": 4,
 "nbformat_minor": 4
}
