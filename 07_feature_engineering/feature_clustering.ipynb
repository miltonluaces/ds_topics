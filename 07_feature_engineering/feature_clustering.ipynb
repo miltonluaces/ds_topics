{
 "cells": [
  {
   "cell_type": "code",
   "execution_count": 2,
   "metadata": {},
   "outputs": [],
   "source": [
    "import numpy as np\n",
    "from sklearn import datasets, cluster"
   ]
  },
  {
   "cell_type": "code",
   "execution_count": 3,
   "metadata": {},
   "outputs": [
    {
     "name": "stdout",
     "output_type": "stream",
     "text": [
      "(1797, 8, 8)\n",
      "(1797, 64)\n",
      "(1797, 32)\n"
     ]
    }
   ],
   "source": [
    "# Load data\n",
    "digits = datasets.load_digits()\n",
    "images = digits.images\n",
    "#print(images)\n",
    "print(images.shape)\n",
    "X = np.reshape(images, (len(images), -1))\n",
    "print(X.shape)\n",
    "\n",
    "agglo = cluster.FeatureAgglomeration(n_clusters=32)\n",
    "agglo.fit(X) \n",
    "cluster.FeatureAgglomeration(affinity='euclidean', compute_full_tree='auto', connectivity=None, linkage='ward', memory=None, n_clusters=32, pooling_func=...)\n",
    "XReduced = agglo.transform(X)\n",
    "print(XReduced.shape)\n",
    "\n",
    "# Johnson-Lindenstrauss lemma\n",
    "rn = np.random.standard_normal(11000*45)\n",
    "rn = rn.reshape(11000,45)\n",
    "trMatrix = np.asmatrix(rn)"
   ]
  },
  {
   "cell_type": "code",
   "execution_count": null,
   "metadata": {},
   "outputs": [],
   "source": []
  }
 ],
 "metadata": {
  "kernelspec": {
   "display_name": "Python 3",
   "language": "python",
   "name": "python3"
  },
  "language_info": {
   "codemirror_mode": {
    "name": "ipython",
    "version": 3
   },
   "file_extension": ".py",
   "mimetype": "text/x-python",
   "name": "python",
   "nbconvert_exporter": "python",
   "pygments_lexer": "ipython3",
   "version": "3.8.1"
  }
 },
 "nbformat": 4,
 "nbformat_minor": 4
}
