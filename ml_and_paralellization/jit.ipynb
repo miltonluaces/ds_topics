{
 "cells": [
  {
   "cell_type": "markdown",
   "metadata": {},
   "source": [
    "## JIT (Just in time compilation)\n",
    "\n",
    "Not paralellization but related with performance tunning"
   ]
  },
  {
   "cell_type": "code",
   "execution_count": 1,
   "metadata": {},
   "outputs": [],
   "source": [
    "from utilities.std_imports import *\n",
    "from numba import jit\n",
    "import random\n",
    "import time"
   ]
  },
  {
   "cell_type": "code",
   "execution_count": 2,
   "metadata": {},
   "outputs": [
    {
     "name": "stdout",
     "output_type": "stream",
     "text": [
      "1  :  0.38\n",
      "10  :  0.00\n",
      "100  :  0.00\n",
      "1000  :  0.00\n",
      "10000  :  0.00\n",
      "100000  :  0.00\n",
      "1000000  :  0.01\n",
      "10000000  :  0.11\n",
      "100000000  :  1.08\n"
     ]
    }
   ],
   "source": [
    "@jit(nopython=True)\n",
    "def MonteCarloPi(nsamples):\n",
    "    acc = 0\n",
    "    for i in range(nsamples):\n",
    "        x = random.random()\n",
    "        y = random.random()\n",
    "        if (x**2 + y**2) < 1.0:\n",
    "            acc += 1\n",
    "    return 4.0 * acc \n",
    "\n",
    "\n",
    "for nsamples in [1, 10, 100, 1000, 10000, 100000, 1000000, 10000000, 100000000]: \n",
    "    start = time.time()\n",
    "    MonteCarloPi(nsamples)\n",
    "    end = time.time()\n",
    "    print(nsamples, \" : \", '{0:.2f}'.format(end-start))"
   ]
  },
  {
   "cell_type": "code",
   "execution_count": null,
   "metadata": {},
   "outputs": [],
   "source": []
  }
 ],
 "metadata": {
  "kernelspec": {
   "display_name": "Python 3",
   "language": "python",
   "name": "python3"
  },
  "language_info": {
   "codemirror_mode": {
    "name": "ipython",
    "version": 3
   },
   "file_extension": ".py",
   "mimetype": "text/x-python",
   "name": "python",
   "nbconvert_exporter": "python",
   "pygments_lexer": "ipython3",
   "version": "3.8.6"
  }
 },
 "nbformat": 4,
 "nbformat_minor": 4
}
