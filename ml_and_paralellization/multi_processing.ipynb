{
 "cells": [
  {
   "cell_type": "markdown",
   "metadata": {},
   "source": [
    "# Multiprocessing"
   ]
  },
  {
   "cell_type": "code",
   "execution_count": null,
   "metadata": {},
   "outputs": [],
   "source": [
    "from utilities.std_imports import *\n",
    "from multiprocessing import Pool\n",
    "import time"
   ]
  },
  {
   "cell_type": "code",
   "execution_count": null,
   "metadata": {},
   "outputs": [],
   "source": [
    "def IsPrime(num):\n",
    "    if num <= 1: return False\n",
    "    elif num <= 3: return True\n",
    "    elif num%2 == 0 or num%3 == 0: return False\n",
    "    i = 5\n",
    "    while i*i <= num:\n",
    "        if num%i == 0 or num%(i+2) == 0: return False\n",
    "        i += 6\n",
    "    return True\n",
    "\n",
    "def SumPrime(num):\n",
    "    sum = 0\n",
    "    i = 2\n",
    "    while i <= num:\n",
    "        if IsPrime(i): sum += i\n",
    "        i += 1\n",
    "    return sum"
   ]
  },
  {
   "cell_type": "code",
   "execution_count": null,
   "metadata": {},
   "outputs": [],
   "source": [
    "times=[]\n",
    "for i in (range(1,10)):\n",
    "    start = time.time()\n",
    "    with Pool(i) as p:\n",
    "        sums = p.map(SumPrime, [100000, 200000, 300000])\n",
    "    end = time.time()\n",
    "    delta = (end-start)/i\n",
    "    print(sums)\n",
    "    print(\"Time taken \", id, \" = {0:.5f}\".format(delta))\n",
    "    times.append(delta)\n",
    "plt.plot(times);"
   ]
  },
  {
   "cell_type": "markdown",
   "metadata": {},
   "source": [
    "### Credits & Links"
   ]
  },
  {
   "cell_type": "markdown",
   "metadata": {},
   "source": [
    "https://stackoverflow.com/questions/8533318/multiprocessing-pool-when-to-use-apply-apply-async-or-map"
   ]
  }
 ],
 "metadata": {
  "kernelspec": {
   "display_name": "Python 3",
   "language": "python",
   "name": "python3"
  },
  "language_info": {
   "codemirror_mode": {
    "name": "ipython",
    "version": 3
   },
   "file_extension": ".py",
   "mimetype": "text/x-python",
   "name": "python",
   "nbconvert_exporter": "python",
   "pygments_lexer": "ipython3",
   "version": "3.8.6"
  }
 },
 "nbformat": 4,
 "nbformat_minor": 4
}
