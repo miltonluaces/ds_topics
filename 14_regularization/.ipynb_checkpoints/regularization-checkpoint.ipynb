{
 "cells": [
  {
   "cell_type": "markdown",
   "metadata": {},
   "source": [
    "# Regularization"
   ]
  },
  {
   "cell_type": "markdown",
   "metadata": {},
   "source": [
    "## Imports"
   ]
  },
  {
   "cell_type": "code",
   "execution_count": null,
   "metadata": {},
   "outputs": [],
   "source": [
    "import pandas as pd \n",
    "import numpy as np \n",
    "import matplotlib.pyplot as plt \n",
    "from sklearn.linear_model import LinearRegression, Ridge, Lasso \n",
    "from sklearn.model_selection import train_test_split, cross_val_score \n",
    "from statistics import mean "
   ]
  },
  {
   "cell_type": "markdown",
   "metadata": {},
   "source": [
    "## Step 2: Loading and cleaning the Data"
   ]
  },
  {
   "cell_type": "code",
   "execution_count": null,
   "metadata": {},
   "outputs": [],
   "source": [
    "# Changing the working location to the location of the data \n",
    "cd C:\\Users\\Dev\\Desktop\\Kaggle\\House Prices \n",
    "  \n",
    "# Loading the data into a Pandas DataFrame \n",
    "data = pd.read_csv('kc_house_data.csv') \n",
    "  \n",
    "# Dropping the numerically non-sensical variables \n",
    "dropColumns = ['id', 'date', 'zipcode'] \n",
    "data = data.drop(dropColumns, axis = 1) \n",
    "  \n",
    "# Separating the dependent and independent variables \n",
    "y = data['price'] \n",
    "X = data.drop('price', axis = 1) \n",
    "  \n",
    "# Dividing the data into training and testing set \n",
    "X_train, X_test, y_train, y_test = train_test_split(X, y, test_size = 0.25) \n",
    "Step 3: Building and evaluating the different models"
   ]
  },
  {
   "cell_type": "markdown",
   "metadata": {},
   "source": [
    "## a) Linear Regression:"
   ]
  },
  {
   "cell_type": "code",
   "execution_count": null,
   "metadata": {},
   "outputs": [],
   "source": [
    "filter_none\n",
    "brightness_4\n",
    "# Bulding and fitting the Linear Regression model \n",
    "linearModel = LinearRegression() \n",
    "linearModel.fit(X_train, y_train) \n",
    "  \n",
    "# Evaluating the Linear Regression model \n",
    "print(linearModel.score(X_test, y_test)) "
   ]
  },
  {
   "cell_type": "markdown",
   "metadata": {},
   "source": [
    "## b) Ridge(L2) Regression:"
   ]
  },
  {
   "cell_type": "code",
   "execution_count": null,
   "metadata": {},
   "outputs": [],
   "source": [
    "filter_none\n",
    "brightness_4\n",
    "# List to maintain the different cross-validation scores \n",
    "cross_val_scores_ridge = [] \n",
    "  \n",
    "# List to maintain the different values of alpha \n",
    "alpha = [] \n",
    "  \n",
    "# Loop to compute the different values of cross-validation scores \n",
    "for i in range(1, 9): \n",
    "    ridgeModel = Ridge(alpha = i * 0.25) \n",
    "    ridgeModel.fit(X_train, y_train) \n",
    "    scores = cross_val_score(ridgeModel, X, y, cv = 10) \n",
    "    avg_cross_val_score = mean(scores)*100\n",
    "    cross_val_scores_ridge.append(avg_cross_val_score) \n",
    "    alpha.append(i * 0.25) \n",
    "  \n",
    "# Loop to print the different values of cross-validation scores \n",
    "for i in range(0, len(alpha)): \n",
    "    print(str(alpha[i])+' : '+str(cross_val_scores_ridge[i])) \n",
    "\n",
    "\n",
    "From the above output, we can conclude that the best value of alpha for the data is 2.\n",
    "\n",
    "filter_none\n",
    "brightness_4\n",
    "# Building and fitting the Ridge Regression model \n",
    "ridgeModelChosen = Ridge(alpha = 2) \n",
    "ridgeModelChosen.fit(X_train, y_train) \n",
    "  \n",
    "# Evaluating the Ridge Regression model \n",
    "print(ridgeModelChosen.score(X_test, y_test)) "
   ]
  },
  {
   "cell_type": "markdown",
   "metadata": {},
   "source": [
    "## c) Lasso(L1) Regression:"
   ]
  },
  {
   "cell_type": "code",
   "execution_count": null,
   "metadata": {},
   "outputs": [],
   "source": [
    "filter_none\n",
    "brightness_4\n",
    "# List to maintain the cross-validation scores \n",
    "cross_val_scores_lasso = [] \n",
    "  \n",
    "# List to maintain the different values of Lambda \n",
    "Lambda = [] \n",
    "  \n",
    "# Loop to compute the cross-validation scores \n",
    "for i in range(1, 9): \n",
    "    lassoModel = Lasso(alpha = i * 0.25, tol = 0.0925) \n",
    "    lassoModel.fit(X_train, y_train) \n",
    "    scores = cross_val_score(lassoModel, X, y, cv = 10) \n",
    "    avg_cross_val_score = mean(scores)*100\n",
    "    cross_val_scores_lasso.append(avg_cross_val_score) \n",
    "    Lambda.append(i * 0.25) \n",
    "  \n",
    "# Loop to print the different values of cross-validation scores \n",
    "for i in range(0, len(alpha)): \n",
    "    print(str(alpha[i])+' : '+str(cross_val_scores_lasso[i])) "
   ]
  },
  {
   "cell_type": "code",
   "execution_count": null,
   "metadata": {},
   "outputs": [],
   "source": [
    "# From the above output, we can conclude that the best value of lambda is 2.\n",
    "\n",
    "# Building and fitting the Lasso Regression Model \n",
    "lassoModelChosen = Lasso(alpha = 2, tol = 0.0925) \n",
    "lassoModelChosen.fit(X_train, y_train) \n",
    "  \n",
    "# Evaluating the Lasso Regression model \n",
    "print(lassoModelChosen.score(X_test, y_test)) "
   ]
  },
  {
   "cell_type": "markdown",
   "metadata": {},
   "source": [
    "## Step 4: Comparing and Visualizing the results"
   ]
  },
  {
   "cell_type": "code",
   "execution_count": null,
   "metadata": {},
   "outputs": [],
   "source": [
    "filter_none\n",
    "brightness_4\n",
    "# Building the two lists for visualization \n",
    "models = ['Linear Regression', 'Ridge Regression', 'Lasso Regression'] \n",
    "scores = [linearModel.score(X_test, y_test), \n",
    "         ridgeModelChosen.score(X_test, y_test), \n",
    "         lassoModelChosen.score(X_test, y_test)] \n",
    "  \n",
    "# Building the dictionary to compare the scores \n",
    "mapping = {} \n",
    "mapping['Linear Regreesion'] = linearModel.score(X_test, y_test) \n",
    "mapping['Ridge Regreesion'] = ridgeModelChosen.score(X_test, y_test) \n",
    "mapping['Lasso Regression'] = lassoModelChosen.score(X_test, y_test) \n",
    "  \n",
    "# Printing the scores for different models \n",
    "for key, val in mapping.items(): \n",
    "    print(str(key)+' : '+str(val)) \n",
    "\n",
    "# Plotting the scores \n",
    "plt.bar(models, scores) \n",
    "plt.xlabel('Regression Models') \n",
    "plt.ylabel('Score') \n",
    "plt.show() "
   ]
  },
  {
   "cell_type": "markdown",
   "metadata": {},
   "source": [
    "## Credits & Links"
   ]
  },
  {
   "cell_type": "markdown",
   "metadata": {},
   "source": [
    "https://www.geeksforgeeks.org/ml-implementing-l1-and-l2-regularization-using-sklearn/\n",
    "https://www.bogotobogo.com/python/scikit-learn/scikit-learn_logistic_regression.php"
   ]
  }
 ],
 "metadata": {
  "kernelspec": {
   "display_name": "Python 3",
   "language": "python",
   "name": "python3"
  },
  "language_info": {
   "codemirror_mode": {
    "name": "ipython",
    "version": 3
   },
   "file_extension": ".py",
   "mimetype": "text/x-python",
   "name": "python",
   "nbconvert_exporter": "python",
   "pygments_lexer": "ipython3",
   "version": "3.7.1"
  }
 },
 "nbformat": 4,
 "nbformat_minor": 4
}
