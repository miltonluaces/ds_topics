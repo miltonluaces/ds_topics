{
 "cells": [
  {
   "cell_type": "code",
   "execution_count": 26,
   "metadata": {},
   "outputs": [],
   "source": [
    "from pymongo import MongoClient\n",
    "from bson.objectid import ObjectId\n",
    "from mongoengine import *"
   ]
  },
  {
   "cell_type": "code",
   "execution_count": 2,
   "metadata": {},
   "outputs": [],
   "source": [
    "client = MongoClient()"
   ]
  },
  {
   "cell_type": "code",
   "execution_count": 30,
   "metadata": {},
   "outputs": [],
   "source": [
    "client = MongoClient(\"localhost\", 27017)"
   ]
  },
  {
   "cell_type": "markdown",
   "metadata": {},
   "source": [
    "#### Create database"
   ]
  },
  {
   "cell_type": "code",
   "execution_count": 11,
   "metadata": {},
   "outputs": [],
   "source": [
    "db = client['testdb']"
   ]
  },
  {
   "cell_type": "markdown",
   "metadata": {},
   "source": [
    "#### Create collection on the fly by inserting the first document"
   ]
  },
  {
   "cell_type": "code",
   "execution_count": 12,
   "metadata": {},
   "outputs": [],
   "source": [
    "article = {\"author\": \"Derrick Mwiti\", \"about\": \"Introduction to MongoDB and Python\", \"tags\": [\"mongodb\", \"python\", \"pymongo\"]}\n",
    "res = db.articles.insert_one(article)"
   ]
  },
  {
   "cell_type": "code",
   "execution_count": 13,
   "metadata": {},
   "outputs": [
    {
     "name": "stdout",
     "output_type": "stream",
     "text": [
      "First article key is:  5f0dfac16540060956781305\n"
     ]
    }
   ],
   "source": [
    "print(\"First article key is: \", res.inserted_id)"
   ]
  },
  {
   "cell_type": "code",
   "execution_count": 14,
   "metadata": {},
   "outputs": [
    {
     "data": {
      "text/plain": [
       "['articles']"
      ]
     },
     "execution_count": 14,
     "metadata": {},
     "output_type": "execute_result"
    }
   ],
   "source": [
    "db.list_collection_names()"
   ]
  },
  {
   "cell_type": "code",
   "execution_count": 15,
   "metadata": {},
   "outputs": [
    {
     "name": "stdout",
     "output_type": "stream",
     "text": [
      "The new article IDs are  [ObjectId('5f0dfb196540060956781306'), ObjectId('5f0dfb196540060956781307')]\n"
     ]
    }
   ],
   "source": [
    "article1 = {\"author\": \"Emmanuel Kens\", \"about\": \"Knn and Python\",\"tags\": [\"Knn\",\"pymongo\"]}\n",
    "article2 = {\"author\": \"Daniel Kimeli\", \"about\": \"Web Development and Python\", \"tags\": [\"web\", \"design\", \"HTML\"]}\n",
    "res = articles.insert_many([article1, article2])\n",
    "print(\"The new article IDs are \", res.inserted_ids)"
   ]
  },
  {
   "cell_type": "markdown",
   "metadata": {},
   "source": [
    "#### Retrieve data"
   ]
  },
  {
   "cell_type": "code",
   "execution_count": 16,
   "metadata": {},
   "outputs": [
    {
     "name": "stdout",
     "output_type": "stream",
     "text": [
      "{'_id': ObjectId('5f0dfa616540060956781304'), 'author': 'Derrick Mwiti', 'about': 'Introduction to MongoDB and Python', 'tags': ['mongodb', 'python', 'pymongo']}\n"
     ]
    }
   ],
   "source": [
    "print(articles.find_one())"
   ]
  },
  {
   "cell_type": "code",
   "execution_count": 17,
   "metadata": {},
   "outputs": [
    {
     "name": "stdout",
     "output_type": "stream",
     "text": [
      "{'_id': ObjectId('5f0dfa616540060956781304'), 'author': 'Derrick Mwiti', 'about': 'Introduction to MongoDB and Python', 'tags': ['mongodb', 'python', 'pymongo']}\n",
      "{'_id': ObjectId('5f0dfac16540060956781305'), 'author': 'Derrick Mwiti', 'about': 'Introduction to MongoDB and Python', 'tags': ['mongodb', 'python', 'pymongo']}\n",
      "{'_id': ObjectId('5f0dfb196540060956781306'), 'author': 'Emmanuel Kens', 'about': 'Knn and Python', 'tags': ['Knn', 'pymongo']}\n",
      "{'_id': ObjectId('5f0dfb196540060956781307'), 'author': 'Daniel Kimeli', 'about': 'Web Development and Python', 'tags': ['web', 'design', 'HTML']}\n"
     ]
    }
   ],
   "source": [
    "for article in articles.find():\n",
    "  print(article)"
   ]
  },
  {
   "cell_type": "code",
   "execution_count": 19,
   "metadata": {},
   "outputs": [],
   "source": [
    "def get(post_id):\n",
    "    document = client.db.collection.find_one({'_id': ObjectId(post_id)})"
   ]
  },
  {
   "cell_type": "markdown",
   "metadata": {},
   "source": [
    "#### Filter"
   ]
  },
  {
   "cell_type": "code",
   "execution_count": 20,
   "metadata": {},
   "outputs": [
    {
     "name": "stdout",
     "output_type": "stream",
     "text": [
      "{'author': 'Derrick Mwiti', 'about': 'Introduction to MongoDB and Python'}\n",
      "{'author': 'Derrick Mwiti', 'about': 'Introduction to MongoDB and Python'}\n",
      "{'author': 'Emmanuel Kens', 'about': 'Knn and Python'}\n",
      "{'author': 'Daniel Kimeli', 'about': 'Web Development and Python'}\n"
     ]
    }
   ],
   "source": [
    "for article in articles.find({},{ \"_id\": 0, \"author\": 1, \"about\": 1}):\n",
    "  print(article)"
   ]
  },
  {
   "cell_type": "markdown",
   "metadata": {},
   "source": [
    "#### Sort"
   ]
  },
  {
   "cell_type": "code",
   "execution_count": 21,
   "metadata": {},
   "outputs": [
    {
     "name": "stdout",
     "output_type": "stream",
     "text": [
      "{'_id': ObjectId('5f0dfb196540060956781306'), 'author': 'Emmanuel Kens', 'about': 'Knn and Python', 'tags': ['Knn', 'pymongo']}\n",
      "{'_id': ObjectId('5f0dfa616540060956781304'), 'author': 'Derrick Mwiti', 'about': 'Introduction to MongoDB and Python', 'tags': ['mongodb', 'python', 'pymongo']}\n",
      "{'_id': ObjectId('5f0dfac16540060956781305'), 'author': 'Derrick Mwiti', 'about': 'Introduction to MongoDB and Python', 'tags': ['mongodb', 'python', 'pymongo']}\n",
      "{'_id': ObjectId('5f0dfb196540060956781307'), 'author': 'Daniel Kimeli', 'about': 'Web Development and Python', 'tags': ['web', 'design', 'HTML']}\n"
     ]
    }
   ],
   "source": [
    "doc = articles.find().sort(\"author\", -1)\n",
    "\n",
    "for x in doc:\n",
    "  print(x)"
   ]
  },
  {
   "cell_type": "markdown",
   "metadata": {},
   "source": [
    "#### Update"
   ]
  },
  {
   "cell_type": "code",
   "execution_count": 22,
   "metadata": {},
   "outputs": [
    {
     "name": "stdout",
     "output_type": "stream",
     "text": [
      "{'_id': ObjectId('5f0dfa616540060956781304'), 'author': 'John David', 'about': 'Introduction to MongoDB and Python', 'tags': ['mongodb', 'python', 'pymongo']}\n",
      "{'_id': ObjectId('5f0dfac16540060956781305'), 'author': 'Derrick Mwiti', 'about': 'Introduction to MongoDB and Python', 'tags': ['mongodb', 'python', 'pymongo']}\n",
      "{'_id': ObjectId('5f0dfb196540060956781306'), 'author': 'Emmanuel Kens', 'about': 'Knn and Python', 'tags': ['Knn', 'pymongo']}\n",
      "{'_id': ObjectId('5f0dfb196540060956781307'), 'author': 'Daniel Kimeli', 'about': 'Web Development and Python', 'tags': ['web', 'design', 'HTML']}\n"
     ]
    }
   ],
   "source": [
    "query = { \"author\": \"Derrick Mwiti\" }\n",
    "new_author = { \"$set\": { \"author\": \"John David\" } }\n",
    "\n",
    "articles.update_one(query, new_author)\n",
    "\n",
    "for article in articles.find():\n",
    "  print(article)"
   ]
  },
  {
   "cell_type": "markdown",
   "metadata": {},
   "source": [
    "#### Limiting"
   ]
  },
  {
   "cell_type": "code",
   "execution_count": 23,
   "metadata": {},
   "outputs": [
    {
     "name": "stdout",
     "output_type": "stream",
     "text": [
      "{'_id': ObjectId('5f0dfa616540060956781304'), 'author': 'John David', 'about': 'Introduction to MongoDB and Python', 'tags': ['mongodb', 'python', 'pymongo']}\n"
     ]
    }
   ],
   "source": [
    "limited_result = articles.find().limit(1)\n",
    "for x in limited_result:\n",
    "    print(x)"
   ]
  },
  {
   "cell_type": "markdown",
   "metadata": {},
   "source": [
    "#### Delete"
   ]
  },
  {
   "cell_type": "code",
   "execution_count": 25,
   "metadata": {},
   "outputs": [
    {
     "data": {
      "text/plain": [
       "<pymongo.results.DeleteResult at 0x20c8bdba9c0>"
      ]
     },
     "execution_count": 25,
     "metadata": {},
     "output_type": "execute_result"
    }
   ],
   "source": [
    "db.articles.delete_one({\"_id\":ObjectId(\"5ba4d00e2e8ca029163417d4\")})"
   ]
  },
  {
   "cell_type": "markdown",
   "metadata": {},
   "source": [
    "#### Delete & drop"
   ]
  },
  {
   "cell_type": "code",
   "execution_count": null,
   "metadata": {},
   "outputs": [],
   "source": [
    "delete_articles = articles.delete_many({})\n",
    "articles.drop()"
   ]
  },
  {
   "cell_type": "markdown",
   "metadata": {},
   "source": [
    "## Documents"
   ]
  },
  {
   "cell_type": "code",
   "execution_count": 32,
   "metadata": {},
   "outputs": [
    {
     "data": {
      "text/plain": [
       "MongoClient(host=['localhost:27017'], document_class=dict, tz_aware=False, connect=True, read_preference=Primary())"
      ]
     },
     "execution_count": 32,
     "metadata": {},
     "output_type": "execute_result"
    }
   ],
   "source": [
    "connect('articles', host='localhost', port=27017)"
   ]
  },
  {
   "cell_type": "code",
   "execution_count": 33,
   "metadata": {},
   "outputs": [],
   "source": [
    "class User(Document):\n",
    "    email = StringField(required=True)\n",
    "    first_name = StringField(max_length=30)\n",
    "    last_name = StringField(max_length=30)"
   ]
  },
  {
   "cell_type": "code",
   "execution_count": 34,
   "metadata": {},
   "outputs": [],
   "source": [
    "class Post(Document):\n",
    "    title = StringField(max_length=120, required=True)\n",
    "    author = ReferenceField(User)"
   ]
  },
  {
   "cell_type": "code",
   "execution_count": 35,
   "metadata": {},
   "outputs": [
    {
     "data": {
      "text/plain": [
       "<User: User object>"
      ]
     },
     "execution_count": 35,
     "metadata": {},
     "output_type": "execute_result"
    }
   ],
   "source": [
    "user = User(email=\"connect@derrickmwiti.com\", first_name=\"Derrick\", last_name=\"Mwiti\")\n",
    "user.save()"
   ]
  },
  {
   "cell_type": "code",
   "execution_count": 36,
   "metadata": {},
   "outputs": [
    {
     "name": "stdout",
     "output_type": "stream",
     "text": [
      "5f0dfe2f654006095678130a connect@derrickmwiti.com Derrick Mwiti\n"
     ]
    }
   ],
   "source": [
    "print(user.id, user.email, user.first_name, user.last_name)"
   ]
  },
  {
   "cell_type": "markdown",
   "metadata": {},
   "source": [
    "## Credits & Links"
   ]
  },
  {
   "cell_type": "markdown",
   "metadata": {},
   "source": [
    "https://www.datacamp.com/community/tutorials/introduction-mongodb-python?utm_source=adwords_ppc&utm_campaignid=9942305733&utm_adgroupid=100189364546&utm_device=c&utm_keyword=&utm_matchtype=b&utm_network=g&utm_adpostion=&utm_creative=332602034343&utm_targetid=dsa-929501846124&utm_loc_interest_ms=&utm_loc_physical_ms=1007850&gclid=EAIaIQobChMIgInNo6_N6gIVibPtCh3VggKhEAAYASAAEgLBDPD_BwE"
   ]
  }
 ],
 "metadata": {
  "kernelspec": {
   "display_name": "Python 3.8.1 64-bit",
   "language": "python",
   "name": "python38164bitc33de82c9da04edea88eb124459bf44a"
  },
  "language_info": {
   "codemirror_mode": {
    "name": "ipython",
    "version": 3
   },
   "file_extension": ".py",
   "mimetype": "text/x-python",
   "name": "python",
   "nbconvert_exporter": "python",
   "pygments_lexer": "ipython3",
   "version": "3.8.1"
  }
 },
 "nbformat": 4,
 "nbformat_minor": 4
}
