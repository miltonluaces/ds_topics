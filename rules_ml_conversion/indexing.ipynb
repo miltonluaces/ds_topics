{
 "cells": [
  {
   "cell_type": "markdown",
   "metadata": {},
   "source": [
    "# Record Linkage"
   ]
  },
  {
   "cell_type": "code",
   "execution_count": null,
   "metadata": {},
   "outputs": [],
   "source": [
    "from utilities.std_imports import *\n",
    "import recordlinkage as rl"
   ]
  },
  {
   "cell_type": "code",
   "execution_count": null,
   "metadata": {},
   "outputs": [],
   "source": [
    "# Data\n",
    "names1 = ['alfred', 'bob', 'calvin', 'hobbes', 'rusty']\n",
    "names2 = ['alfred', 'danny', 'callum', 'hobie', 'rusty']\n",
    "\n",
    "# Convert to DataFrames\n",
    "df1 = pd.DataFrame(pd.Series(names1, name='names'))\n",
    "df2 = pd.DataFrame(pd.Series(names2, name='names'))\n",
    "\n",
    "# Full index\n",
    "indexer = rl.FullIndex()\n",
    "candidateLinks = indexer.index(df1, df2)\n",
    "print(candidateLinks)\n",
    "\n",
    "# Blocked index\n",
    "indexer = rl.BlockIndex(on='names')\n",
    "candidateLinks = indexer.index(df1, df2)\n",
    "print(candidateLinks)\n",
    "\n",
    "# Random index\n",
    "indexer = rl.RandomIndex(n=1)\n",
    "candidateLinks = indexer.index(df1, df2)\n",
    "print(candidateLinks)\n",
    "\n",
    "# Sorted Neighborhood index\n",
    "indexer = rl.SortedNeighbourhoodIndex(on='names', window=3)\n",
    "candidateLinks = indexer.index(df1, df2)\n",
    "print(candidateLinks)\n",
    "\n",
    "# WHATS NEXT\n",
    "\n",
    "# Compare\n",
    "candidateLinks = indexer.index(df1, df2)\n",
    "comp = rl.Compare(candidateLinks, df1, df2)\n",
    "print(comp)"
   ]
  }
 ],
 "metadata": {
  "kernelspec": {
   "display_name": "Python 3",
   "language": "python",
   "name": "python3"
  },
  "language_info": {
   "codemirror_mode": {
    "name": "ipython",
    "version": 3
   },
   "file_extension": ".py",
   "mimetype": "text/x-python",
   "name": "python",
   "nbconvert_exporter": "python",
   "pygments_lexer": "ipython3",
   "version": "3.7.1"
  }
 },
 "nbformat": 4,
 "nbformat_minor": 4
}
