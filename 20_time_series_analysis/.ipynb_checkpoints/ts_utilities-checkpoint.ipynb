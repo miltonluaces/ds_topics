{
 "cells": [
  {
   "cell_type": "markdown",
   "metadata": {},
   "source": [
    "# Time series utilities"
   ]
  },
  {
   "cell_type": "markdown",
   "metadata": {},
   "source": [
    "## Imports"
   ]
  },
  {
   "cell_type": "code",
   "execution_count": null,
   "metadata": {},
   "outputs": [],
   "source": [
    "import numpy as np\n",
    "import pandas as pd\n",
    "import matplotlib.pyplot as plt"
   ]
  },
  {
   "cell_type": "markdown",
   "metadata": {},
   "source": [
    "## Testing data"
   ]
  },
  {
   "cell_type": "code",
   "execution_count": null,
   "metadata": {},
   "outputs": [],
   "source": [
    "dt1 = [123, 112, 118, 104, 105, 107, 114, 119, 123, 127, 132, 144]\n",
    "dt2 = [145, 157, 162, 170, 173]\n",
    "dt3 = [148, 152, 163, 170, 174]\n",
    "\n",
    "idx = pd.DatetimeIndex(['2020-01-01', '2020-01-02','2020-01-03', '2020-01-04', '2020-01-05', '2020-01-06', '2020-01-07', '2020-01-08', '2020-01-09', '2020-01-10', '2020-01-11', '2020-01-12'])\n",
    "ts1 = pd.Series(data = dt1, index=idx)\n",
    "idxs = [0, 4, 6, 7, 12, 15, 18]\n",
    "ts2 = pd.Series(data=dt1, index=range(len(dt1)))\n",
    "ts3 = pd.Series(data=dt2, index=range(len(dt2)))\n",
    "\n",
    "df = pd.DataFrame({'ts1' : ts2*2, 'ts2' : ts2})\n",
    "df"
   ]
  },
  {
   "cell_type": "markdown",
   "metadata": {},
   "source": [
    "## Transform an asc list of indexes in a binary array"
   ]
  },
  {
   "cell_type": "code",
   "execution_count": null,
   "metadata": {},
   "outputs": [],
   "source": [
    "def idx2bin_array(idxs, last=0):\n",
    "    if(last==0): last = idxs[-1]\n",
    "    binArray = [ 1 if i in idxs else 0 for i in range(0, last+1) ]\n",
    "    return(binArray)"
   ]
  },
  {
   "cell_type": "code",
   "execution_count": null,
   "metadata": {},
   "outputs": [],
   "source": [
    "ba = idx2bin_array(idxs); ba"
   ]
  },
  {
   "cell_type": "markdown",
   "metadata": {},
   "source": [
    "## Time series to Dataframe with column of indexes"
   ]
  },
  {
   "cell_type": "code",
   "execution_count": null,
   "metadata": {},
   "outputs": [],
   "source": [
    "def ts2df_idxed(ts):\n",
    "      idx = np.arange(0, len(ts))\n",
    "      df = pd.DataFrame(idx,ts)\n",
    "      df.set_index(idx)\n",
    "      return df"
   ]
  },
  {
   "cell_type": "code",
   "execution_count": null,
   "metadata": {},
   "outputs": [],
   "source": [
    "df = ts2df_idxed(ts1); df"
   ]
  },
  {
   "cell_type": "markdown",
   "metadata": {},
   "source": [
    "## Padding"
   ]
  },
  {
   "cell_type": "code",
   "execution_count": 228,
   "metadata": {},
   "outputs": [],
   "source": [
    "def pad(ts, n, left=True, fillzeros=True):\n",
    "    idxs = range(-n, ts.shape[0])\n",
    "    if left:\n",
    "        idxs = range(ts.shape[0] + n)\n",
    "    ts_padded = ts.reindex(idxs)\n",
    "    if fillzeros:\n",
    "        pd.Series.fillna(ts_padded, 0, inplace=True)\n",
    "    return ts_padded"
   ]
  },
  {
   "cell_type": "code",
   "execution_count": null,
   "metadata": {},
   "outputs": [],
   "source": [
    "ts2_pr = pad(ts2, 2, False)     \n",
    "ts2_pl = pad(ts2, 2, True)     \n",
    "print('Original\\n')\n",
    "print(ts2)\n",
    "print('Padded right\\n')\n",
    "print(ts2_pr)\n",
    "print('Padded left\\n')\n",
    "print(ts2_pl)"
   ]
  },
  {
   "cell_type": "markdown",
   "metadata": {},
   "source": [
    "## Plotting"
   ]
  },
  {
   "cell_type": "code",
   "execution_count": null,
   "metadata": {},
   "outputs": [],
   "source": [
    "df = pd.DataFrame({'ts1' : ts2*2, 'ts2' : ts2})\n",
    "\n",
    "df.plot()"
   ]
  },
  {
   "cell_type": "markdown",
   "metadata": {},
   "source": [
    "## Plot forecast"
   ]
  },
  {
   "cell_type": "code",
   "execution_count": null,
   "metadata": {},
   "outputs": [],
   "source": [
    "ts_hist=ts2\n",
    "fcst=dt2\n",
    "plt.plot(ts2)\n",
    "idx = index=range(len(ts_hist), len(hist)+len(fcst))\n",
    "idx\n",
    "ts_fcst = pd.Series(data=fcst, index=idx)"
   ]
  },
  {
   "cell_type": "code",
   "execution_count": null,
   "metadata": {},
   "outputs": [],
   "source": [
    "plt.plot(ts_fcst)"
   ]
  },
  {
   "cell_type": "code",
   "execution_count": null,
   "metadata": {},
   "outputs": [],
   "source": [
    "def gen_ts_fcst(ts_hist, fcst):\n",
    "    idx = index=range(len(ts_hist), len(ts_hist)+len(fcst))\n",
    "    return pd.Series(data=fcst, index=idx)"
   ]
  },
  {
   "cell_type": "code",
   "execution_count": null,
   "metadata": {},
   "outputs": [],
   "source": [
    "ts_hist=ts2\n",
    "fcst=dt2\n",
    "\n",
    "gen_ts_fcst(ts_hist, fcst)"
   ]
  },
  {
   "cell_type": "code",
   "execution_count": null,
   "metadata": {},
   "outputs": [],
   "source": [
    "def plot_fcst(ts_hist, ts_fcst):\n",
    "    tot = list(ts_hist) + list(ts_fcst)\n",
    "    plt.plot(tot, color='r')\n",
    "    plt.plot(hist, color='b')\n",
    "    plt.show()"
   ]
  },
  {
   "cell_type": "code",
   "execution_count": null,
   "metadata": {},
   "outputs": [],
   "source": [
    "ts_hist=ts2\n",
    "fcst=dt2\n",
    "\n",
    "plot_fcst(ts_hist, ts_fcst)"
   ]
  },
  {
   "cell_type": "code",
   "execution_count": 195,
   "metadata": {},
   "outputs": [],
   "source": [
    "def plot_fcst_valid(train, test, fcst):\n",
    "    train_plus = add_value(train, test[0])\n",
    "    nH = len(train_plus)\n",
    "    nF = len(fcst)\n",
    "    histIdx = range(len(train_plus))\n",
    "    fcstIdx = range(len(train), len(train)+len(fcst))\n",
    "    plt.figure()\n",
    "    plt.plot(histIdx, train_plus, label='Train', Color='b', lw=1.)\n",
    "    plt.plot(fcstIdx, test, label='Test', Color='g', lw=1.)\n",
    "    plt.plot(fcstIdx, fcst, label='Fcst', Color='r', lw=1.)\n",
    "    plt.legend(loc='best')\n",
    "    plt.show()"
   ]
  },
  {
   "cell_type": "code",
   "execution_count": 196,
   "metadata": {},
   "outputs": [
    {
     "data": {
      "image/png": "[encoded data removed]",
      "text/plain": [
       "<Figure size 432x288 with 1 Axes>"
      ]
     },
     "metadata": {
      "needs_background": "light"
     },
     "output_type": "display_data"
    }
   ],
   "source": [
    "train = ts2\n",
    "test = dt3\n",
    "\n",
    "plot_fcst_valid(train,test,fcst)"
   ]
  },
  {
   "cell_type": "code",
   "execution_count": 189,
   "metadata": {},
   "outputs": [],
   "source": [
    "def add_value(ts, val):\n",
    "    idxs = range(ts.shape[0]+1)\n",
    "    ts = ts.reindex(idxs) \n",
    "    ts[len(ts_train)-1] = val\n",
    "    return ts"
   ]
  },
  {
   "cell_type": "markdown",
   "metadata": {},
   "source": [
    "#### Plot highligted points in a time series"
   ]
  },
  {
   "cell_type": "code",
   "execution_count": 379,
   "metadata": {},
   "outputs": [
    {
     "data": {
      "text/plain": [
       "array([False, False,  True, False, False,  True, False, False, False,\n",
       "       False, False, False])"
      ]
     },
     "execution_count": 379,
     "metadata": {},
     "output_type": "execute_result"
    }
   ],
   "source": [
    "def get_bool_array(ts, idx):\n",
    "    idxs_bin = idx2bin_array(idxs)\n",
    "    idxs_bin = pd.Series(idxs_bin)\n",
    "    idxs_bin_pad = pad(idxs_bin, len(ts)-len(idxs_bin) , left=True)\n",
    "    return np.array(idxs_bin_pad).astype(np.bool)\n",
    "\n",
    "idxs = [2,5]\n",
    "get_bool_array(ts4, idxs)"
   ]
  },
  {
   "cell_type": "code",
   "execution_count": 381,
   "metadata": {},
   "outputs": [],
   "source": [
    "def plot_high(ts, points):\n",
    "    mask = get_bool_array(ts, points)\n",
    "    xs = np.arange(len(ts4))\n",
    "    plt.plot(xs, ts4, linestyle='-', color='blue')\n",
    "    plt.plot(xs[mask], ts4[mask], ':', color='red', linewidth=0, marker='o')\n",
    "    plt.show()"
   ]
  },
  {
   "cell_type": "code",
   "execution_count": 382,
   "metadata": {},
   "outputs": [
    {
     "data": {
      "image/png": "[encoded data removed]",
      "text/plain": [
       "<Figure size 432x288 with 1 Axes>"
      ]
     },
     "metadata": {
      "needs_background": "light"
     },
     "output_type": "display_data"
    }
   ],
   "source": [
    "dt1 = [123, 112, 118, 104, 105, 127, 114, 119, 123, 127, 132, 144]\n",
    "ts4 = pd.Series(data = dt1, index=idx)\n",
    "idxs = [2,5]\n",
    "plot_high(ts4, idxs)"
   ]
  },
  {
   "cell_type": "code",
   "execution_count": null,
   "metadata": {},
   "outputs": [],
   "source": []
  }
 ],
 "metadata": {
  "kernelspec": {
   "display_name": "Python 3",
   "language": "python",
   "name": "python3"
  },
  "language_info": {
   "codemirror_mode": {
    "name": "ipython",
    "version": 3
   },
   "file_extension": ".py",
   "mimetype": "text/x-python",
   "name": "python",
   "nbconvert_exporter": "python",
   "pygments_lexer": "ipython3",
   "version": "3.8.1"
  }
 },
 "nbformat": 4,
 "nbformat_minor": 4
}
