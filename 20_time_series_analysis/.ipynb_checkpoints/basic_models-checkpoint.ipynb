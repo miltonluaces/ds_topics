{
 "cells": [
  {
   "cell_type": "code",
   "execution_count": null,
   "metadata": {},
   "outputs": [],
   "source": [
    "import numpy as np\n",
    "\n",
    "def MA(ts, mw):\n",
    "    cs = np.cumsum(ts, dtype=float)\n",
    "    cs[mw:] = cs[mw:] - cs[:-mw]\n",
    "    return cs[mw-1:]/mw\n",
    "\n"
   ]
  },
  {
   "cell_type": "code",
   "execution_count": null,
   "metadata": {},
   "outputs": [],
   "source": [
    "import statsmodels as sm\n",
    "\n",
    "\n",
    "# Ordinary Least Squares\n",
    "def OLS():\n",
    "    dat = sm.datasets.get_rdataset(\"Guerry\", \"HistData\").data\n",
    "    results = smf.ols('Lottery ~ Literacy + np.log(Pop1831)', data=dat).fit() # using log of one of the regressors\n",
    "    print(results.summary())\n",
    "\n",
    "# ARMA Process\n",
    "def ARMAProcess():\n",
    "    arparams = np.array([.75, -.25])\n",
    "    maparams = np.array([.65, .35])\n",
    "    ar = np.r_[1, -arparams] # add zero-lag and negate\n",
    "    ma = np.r_[1, maparams]  # add zero-lag\n",
    "    ap = sm.tsa.ArmaProcess(ar, ma)\n",
    "    print(ap.isstationary)\n",
    "    print(ap.isinvertible)\n",
    "    y = ap.generate_sample(250)\n",
    "    model = sm.tsa.ARMA(y, (2, 2)).fit(trend='nc', disp=0)\n",
    "    print(model.params)\n",
    "\n",
    "# Descomposition\n",
    "def Descomposition():\n",
    "    df = pd.read_csv('Data/MilkProd.csv')\n",
    "    dates = df.iloc[:,0:].values.flatten()\n",
    "    datess = pd.to_datetime(dates[:168])\n",
    "    values = df.iloc[:,1:].values.flatten()\n",
    "    ts = pd.Series(values, datess)\n",
    "    res = smt.seasonal.seasonal_decompose(ts, freq=12, model='additive')\n",
    "    print(res.trend)\n",
    "    print(res.seasonal)\n",
    "    print(res.resid)\n",
    "    print(res.observed)\n",
    "\n",
    "    res.plot()\n",
    "    plt.show()\n",
    "\n",
    "\n",
    "import numpy as np\n",
    "import pandas as pd\n",
    "import scipy.stats as ss\n",
    "\n",
    "def OLSFcst(ts, hor):\n",
    "    hor = 20\n",
    "    idx = np.arange(0, len(ts))\n",
    "    res = sp.stats.linregress(idx, ts)\n",
    "    idx = np.arange(len(ts)+1, len(ts) + hor+1)\n",
    "    fcst = idx * res.slope + res.intercept\n",
    "    return(fcst)\n"
   ]
  }
 ],
 "metadata": {
  "kernelspec": {
   "display_name": "Python 3",
   "language": "python",
   "name": "python3"
  },
  "language_info": {
   "name": ""
  }
 },
 "nbformat": 4,
 "nbformat_minor": 4
}
