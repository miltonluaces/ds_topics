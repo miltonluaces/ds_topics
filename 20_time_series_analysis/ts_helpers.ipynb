{
 "cells": [
  {
   "cell_type": "code",
   "execution_count": null,
   "metadata": {},
   "outputs": [],
   "source": [
    "import numpy as np\n",
    "import pandas as pd\n",
    "\n",
    "# Transform an asc list of indexes in a binary array\n",
    "def Idx2BinArray(idxs, last=0):\n",
    "    if(last==0): last = idxs[-1]\n",
    "    binArray = [ 1 if i in idxs else 0 for i in range(0, last+1) ]\n",
    "    return(binArray)\n",
    "    \n",
    "# Time series to Dataframe with column of indexes\n",
    "def Ts2DfIdxed(ts):\n",
    "      idx = np.arange(0, len(ts))\n",
    "      df = pd.DataFrame(idx,ts)\n",
    "      df.set_index(idx)\n",
    "      return df\n",
    "\n"
   ]
  }
 ],
 "metadata": {
  "kernelspec": {
   "display_name": "Python 3",
   "language": "python",
   "name": "python3"
  },
  "language_info": {
   "codemirror_mode": {
    "name": "ipython",
    "version": 3
   },
   "file_extension": ".py",
   "mimetype": "text/x-python",
   "name": "python",
   "nbconvert_exporter": "python",
   "pygments_lexer": "ipython3",
   "version": "3.7.1"
  }
 },
 "nbformat": 4,
 "nbformat_minor": 4
}
