{
 "cells": [
  {
   "cell_type": "code",
   "execution_count": 1,
   "metadata": {},
   "outputs": [],
   "source": [
    "import numpy as np\n",
    "import pandas as pd\n",
    "\n",
    "# Determine inflection points \n",
    "def GetInflectionPointIdxs(ts):\n",
    "    ip = np.zeros(len(ts))\n",
    "    for i in (range(1,len(ts)-1)):\n",
    "        if(ts[i] > ts[i-1] and ts[i] > ts[i+1]):\n",
    "           ip[i] = 1\n",
    "        elif(ts[i] < ts[i-1] and ts[i] < ts[i+1]): \n",
    "            ip[i] = -1\n",
    "    return(ip)\n",
    "\n",
    "# Get the ts formed by only the inflection points\n",
    "def GetIPSeries(ts, ip, interpolate=True):\n",
    "    ips = np.zeros(len(ts))\n",
    "    for i in range(len(ts)):\n",
    "        if(ip[i] != 0): ips[i]=ts[i]\n",
    "        else: ips[i] = np.nan\n",
    "    ips[0] = ts[0]\n",
    "    ips[-1] = ts[-1]\n",
    "    nPs = len(ips[~np.isnan(ips)])\n",
    "    if(interpolate): \n",
    "        df = pd.DataFrame(ips)\n",
    "        interp = df.interpolate(method='linear')\n",
    "        ips = np.asarray(interp[0])\n",
    "    return ips, nPs\n"
   ]
  },
  {
   "cell_type": "code",
   "execution_count": null,
   "metadata": {},
   "outputs": [],
   "source": []
  }
 ],
 "metadata": {
  "kernelspec": {
   "display_name": "Python 3",
   "language": "python",
   "name": "python3"
  },
  "language_info": {
   "codemirror_mode": {
    "name": "ipython",
    "version": 3
   },
   "file_extension": ".py",
   "mimetype": "text/x-python",
   "name": "python",
   "nbconvert_exporter": "python",
   "pygments_lexer": "ipython3",
   "version": "3.7.1"
  }
 },
 "nbformat": 4,
 "nbformat_minor": 4
}
