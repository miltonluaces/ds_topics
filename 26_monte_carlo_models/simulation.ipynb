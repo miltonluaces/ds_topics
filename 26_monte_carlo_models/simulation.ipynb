{
 "cells": [
  {
   "cell_type": "code",
   "execution_count": 1,
   "metadata": {},
   "outputs": [],
   "source": [
    "import simpy\n",
    "import random\n",
    "import statistics"
   ]
  },
  {
   "cell_type": "code",
   "execution_count": 2,
   "metadata": {},
   "outputs": [],
   "source": [
    "wait_times = []\n",
    "\n",
    "\n",
    "class Theater(object):\n",
    "    def __init__(self, env, num_cashiers, num_servers, num_ushers):\n",
    "        self.env = env\n",
    "        self.cashier = simpy.Resource(env, num_cashiers)\n",
    "        self.server = simpy.Resource(env, num_servers)\n",
    "        self.usher = simpy.Resource(env, num_ushers)\n",
    "\n",
    "    def purchase_ticket(self, moviegoer):\n",
    "        yield self.env.timeout(random.randint(1, 3))\n",
    "\n",
    "    def check_ticket(self, moviegoer):\n",
    "        yield self.env.timeout(3 / 60)\n",
    "\n",
    "    def sell_food(self, moviegoer):\n",
    "        yield self.env.timeout(random.randint(1, 5))\n",
    "\n",
    "\n",
    "def go_to_movies(env, moviegoer, theater):\n",
    "    # Moviegoer arrives at the theater\n",
    "    arrival_time = env.now\n",
    "\n",
    "    with theater.cashier.request() as request:\n",
    "        yield request\n",
    "        yield env.process(theater.purchase_ticket(moviegoer))\n",
    "\n",
    "    with theater.usher.request() as request:\n",
    "        yield request\n",
    "        yield env.process(theater.check_ticket(moviegoer))\n",
    "\n",
    "    if random.choice([True, False]):\n",
    "        with theater.server.request() as request:\n",
    "            yield request\n",
    "            yield env.process(theater.sell_food(moviegoer))\n",
    "\n",
    "    # Moviegoer heads into the theater\n",
    "    wait_times.append(env.now - arrival_time)\n",
    "\n",
    "\n",
    "def run_theater(env, num_cashiers, num_servers, num_ushers):\n",
    "    theater = Theater(env, num_cashiers, num_servers, num_ushers)\n",
    "\n",
    "    for moviegoer in range(3):\n",
    "        env.process(go_to_movies(env, moviegoer, theater))\n",
    "\n",
    "    while True:\n",
    "        yield env.timeout(0.20)  # Wait a bit before generating a new person\n",
    "\n",
    "        moviegoer += 1\n",
    "        env.process(go_to_movies(env, moviegoer, theater))\n",
    "\n",
    "\n",
    "def get_average_wait_time(wait_times):\n",
    "    average_wait = statistics.mean(wait_times)\n",
    "    # Pretty print the results\n",
    "    minutes, frac_minutes = divmod(average_wait, 1)\n",
    "    seconds = frac_minutes * 60\n",
    "    return round(minutes), round(seconds)"
   ]
  },
  {
   "cell_type": "code",
   "execution_count": 10,
   "metadata": {},
   "outputs": [],
   "source": [
    "num_cashiers = 3\n",
    "num_servers = 2\n",
    "num_ushers = 5"
   ]
  },
  {
   "cell_type": "code",
   "execution_count": 11,
   "metadata": {},
   "outputs": [
    {
     "name": "stdout",
     "output_type": "stream",
     "text": [
      "Running simulation... The average wait time is  33  minutes and  29  seconds.\n"
     ]
    }
   ],
   "source": [
    "env = simpy.Environment()\n",
    "env.process(run_theater(env, num_cashiers, num_servers, num_ushers))\n",
    "env.run(until=90)\n",
    "\n",
    "mins, secs = get_average_wait_time(wait_times)\n",
    "print('Running simulation... The average wait time is ', mins, ' minutes and ', secs ,' seconds.')"
   ]
  },
  {
   "cell_type": "code",
   "execution_count": null,
   "metadata": {},
   "outputs": [],
   "source": []
  }
 ],
 "metadata": {
  "kernelspec": {
   "display_name": "Python 3.8.1 64-bit",
   "language": "python",
   "name": "python38164bitc33de82c9da04edea88eb124459bf44a"
  },
  "language_info": {
   "codemirror_mode": {
    "name": "ipython",
    "version": 3
   },
   "file_extension": ".py",
   "mimetype": "text/x-python",
   "name": "python",
   "nbconvert_exporter": "python",
   "pygments_lexer": "ipython3",
   "version": "3.8.6"
  }
 },
 "nbformat": 4,
 "nbformat_minor": 4
}
