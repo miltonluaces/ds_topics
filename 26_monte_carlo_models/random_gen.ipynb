{
 "cells": [
  {
   "cell_type": "markdown",
   "metadata": {},
   "source": [
    "# Random number generation"
   ]
  },
  {
   "cell_type": "code",
   "execution_count": 47,
   "metadata": {},
   "outputs": [],
   "source": [
    "import os\n",
    "import uuid\n",
    "import numpy as np\n",
    "import random as rnd\n",
    "import quantumrandom as qr"
   ]
  },
  {
   "cell_type": "code",
   "execution_count": 26,
   "metadata": {},
   "outputs": [
    {
     "name": "stdout",
     "output_type": "stream",
     "text": [
      "\n",
      "Without seed\n",
      "0.08665954075608018\n",
      "0.09638896418131504\n",
      "0.764892613824658\n",
      "0.6364478405638219\n",
      "0.0018410020005535932\n",
      "\n",
      "With seed\n",
      "0.21388094274570746\n",
      "0.21388094274570746\n",
      "0.21388094274570746\n",
      "0.21388094274570746\n",
      "0.21388094274570746\n"
     ]
    }
   ],
   "source": [
    "print('\\nWithout seed')\n",
    "for _ in range(5):\n",
    "    print(rnd.random())\n",
    "print('\\nWith seed')\n",
    "for _ in range(5):\n",
    "    rnd.seed(354)\n",
    "    print(rnd.random())"
   ]
  },
  {
   "cell_type": "code",
   "execution_count": 12,
   "metadata": {},
   "outputs": [
    {
     "name": "stdout",
     "output_type": "stream",
     "text": [
      "9\n",
      "6\n",
      "8\n",
      "2\n",
      "4\n"
     ]
    }
   ],
   "source": [
    "for _ in range(5):\n",
    "    print(rnd.randint(0, 10))"
   ]
  },
  {
   "cell_type": "code",
   "execution_count": 13,
   "metadata": {},
   "outputs": [
    {
     "name": "stdout",
     "output_type": "stream",
     "text": [
      "28.382382606435037\n",
      "22.857541547812474\n",
      "28.940243716921294\n",
      "24.797480193335538\n",
      "22.842948577344345\n"
     ]
    }
   ],
   "source": [
    "for _ in range(5):\n",
    "    print(rnd.uniform(20, 30))"
   ]
  },
  {
   "cell_type": "code",
   "execution_count": 39,
   "metadata": {},
   "outputs": [
    {
     "name": "stdout",
     "output_type": "stream",
     "text": [
      "[ 0.61716089  0.65582454 -1.26706369 -0.90274215  1.05040894]\n"
     ]
    }
   ],
   "source": [
    "# from Normal distribution\n",
    "print(np.random.randn(5))"
   ]
  },
  {
   "cell_type": "code",
   "execution_count": 40,
   "metadata": {},
   "outputs": [
    {
     "data": {
      "text/plain": [
       "array([[0, 0, 1, 0],\n",
       "       [0, 0, 1, 1],\n",
       "       [0, 1, 0, 1],\n",
       "       [0, 0, 0, 0],\n",
       "       [0, 1, 1, 0]])"
      ]
     },
     "execution_count": 40,
     "metadata": {},
     "output_type": "execute_result"
    }
   ],
   "source": [
    "# from Empyrical (p : probabilities)\n",
    "np.random.choice([0, 1], p=[0.6, 0.4], size=(5, 4))"
   ]
  },
  {
   "cell_type": "code",
   "execution_count": 33,
   "metadata": {},
   "outputs": [
    {
     "name": "stdout",
     "output_type": "stream",
     "text": [
      "three\n",
      "four\n",
      "one\n",
      "one\n",
      "four\n"
     ]
    }
   ],
   "source": [
    "items = ['one', 'two', 'three', 'four', 'five']\n",
    "for _ in range(5):\n",
    "    print(rnd.choice(items))"
   ]
  },
  {
   "cell_type": "code",
   "execution_count": 31,
   "metadata": {},
   "outputs": [
    {
     "name": "stdout",
     "output_type": "stream",
     "text": [
      "['two', 'five', 'four', 'three']\n",
      "['five', 'three', 'one', 'four']\n",
      "['three', 'two', 'five', 'four']\n",
      "['five', 'three', 'two', 'one']\n",
      "['one', 'five', 'three', 'four']\n"
     ]
    }
   ],
   "source": [
    "# Sampling without replacement\n",
    "for _ in range(5):\n",
    "    print(rnd.sample(items, 4))"
   ]
  },
  {
   "cell_type": "code",
   "execution_count": 34,
   "metadata": {},
   "outputs": [
    {
     "name": "stdout",
     "output_type": "stream",
     "text": [
      "None\n"
     ]
    }
   ],
   "source": [
    "print(rnd.shuffle(items))"
   ]
  },
  {
   "cell_type": "markdown",
   "metadata": {},
   "source": [
    "### CSPRNG\n",
    "System Cryptography safe pseudo random number generation"
   ]
  },
  {
   "cell_type": "code",
   "execution_count": 44,
   "metadata": {},
   "outputs": [
    {
     "name": "stdout",
     "output_type": "stream",
     "text": [
      "b'\\x82\\x86\\x92'\n"
     ]
    },
    {
     "data": {
      "text/plain": [
       "[130, 134, 146]"
      ]
     },
     "execution_count": 44,
     "metadata": {},
     "output_type": "execute_result"
    }
   ],
   "source": [
    "x = os.urandom(3)\n",
    "print(x)\n",
    "list(x)"
   ]
  },
  {
   "cell_type": "markdown",
   "metadata": {},
   "source": [
    "### UUID"
   ]
  },
  {
   "cell_type": "code",
   "execution_count": 49,
   "metadata": {},
   "outputs": [
    {
     "data": {
      "text/plain": [
       "UUID('d4f0b0ed-0d34-4829-9227-097342449e3d')"
      ]
     },
     "execution_count": 49,
     "metadata": {},
     "output_type": "execute_result"
    }
   ],
   "source": [
    "uuid.uuid4()"
   ]
  },
  {
   "cell_type": "markdown",
   "metadata": {},
   "source": [
    "### Quantum random \n",
    "API with The ANU Quantum Random Number Generator (qrng.anu.edu.au)"
   ]
  },
  {
   "cell_type": "code",
   "execution_count": 48,
   "metadata": {},
   "outputs": [
    {
     "data": {
      "text/plain": [
       "[58168, 51188, 17632, 15125, 46287]"
      ]
     },
     "execution_count": 48,
     "metadata": {},
     "output_type": "execute_result"
    }
   ],
   "source": [
    "qr.get_data(data_type='uint16', array_length=5)"
   ]
  },
  {
   "cell_type": "markdown",
   "metadata": {},
   "source": [
    "## Credits & Links"
   ]
  },
  {
   "cell_type": "markdown",
   "metadata": {},
   "source": [
    "https://realpython.com/python-random/"
   ]
  }
 ],
 "metadata": {
  "kernelspec": {
   "display_name": "Python 3.8.1 64-bit",
   "language": "python",
   "name": "python38164bitc33de82c9da04edea88eb124459bf44a"
  },
  "language_info": {
   "codemirror_mode": {
    "name": "ipython",
    "version": 3
   },
   "file_extension": ".py",
   "mimetype": "text/x-python",
   "name": "python",
   "nbconvert_exporter": "python",
   "pygments_lexer": "ipython3",
   "version": "3.8.6"
  }
 },
 "nbformat": 4,
 "nbformat_minor": 4
}
