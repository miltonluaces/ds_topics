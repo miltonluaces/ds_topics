{
 "cells": [
  {
   "cell_type": "markdown",
   "metadata": {},
   "source": [
    "# Business problem solved with Monte Carlo simulation"
   ]
  },
  {
   "cell_type": "markdown",
   "metadata": {},
   "source": [
    "## Imports"
   ]
  },
  {
   "cell_type": "code",
   "execution_count": 1,
   "metadata": {},
   "outputs": [],
   "source": [
    "import pandas as pd\n",
    "import numpy as np\n",
    "import seaborn as sns\n",
    "\n",
    "sns.set_style('whitegrid')"
   ]
  },
  {
   "cell_type": "code",
   "execution_count": 2,
   "metadata": {},
   "outputs": [],
   "source": [
    "avg = 1\n",
    "std_dev = .1\n",
    "num_reps = 500\n",
    "num_simulations = 1000"
   ]
  },
  {
   "cell_type": "code",
   "execution_count": 4,
   "metadata": {},
   "outputs": [],
   "source": [
    "pct_to_target = np.random.normal(avg, std_dev, num_reps).round(2)\n",
    "\n",
    "sales_target_values = [75_000, 100_000, 200_000, 300_000, 400_000, 500_000]\n",
    "sales_target_prob = [.3, .3, .2, .1, .05, .05]\n",
    "sales_target = np.random.choice(sales_target_values, num_reps, p=sales_target_prob)\n",
    "\n",
    "df = pd.DataFrame(index=range(num_reps), data={'Pct_To_Target': pct_to_target, 'Sales_Target': sales_target})\n",
    "df['Sales'] = df['Pct_To_Target'] * df['Sales_Target']"
   ]
  },
  {
   "cell_type": "markdown",
   "metadata": {},
   "source": [
    "## Calculate commision rate"
   ]
  },
  {
   "cell_type": "markdown",
   "metadata": {},
   "source": [
    "Return the commission rate based on the table:  \n",
    "   - $0-90% = 2$%  \n",
    "   - $91-99% = 3$% \n",
    "   - $>= 100 = 4$%  "
   ]
  },
  {
   "cell_type": "code",
   "execution_count": 7,
   "metadata": {},
   "outputs": [],
   "source": [
    "def calc_commission_rate(x):\n",
    "    if x <= .90:\n",
    "        return .02\n",
    "    if x <= .99:\n",
    "        return .03\n",
    "    else:\n",
    "        return .04\n",
    "    \n",
    "df['Commission_Rate'] = df['Pct_To_Target'].apply(calc_commission_rate)\n",
    "df['Commission_Amount'] = df['Commission_Rate'] * df['Sales']"
   ]
  },
  {
   "cell_type": "markdown",
   "metadata": {},
   "source": [
    "## Loop"
   ]
  },
  {
   "cell_type": "code",
   "execution_count": 8,
   "metadata": {},
   "outputs": [],
   "source": [
    "# Define a list to keep all the results from each simulation that we want to analyze\n",
    "all_stats = []\n",
    "\n",
    "# Loop through many simulations\n",
    "for i in range(num_simulations):\n",
    "\n",
    "    # Choose random inputs for the sales targets and percent to target\n",
    "    sales_target = np.random.choice(sales_target_values, num_reps, p=sales_target_prob)\n",
    "    pct_to_target = np.random.normal(avg, std_dev, num_reps).round(2)\n",
    "\n",
    "    # Build the dataframe based on the inputs and number of reps\n",
    "    df = pd.DataFrame(index=range(num_reps), data={'Pct_To_Target': pct_to_target,\n",
    "                                                   'Sales_Target': sales_target})\n",
    "\n",
    "    # Back into the sales number using the percent to target rate\n",
    "    df['Sales'] = df['Pct_To_Target'] * df['Sales_Target']\n",
    "\n",
    "    # Determine the commissions rate and calculate it\n",
    "    df['Commission_Rate'] = df['Pct_To_Target'].apply(calc_commission_rate)\n",
    "    df['Commission_Amount'] = df['Commission_Rate'] * df['Sales']\n",
    "\n",
    "    # We want to track sales,commission amounts and sales targets over all the simulations\n",
    "    all_stats.append([df['Sales'].sum().round(0),\n",
    "                      df['Commission_Amount'].sum().round(0),\n",
    "                      df['Sales_Target'].sum().round(0)])"
   ]
  },
  {
   "cell_type": "markdown",
   "metadata": {},
   "source": [
    "## Show results"
   ]
  },
  {
   "cell_type": "code",
   "execution_count": 9,
   "metadata": {},
   "outputs": [
    {
     "data": {
      "text/html": [
       "<style  type=\"text/css\" >\n",
       "</style><table id=\"T_3bcc8080_21b6_11ea_9d59_38deadd84c2a\" ><thead>    <tr>        <th class=\"blank level0\" ></th>        <th class=\"col_heading level0 col0\" >Sales</th>        <th class=\"col_heading level0 col1\" >Commission_Amount</th>        <th class=\"col_heading level0 col2\" >Sales_Target</th>    </tr></thead><tbody>\n",
       "                <tr>\n",
       "                        <th id=\"T_3bcc8080_21b6_11ea_9d59_38deadd84c2alevel0_row0\" class=\"row_heading level0 row0\" >count</th>\n",
       "                        <td id=\"T_3bcc8080_21b6_11ea_9d59_38deadd84c2arow0_col0\" class=\"data row0 col0\" >1,000.0</td>\n",
       "                        <td id=\"T_3bcc8080_21b6_11ea_9d59_38deadd84c2arow0_col1\" class=\"data row0 col1\" >1,000.0</td>\n",
       "                        <td id=\"T_3bcc8080_21b6_11ea_9d59_38deadd84c2arow0_col2\" class=\"data row0 col2\" >1,000.0</td>\n",
       "            </tr>\n",
       "            <tr>\n",
       "                        <th id=\"T_3bcc8080_21b6_11ea_9d59_38deadd84c2alevel0_row1\" class=\"row_heading level0 row1\" >mean</th>\n",
       "                        <td id=\"T_3bcc8080_21b6_11ea_9d59_38deadd84c2arow1_col0\" class=\"data row1 col0\" >83,708,093.25</td>\n",
       "                        <td id=\"T_3bcc8080_21b6_11ea_9d59_38deadd84c2arow1_col1\" class=\"data row1 col1\" >2,858,278.511</td>\n",
       "                        <td id=\"T_3bcc8080_21b6_11ea_9d59_38deadd84c2arow1_col2\" class=\"data row1 col2\" >83,715,450.0</td>\n",
       "            </tr>\n",
       "            <tr>\n",
       "                        <th id=\"T_3bcc8080_21b6_11ea_9d59_38deadd84c2alevel0_row2\" class=\"row_heading level0 row2\" >std</th>\n",
       "                        <td id=\"T_3bcc8080_21b6_11ea_9d59_38deadd84c2arow2_col0\" class=\"data row2 col0\" >2,681,375.5509928856</td>\n",
       "                        <td id=\"T_3bcc8080_21b6_11ea_9d59_38deadd84c2arow2_col1\" class=\"data row2 col1\" >102,065.07089636964</td>\n",
       "                        <td id=\"T_3bcc8080_21b6_11ea_9d59_38deadd84c2arow2_col2\" class=\"data row2 col2\" >2,629,723.7011222765</td>\n",
       "            </tr>\n",
       "            <tr>\n",
       "                        <th id=\"T_3bcc8080_21b6_11ea_9d59_38deadd84c2alevel0_row3\" class=\"row_heading level0 row3\" >min</th>\n",
       "                        <td id=\"T_3bcc8080_21b6_11ea_9d59_38deadd84c2arow3_col0\" class=\"data row3 col0\" >75,931,000.0</td>\n",
       "                        <td id=\"T_3bcc8080_21b6_11ea_9d59_38deadd84c2arow3_col1\" class=\"data row3 col1\" >2,586,302.0</td>\n",
       "                        <td id=\"T_3bcc8080_21b6_11ea_9d59_38deadd84c2arow3_col2\" class=\"data row3 col2\" >76,100,000.0</td>\n",
       "            </tr>\n",
       "            <tr>\n",
       "                        <th id=\"T_3bcc8080_21b6_11ea_9d59_38deadd84c2alevel0_row4\" class=\"row_heading level0 row4\" >25%</th>\n",
       "                        <td id=\"T_3bcc8080_21b6_11ea_9d59_38deadd84c2arow4_col0\" class=\"data row4 col0\" >81,855,937.5</td>\n",
       "                        <td id=\"T_3bcc8080_21b6_11ea_9d59_38deadd84c2arow4_col1\" class=\"data row4 col1\" >2,785,366.5</td>\n",
       "                        <td id=\"T_3bcc8080_21b6_11ea_9d59_38deadd84c2arow4_col2\" class=\"data row4 col2\" >81,843,750.0</td>\n",
       "            </tr>\n",
       "            <tr>\n",
       "                        <th id=\"T_3bcc8080_21b6_11ea_9d59_38deadd84c2alevel0_row5\" class=\"row_heading level0 row5\" >50%</th>\n",
       "                        <td id=\"T_3bcc8080_21b6_11ea_9d59_38deadd84c2arow5_col0\" class=\"data row5 col0\" >83,642,875.0</td>\n",
       "                        <td id=\"T_3bcc8080_21b6_11ea_9d59_38deadd84c2arow5_col1\" class=\"data row5 col1\" >2,855,742.0</td>\n",
       "                        <td id=\"T_3bcc8080_21b6_11ea_9d59_38deadd84c2arow5_col2\" class=\"data row5 col2\" >83,650,000.0</td>\n",
       "            </tr>\n",
       "            <tr>\n",
       "                        <th id=\"T_3bcc8080_21b6_11ea_9d59_38deadd84c2alevel0_row6\" class=\"row_heading level0 row6\" >75%</th>\n",
       "                        <td id=\"T_3bcc8080_21b6_11ea_9d59_38deadd84c2arow6_col0\" class=\"data row6 col0\" >85,494,437.5</td>\n",
       "                        <td id=\"T_3bcc8080_21b6_11ea_9d59_38deadd84c2arow6_col1\" class=\"data row6 col1\" >2,926,562.75</td>\n",
       "                        <td id=\"T_3bcc8080_21b6_11ea_9d59_38deadd84c2arow6_col2\" class=\"data row6 col2\" >85,456,250.0</td>\n",
       "            </tr>\n",
       "            <tr>\n",
       "                        <th id=\"T_3bcc8080_21b6_11ea_9d59_38deadd84c2alevel0_row7\" class=\"row_heading level0 row7\" >max</th>\n",
       "                        <td id=\"T_3bcc8080_21b6_11ea_9d59_38deadd84c2arow7_col0\" class=\"data row7 col0\" >93,843,000.0</td>\n",
       "                        <td id=\"T_3bcc8080_21b6_11ea_9d59_38deadd84c2arow7_col1\" class=\"data row7 col1\" >3,284,705.0</td>\n",
       "                        <td id=\"T_3bcc8080_21b6_11ea_9d59_38deadd84c2arow7_col2\" class=\"data row7 col2\" >93,100,000.0</td>\n",
       "            </tr>\n",
       "    </tbody></table>"
      ],
      "text/plain": [
       "<pandas.io.formats.style.Styler at 0x26dc57ac588>"
      ]
     },
     "execution_count": 9,
     "metadata": {},
     "output_type": "execute_result"
    }
   ],
   "source": [
    "results_df = pd.DataFrame.from_records(all_stats, columns=['Sales', 'Commission_Amount', 'Sales_Target'])\n",
    "results_df.describe().style.format('{:,}')"
   ]
  },
  {
   "cell_type": "markdown",
   "metadata": {},
   "source": [
    "## Credits & Links"
   ]
  },
  {
   "cell_type": "markdown",
   "metadata": {},
   "source": [
    "https://pbpython.com/monte-carlo.html"
   ]
  }
 ],
 "metadata": {
  "kernelspec": {
   "display_name": "Python 3",
   "language": "python",
   "name": "python3"
  },
  "language_info": {
   "codemirror_mode": {
    "name": "ipython",
    "version": 3
   },
   "file_extension": ".py",
   "mimetype": "text/x-python",
   "name": "python",
   "nbconvert_exporter": "python",
   "pygments_lexer": "ipython3",
   "version": "3.7.1"
  }
 },
 "nbformat": 4,
 "nbformat_minor": 4
}
