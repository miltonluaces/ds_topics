{
 "cells": [
  {
   "cell_type": "code",
   "execution_count": 1,
   "metadata": {},
   "outputs": [],
   "source": [
    "from utilities.std_imports import *\n",
    "import time\n",
    "import argparse\n",
    "import torch\n",
    "import torch.nn as nn\n",
    "import torch.nn.functional as F\n",
    "import torch.utils.data\n",
    "import torch.optim as optim\n",
    "from torch.autograd import Variable"
   ]
  },
  {
   "cell_type": "code",
   "execution_count": 2,
   "metadata": {},
   "outputs": [
    {
     "name": "stdout",
     "output_type": "stream",
     "text": [
      "0\n",
      "True\n"
     ]
    }
   ],
   "source": [
    "print(torch.cuda.current_device())\n",
    "print(torch.cuda.is_available())"
   ]
  },
  {
   "cell_type": "code",
   "execution_count": 3,
   "metadata": {},
   "outputs": [
    {
     "name": "stdout",
     "output_type": "stream",
     "text": [
      "CPU  0.001993894577026367\n",
      "tensor([[       inf,        inf,        inf,        inf,        nan,        nan,\n",
      "                inf, 5.8098e+27,        inf, 3.1967e+27],\n",
      "        [       inf,        inf,        inf,        inf,        nan,        nan,\n",
      "                inf, 6.6230e+25,        inf,        inf],\n",
      "        [       inf,        inf,        inf,        inf,        nan,        nan,\n",
      "                inf,        inf,        inf,        inf],\n",
      "        [       inf,        inf,        inf,        inf,        nan,        nan,\n",
      "                inf,        inf,        inf,        inf],\n",
      "        [       inf,        inf,        inf,        inf,        nan,        nan,\n",
      "                inf,        inf,        inf,        inf],\n",
      "        [       inf,        inf,        inf,        inf,        nan,        nan,\n",
      "                inf,        inf,        inf,        inf],\n",
      "        [       inf,        inf,        inf,        inf,        nan,        nan,\n",
      "                inf, 2.2555e+33,        inf,        inf],\n",
      "        [       inf,        inf,        inf,        inf,        nan,        nan,\n",
      "                inf,        inf,        inf,        inf],\n",
      "        [       inf,        inf,        inf,        inf,        nan,        nan,\n",
      "                inf,        inf,        inf,        inf],\n",
      "        [       inf,        inf,        inf,        inf,        nan,        nan,\n",
      "                inf,        inf,        inf,        inf]])\n",
      "GPU  0.668245792388916\n",
      "tensor([[0., 0., 0., 0., 0., 0., 0., 0., 0., 0.],\n",
      "        [0., 0., 0., 0., 0., 0., 0., 0., 0., 0.],\n",
      "        [0., 0., 0., 0., 0., 0., 0., 0., 0., 0.],\n",
      "        [0., 0., 0., 0., 0., 0., 0., 0., 0., 0.],\n",
      "        [0., 0., 0., 0., 0., 0., 0., 0., 0., 0.],\n",
      "        [0., 0., 0., 0., 0., 0., 0., 0., 0., 0.],\n",
      "        [0., 0., 0., 0., 0., 0., 0., 0., 0., 0.],\n",
      "        [0., 0., 0., 0., 0., 0., 0., 0., 0., 0.],\n",
      "        [0., 0., 0., 0., 0., 0., 0., 0., 0., 0.],\n",
      "        [0., 0., 0., 0., 0., 0., 0., 0., 0., 0.]], device='cuda:0')\n"
     ]
    }
   ],
   "source": [
    "start = time.time()\n",
    "t1 = torch.FloatTensor(10,10)\n",
    "t2 = torch.FloatTensor(10,10)\n",
    "t3 = t1.matmul(t2)\n",
    "end = time.time()\n",
    "print('CPU ', end-start)\n",
    "print(t3)\n",
    "\n",
    "start = time.time()\n",
    "t1 = torch.cuda.FloatTensor(10,10)\n",
    "t2 = torch.cuda.FloatTensor(10,10)\n",
    "t3 = t1.matmul(t2)\n",
    "end = time.time()\n",
    "print('GPU ', end-start)\n",
    "print(t3)"
   ]
  },
  {
   "cell_type": "markdown",
   "metadata": {},
   "source": [
    "## From scratch"
   ]
  },
  {
   "cell_type": "code",
   "execution_count": 4,
   "metadata": {},
   "outputs": [],
   "source": [
    "#Input array\n",
    "X = torch.Tensor([[1,0,1,0],[1,0,1,1],[0,1,0,1]])\n",
    "\n",
    "#Output\n",
    "y = torch.Tensor([[1],[1],[0]])\n",
    "\n",
    "#Sigmoid Function\n",
    "def sigmoid (x):\n",
    "  return 1/(1 + torch.exp(-x))\n",
    "\n",
    "#Derivative of Sigmoid Function\n",
    "def deriv_sigmoid(x):\n",
    "  return x * (1 - x)\n",
    "\n",
    "#Hypers\n",
    "epochs=5000 \n",
    "lr=0.1 \n",
    "inp = X.shape[1] \n",
    "hid = 3\n",
    "out = 1\n",
    "\n",
    "# weight and bias initialization\n",
    "W_hid = torch.randn(inp, hid).type(torch.FloatTensor)\n",
    "b_hid = torch.randn(1, hid).type(torch.FloatTensor)\n",
    "W_out = torch.randn(hid, out)\n",
    "b_out = torch.randn(1, out)"
   ]
  },
  {
   "cell_type": "code",
   "execution_count": 5,
   "metadata": {},
   "outputs": [
    {
     "data": {
      "text/plain": [
       "('actual:',\n",
       " tensor([[1.],\n",
       "         [1.],\n",
       "         [0.]]),\n",
       " 'predicted:',\n",
       " tensor([[0.9840],\n",
       "         [0.9756],\n",
       "         [0.0371]]))"
      ]
     },
     "execution_count": 5,
     "metadata": {},
     "output_type": "execute_result"
    }
   ],
   "source": [
    "for i in range(epochs):\n",
    "\n",
    "  #Forward step\n",
    "  hid_inp1 = torch.mm(X, W_hid)\n",
    "  hid_inp = hid_inp1 + b_hid\n",
    "  hid_act = sigmoid(hid_inp)\n",
    " \n",
    "  out_inp1 = torch.mm(hid_act, W_out)\n",
    "  out_inp = out_inp1 + b_out\n",
    "  out = sigmoid(out_inp1)\n",
    "\n",
    "  #Backward step\n",
    "  E = y-out\n",
    "  slope_out = deriv_sigmoid(out)\n",
    "  slope_hid = deriv_sigmoid(hid_act)\n",
    "  d_out = E * slope_out\n",
    "  err_hid = torch.mm(d_out, W_out.t())\n",
    "  d_hid = err_hid * slope_hid\n",
    "  W_out += torch.mm(hid_act.t(), d_out) * lr\n",
    "  b_out += d_out.sum() * lr\n",
    "  W_hid += torch.mm(X.t(), d_hid) * lr\n",
    "  b_hid += d_out.sum() * lr\n",
    " \n",
    "'actual:', y, 'predicted:', out"
   ]
  },
  {
   "cell_type": "code",
   "execution_count": 38,
   "metadata": {},
   "outputs": [
    {
     "data": {
      "text/plain": [
       "tensor([[0.4851],\n",
       "        [0.4196],\n",
       "        [0.4564]], grad_fn=<AddmmBackward>)"
      ]
     },
     "execution_count": 38,
     "metadata": {},
     "output_type": "execute_result"
    }
   ],
   "source": [
    "ff = FF(inp=4, hid=3)\n",
    "ff.forward(X)"
   ]
  },
  {
   "cell_type": "code",
   "execution_count": 41,
   "metadata": {},
   "outputs": [
    {
     "data": {
      "text/plain": [
       "('actual:',\n",
       " tensor([[1.],\n",
       "         [1.],\n",
       "         [0.]]),\n",
       " 'predicted:',\n",
       " tensor([[0.4851],\n",
       "         [0.4196],\n",
       "         [0.4564]], grad_fn=<AddmmBackward>))"
      ]
     },
     "execution_count": 41,
     "metadata": {},
     "output_type": "execute_result"
    }
   ],
   "source": [
    "for _ in range(epochs):\n",
    "      out = ff.forward(X)  \n",
    " \n",
    "'actual:', y, 'predicted:', out"
   ]
  },
  {
   "cell_type": "markdown",
   "metadata": {},
   "source": [
    "## Credits & Links"
   ]
  },
  {
   "cell_type": "markdown",
   "metadata": {},
   "source": [
    "https://towardsdatascience.com/how-to-train-your-neural-net-tensors-and-autograd-941f2c4cc77c\n",
    "https://www.analyticsvidhya.com/blog/2018/02/pytorch-tutorial/"
   ]
  }
 ],
 "metadata": {
  "kernelspec": {
   "display_name": "Python 3",
   "language": "python",
   "name": "python3"
  },
  "language_info": {
   "codemirror_mode": {
    "name": "ipython",
    "version": 3
   },
   "file_extension": ".py",
   "mimetype": "text/x-python",
   "name": "python",
   "nbconvert_exporter": "python",
   "pygments_lexer": "ipython3",
   "version": "3.8.6"
  }
 },
 "nbformat": 4,
 "nbformat_minor": 4
}
