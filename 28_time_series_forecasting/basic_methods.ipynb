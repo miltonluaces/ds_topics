{
 "cells": [
  {
   "cell_type": "code",
   "execution_count": null,
   "metadata": {},
   "outputs": [],
   "source": [
    "#from Forecasting import *\n",
    "import statsmodels\n",
    "from statsmodels.tsa.api import ExponentialSmoothing, SimpleExpSmoothing, Holt\n",
    "   \n",
    "# Naive Forecast\n",
    "def Naive(ts, hor):\n",
    "    fcst = np.full(shape=hor, fill_value=ts[len(ts)-1])\n",
    "    return fcst\n",
    "\n",
    "# Simple Average\n",
    "def SimpleAvg(ts, hor):\n",
    "    mean = ts.mean()\n",
    "    fcst = np.full(shape=hor, fill_value=mean)\n",
    "    return fcst\n",
    "\n",
    "# Moving Average\n",
    "def MovingAvg(ts, hor, mw):\n",
    "    mean = ts[-mw:].mean()\n",
    "    fcst = np.full(shape=hor, fill_value=mean)\n",
    "    return fcst\n",
    " \n",
    "# Exponential Smoothing\n",
    "def ExpSmooth(ts, hor, sl):\n",
    "    fit = SimpleExpSmoothing(ts).fit(smoothing_level=sl, optimized=False)\n",
    "    fcst = fit.forecast(hor)\n",
    "    return fcst\n",
    "\n",
    "# Holt-Winters Linear\n",
    "def HoltWintersLin(ts, hor, sl, ss):\n",
    "    fit = Holt(ts).fit(smoothing_level = sl,smoothing_slope = ss)\n",
    "    fcst = fit.forecast(hor)\n",
    "    return fcst\n",
    "\n",
    "# Holt-Winters \n",
    "def HoltWinters(ts, hor, sp, trd, sea):\n",
    "    fit = ExponentialSmoothing(ts ,seasonal_periods=sp ,trend=trd, seasonal=sea,).fit()\n",
    "    fcst = fit.forecast(hor)\n",
    "    return fcst\n",
    "  \n",
    "# ARIMA\n",
    "def Arima(ts, hor):\n",
    "    fit = statsmodels.tsa.statespace.sarimax.SARIMAX(len(ts), order=(2, 1, 4),seasonal_order=(0,1,1,7)).fit()\n",
    "    fcst = fit.predict(start=\"2013-11-1\", end=\"2013-12-31\", dynamic=True)\n",
    "    return fcst"
   ]
  }
 ],
 "metadata": {
  "kernelspec": {
   "display_name": "Python 3",
   "language": "python",
   "name": "python3"
  },
  "language_info": {
   "codemirror_mode": {
    "name": "ipython",
    "version": 3
   },
   "file_extension": ".py",
   "mimetype": "text/x-python",
   "name": "python",
   "nbconvert_exporter": "python",
   "pygments_lexer": "ipython3",
   "version": "3.8.1"
  }
 },
 "nbformat": 4,
 "nbformat_minor": 4
}
