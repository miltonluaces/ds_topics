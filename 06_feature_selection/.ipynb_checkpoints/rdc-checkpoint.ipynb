{
 "cells": [
  {
   "cell_type": "code",
   "execution_count": 1,
   "metadata": {},
   "outputs": [
    {
     "ename": "SyntaxError",
     "evalue": "invalid syntax (<ipython-input-1-95101ce78706>, line 2)",
     "output_type": "error",
     "traceback": [
      "\u001b[1;36m  File \u001b[1;32m\"<ipython-input-1-95101ce78706>\"\u001b[1;36m, line \u001b[1;32m2\u001b[0m\n\u001b[1;33m    http://papers.nips.cc/paper/5138-the-randomized-dependence-coefficient.pdf\u001b[0m\n\u001b[1;37m          ^\u001b[0m\n\u001b[1;31mSyntaxError\u001b[0m\u001b[1;31m:\u001b[0m invalid syntax\n"
     ]
    }
   ],
   "source": [
    "# Randomized Dependence Coefficient (to refactor)\n",
    "http://papers.nips.cc/paper/5138-the-randomized-dependence-coefficient.pdf\n",
    "\n",
    "import numpy as np\n",
    "from scipy.stats import rankdata\n",
    "\n",
    "def rdc(x, y, f=np.sin, k=20, s=1/6., n=1):\n",
    "    \"\"\"\n",
    "    Computes the Randomized Dependence Coefficient\n",
    "    x,y: numpy arrays 1-D or 2-D\n",
    "         If 1-D, size (samples,)\n",
    "         If 2-D, size (samples, variables)\n",
    "    f:   function to use for random projection\n",
    "    k:   number of random projections to use\n",
    "    s:   scale parameter\n",
    "    n:   number of times to compute the RDC and\n",
    "         return the median (for stability)\n",
    "    According to the paper, the coefficient should be relatively insensitive to\n",
    "    the settings of the f, k, and s parameters.\n",
    "    \"\"\"\n",
    "    if n > 1:\n",
    "        values = []\n",
    "        for i in range(n):\n",
    "            try:\n",
    "                values.append(rdc(x, y, f, k, s, 1))\n",
    "            except np.linalg.linalg.LinAlgError: pass\n",
    "        return np.median(values)\n",
    "\n",
    "    if len(x.shape) == 1: x = x.reshape((-1, 1))\n",
    "    if len(y.shape) == 1: y = y.reshape((-1, 1))\n",
    "\n",
    "    # Copula Transformation\n",
    "    cx = np.column_stack([rankdata(xc, method='ordinal') for xc in x.T])/float(x.size)\n",
    "    cy = np.column_stack([rankdata(yc, method='ordinal') for yc in y.T])/float(y.size)\n",
    "\n",
    "    # Add a vector of ones so that w.x + b is just a dot product\n",
    "    O = np.ones(cx.shape[0])\n",
    "    X = np.column_stack([cx, O])\n",
    "    Y = np.column_stack([cy, O])\n",
    "\n",
    "    # Random linear projections\n",
    "    Rx = (s/X.shape[1])*np.random.randn(X.shape[1], k)\n",
    "    Ry = (s/Y.shape[1])*np.random.randn(Y.shape[1], k)\n",
    "    X = np.dot(X, Rx)\n",
    "    Y = np.dot(Y, Ry)\n",
    "\n",
    "    # Apply non-linear function to random projections\n",
    "    fX = f(X)\n",
    "    fY = f(Y)\n",
    "\n",
    "    # Compute full covariance matrix\n",
    "    C = np.cov(np.hstack([fX, fY]).T)\n",
    "\n",
    "    # Due to numerical issues, if k is too large,\n",
    "    # then rank(fX) < k or rank(fY) < k, so we need\n",
    "    # to find the largest k such that the eigenvalues\n",
    "    # (canonical correlations) are real-valued\n",
    "    k0 = k\n",
    "    lb = 1\n",
    "    ub = k\n",
    "    while True:\n",
    "\n",
    "        # Compute canonical correlations\n",
    "        Cxx = C[:k, :k]\n",
    "        Cyy = C[k0:k0+k, k0:k0+k]\n",
    "        Cxy = C[:k, k0:k0+k]\n",
    "        Cyx = C[k0:k0+k, :k]\n",
    "\n",
    "        eigs = np.linalg.eigvals(np.dot(np.dot(np.linalg.inv(Cxx), Cxy),\n",
    "                                        np.dot(np.linalg.inv(Cyy), Cyx)))\n",
    "\n",
    "        # Binary search if k is too large\n",
    "        if not (np.all(np.isreal(eigs)) and\n",
    "                0 <= np.min(eigs) and\n",
    "                np.max(eigs) <= 1):\n",
    "            ub -= 1\n",
    "            k = (ub + lb) / 2\n",
    "            continue\n",
    "        if lb == ub: break\n",
    "        lb = k\n",
    "        if ub == lb + 1:\n",
    "            k = ub\n",
    "        else:\n",
    "            k = (ub + lb) / 2\n",
    "\n",
    "    return np.sqrt(np.max(eigs))\n"
   ]
  },
  {
   "cell_type": "markdown",
   "metadata": {},
   "source": [
    "## Credits & Links"
   ]
  },
  {
   "cell_type": "markdown",
   "metadata": {},
   "source": [
    "http://papers.nips.cc/paper/5138-the-randomized-dependence-coefficient.pdf"
   ]
  }
 ],
 "metadata": {
  "kernelspec": {
   "display_name": "Python 3",
   "language": "python",
   "name": "python3"
  },
  "language_info": {
   "codemirror_mode": {
    "name": "ipython",
    "version": 3
   },
   "file_extension": ".py",
   "mimetype": "text/x-python",
   "name": "python",
   "nbconvert_exporter": "python",
   "pygments_lexer": "ipython3",
   "version": "3.7.1"
  }
 },
 "nbformat": 4,
 "nbformat_minor": 4
}
