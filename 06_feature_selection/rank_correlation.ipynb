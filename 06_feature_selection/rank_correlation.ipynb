{
 "cells": [
  {
   "cell_type": "code",
   "execution_count": null,
   "metadata": {},
   "outputs": [],
   "source": [
    "from scipy.stats import spearmanr\n",
    "from scipy.stats import kendalltau\n",
    "\n",
    "\n",
    "a = [1,2,3,4,5]\n",
    "b = [5,6,7,8,7]\n",
    "rc = spearmanr(a,b)\n",
    "print(rc)\n",
    "print('coeff = ', '{0:.2f}'.format(rc[0]))\n",
    "print('pVal = ', '{0:.2f}'.format(rc[1]))\n",
    "\n",
    "\n",
    "# generate related variables\n",
    "from numpy.random import rand\n",
    "from numpy.random import seed\n",
    "from matplotlib import pyplot\n",
    "seed(1)\n",
    "# prepare data\n",
    "data1 = rand(1000) * 20\n",
    "data2 = data1 + (rand(1000) * 10)\n",
    "# plot\n",
    "pyplot.scatter(data1, data2)\n",
    "pyplot.show()\n",
    "\n",
    "# Spearman's correlation\n",
    "# Ordinal scale: r corr on ranks\n",
    "coef, p = spearmanr(data1, data2)\n",
    "print('\\nSpearman correlation')\n",
    "print('coeff = ', '{0:.2f}'.format(coef))\n",
    "print('pVal = ', '{0:.2f}'.format(p))\n",
    "\n",
    "\t\n",
    "# Kendall's correlation\n",
    "# Normalized score of the correspondant ranks\n",
    "coef, p = kendalltau(data1, data2)\n",
    "print('\\nKendall correlation')\n",
    "print('coeff = ', '{0:.2f}'.format(coef))\n",
    "print('pVal = ', '{0:.2f}'.format(p))\n"
   ]
  },
  {
   "cell_type": "code",
   "execution_count": null,
   "metadata": {},
   "outputs": [],
   "source": []
  }
 ],
 "metadata": {
  "kernelspec": {
   "display_name": "Python 3",
   "language": "python",
   "name": "python3"
  },
  "language_info": {
   "name": ""
  }
 },
 "nbformat": 4,
 "nbformat_minor": 4
}
