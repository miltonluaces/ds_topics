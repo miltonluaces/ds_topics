{
 "cells": [
  {
   "cell_type": "markdown",
   "metadata": {},
   "source": [
    "# Correlation Analysis"
   ]
  },
  {
   "cell_type": "code",
   "execution_count": null,
   "metadata": {},
   "outputs": [],
   "source": [
    "import numpy as np\n",
    "import pandas as pd\n",
    "from scipy.stats.stats import pearsonr   \n",
    "from scipy.stats.stats import spearmanr   \n",
    "import statsmodels.api as sm\n",
    "from statsmodels.stats.outliers_influence import variance_inflation_factor    "
   ]
  },
  {
   "cell_type": "markdown",
   "metadata": {},
   "source": [
    "## Correlation"
   ]
  },
  {
   "cell_type": "code",
   "execution_count": 21,
   "metadata": {},
   "outputs": [
    {
     "data": {
      "text/html": [
       "<style  type=\"text/css\" >\n",
       "</style><table id=\"T_8ee1f5fc_69cf_11ea_83a5_38deadd84c2a\" ><thead>    <tr>        <th class=\"col_heading level0 col0\" >R</th>        <th class=\"col_heading level0 col1\" >R2</th>        <th class=\"col_heading level0 col2\" >p</th>    </tr></thead><tbody>\n",
       "                <tr>\n",
       "                                <td id=\"T_8ee1f5fc_69cf_11ea_83a5_38deadd84c2arow0_col0\" class=\"data row0 col0\" >0.99</td>\n",
       "                        <td id=\"T_8ee1f5fc_69cf_11ea_83a5_38deadd84c2arow0_col1\" class=\"data row0 col1\" >0.99</td>\n",
       "                        <td id=\"T_8ee1f5fc_69cf_11ea_83a5_38deadd84c2arow0_col2\" class=\"data row0 col2\" >0.07</td>\n",
       "            </tr>\n",
       "            <tr>\n",
       "                                <td id=\"T_8ee1f5fc_69cf_11ea_83a5_38deadd84c2arow1_col0\" class=\"data row1 col0\" >1.00</td>\n",
       "                        <td id=\"T_8ee1f5fc_69cf_11ea_83a5_38deadd84c2arow1_col1\" class=\"data row1 col1\" >1.00</td>\n",
       "                        <td id=\"T_8ee1f5fc_69cf_11ea_83a5_38deadd84c2arow1_col2\" class=\"data row1 col2\" >0.00</td>\n",
       "            </tr>\n",
       "    </tbody></table>"
      ],
      "text/plain": [
       "<pandas.io.formats.style.Styler at 0x230755256d0>"
      ]
     },
     "execution_count": 21,
     "metadata": {},
     "output_type": "execute_result"
    }
   ],
   "source": [
    "import pandas as pd\n",
    "from scipy.stats.stats import pearsonr   \n",
    "from scipy.stats.stats import spearmanr   \n",
    "\n",
    "\n",
    "a = [1,4,6]\n",
    "b = [1,2,3]   \n",
    "\n",
    "pear = pearsonr(a,b)\n",
    "spea = spearmanr(a,b)\n",
    "\n",
    "df = pd.DataFrame({'R': ['{0:.2f}'.format(pear[0]), '{0:.2f}'.format(spea[0])], \n",
    "                  'R2': ['{0:.2f}'.format(pear[0]**2), '{0:.2f}'.format(spea[0]**2)], \n",
    "                  'p' : ['{0:.2f}'.format(pear[1]), '{0:.2f}'.format(spea[1])]})\n",
    "\n",
    "df.style.hide_index()"
   ]
  },
  {
   "cell_type": "markdown",
   "metadata": {},
   "source": [
    "## Multicollinearity"
   ]
  },
  {
   "cell_type": "code",
   "execution_count": 24,
   "metadata": {},
   "outputs": [],
   "source": [
    "import pandas as pd\n",
    "import numpy as np\n",
    "from patsy import dmatrices\n",
    "import statsmodels.api as sm\n",
    "from statsmodels.stats.outliers_influence import variance_inflation_factor    "
   ]
  },
  {
   "cell_type": "markdown",
   "metadata": {},
   "source": [
    "#### Load data"
   ]
  },
  {
   "cell_type": "code",
   "execution_count": 41,
   "metadata": {},
   "outputs": [
    {
     "data": {
      "text/html": [
       "<div>\n",
       "<style scoped>\n",
       "    .dataframe tbody tr th:only-of-type {\n",
       "        vertical-align: middle;\n",
       "    }\n",
       "\n",
       "    .dataframe tbody tr th {\n",
       "        vertical-align: top;\n",
       "    }\n",
       "\n",
       "    .dataframe thead th {\n",
       "        text-align: right;\n",
       "    }\n",
       "</style>\n",
       "<table border=\"1\" class=\"dataframe\">\n",
       "  <thead>\n",
       "    <tr style=\"text-align: right;\">\n",
       "      <th></th>\n",
       "      <th>ApplicantIncome</th>\n",
       "      <th>CoapplicantIncome</th>\n",
       "      <th>LoanAmount</th>\n",
       "      <th>Loan_Amount_Term</th>\n",
       "      <th>Credit_History</th>\n",
       "    </tr>\n",
       "  </thead>\n",
       "  <tbody>\n",
       "    <tr>\n",
       "      <th>1</th>\n",
       "      <td>4583</td>\n",
       "      <td>1508.0</td>\n",
       "      <td>128.0</td>\n",
       "      <td>360.0</td>\n",
       "      <td>1.0</td>\n",
       "    </tr>\n",
       "    <tr>\n",
       "      <th>2</th>\n",
       "      <td>3000</td>\n",
       "      <td>0.0</td>\n",
       "      <td>66.0</td>\n",
       "      <td>360.0</td>\n",
       "      <td>1.0</td>\n",
       "    </tr>\n",
       "    <tr>\n",
       "      <th>3</th>\n",
       "      <td>2583</td>\n",
       "      <td>2358.0</td>\n",
       "      <td>120.0</td>\n",
       "      <td>360.0</td>\n",
       "      <td>1.0</td>\n",
       "    </tr>\n",
       "    <tr>\n",
       "      <th>4</th>\n",
       "      <td>6000</td>\n",
       "      <td>0.0</td>\n",
       "      <td>141.0</td>\n",
       "      <td>360.0</td>\n",
       "      <td>1.0</td>\n",
       "    </tr>\n",
       "    <tr>\n",
       "      <th>5</th>\n",
       "      <td>5417</td>\n",
       "      <td>4196.0</td>\n",
       "      <td>267.0</td>\n",
       "      <td>360.0</td>\n",
       "      <td>1.0</td>\n",
       "    </tr>\n",
       "  </tbody>\n",
       "</table>\n",
       "</div>"
      ],
      "text/plain": [
       "   ApplicantIncome  CoapplicantIncome  LoanAmount  Loan_Amount_Term  \\\n",
       "1             4583             1508.0       128.0             360.0   \n",
       "2             3000                0.0        66.0             360.0   \n",
       "3             2583             2358.0       120.0             360.0   \n",
       "4             6000                0.0       141.0             360.0   \n",
       "5             5417             4196.0       267.0             360.0   \n",
       "\n",
       "   Credit_History  \n",
       "1             1.0  \n",
       "2             1.0  \n",
       "3             1.0  \n",
       "4             1.0  \n",
       "5             1.0  "
      ]
     },
     "execution_count": 41,
     "metadata": {},
     "output_type": "execute_result"
    }
   ],
   "source": [
    "df = pd.read_csv('D:/data/csv/loanTrain.csv')\n",
    "df= df.dropna()\n",
    "df = df._get_numeric_data() \n",
    "df.head()"
   ]
  },
  {
   "cell_type": "markdown",
   "metadata": {},
   "source": [
    "#### Calculate VIF and show results"
   ]
  },
  {
   "cell_type": "code",
   "execution_count": 42,
   "metadata": {},
   "outputs": [
    {
     "data": {
      "text/html": [
       "<style  type=\"text/css\" >\n",
       "</style><table id=\"T_c9012759_69d1_11ea_89fe_38deadd84c2a\" ><thead>    <tr>        <th class=\"col_heading level0 col0\" >Feature</th>        <th class=\"col_heading level0 col1\" >VIF Factor</th>    </tr></thead><tbody>\n",
       "                <tr>\n",
       "                                <td id=\"T_c9012759_69d1_11ea_89fe_38deadd84c2arow0_col0\" class=\"data row0 col0\" >ApplicantIncome</td>\n",
       "                        <td id=\"T_c9012759_69d1_11ea_89fe_38deadd84c2arow0_col1\" class=\"data row0 col1\" >2.670000</td>\n",
       "            </tr>\n",
       "            <tr>\n",
       "                                <td id=\"T_c9012759_69d1_11ea_89fe_38deadd84c2arow1_col0\" class=\"data row1 col0\" >CoapplicantIncome</td>\n",
       "                        <td id=\"T_c9012759_69d1_11ea_89fe_38deadd84c2arow1_col1\" class=\"data row1 col1\" >1.500000</td>\n",
       "            </tr>\n",
       "            <tr>\n",
       "                                <td id=\"T_c9012759_69d1_11ea_89fe_38deadd84c2arow2_col0\" class=\"data row2 col0\" >LoanAmount</td>\n",
       "                        <td id=\"T_c9012759_69d1_11ea_89fe_38deadd84c2arow2_col1\" class=\"data row2 col1\" >5.960000</td>\n",
       "            </tr>\n",
       "            <tr>\n",
       "                                <td id=\"T_c9012759_69d1_11ea_89fe_38deadd84c2arow3_col0\" class=\"data row3 col0\" >Loan_Amount_Term</td>\n",
       "                        <td id=\"T_c9012759_69d1_11ea_89fe_38deadd84c2arow3_col1\" class=\"data row3 col1\" >8.320000</td>\n",
       "            </tr>\n",
       "            <tr>\n",
       "                                <td id=\"T_c9012759_69d1_11ea_89fe_38deadd84c2arow4_col0\" class=\"data row4 col0\" >Credit_History</td>\n",
       "                        <td id=\"T_c9012759_69d1_11ea_89fe_38deadd84c2arow4_col1\" class=\"data row4 col1\" >5.860000</td>\n",
       "            </tr>\n",
       "    </tbody></table>"
      ],
      "text/plain": [
       "<pandas.io.formats.style.Styler at 0x230755b4df0>"
      ]
     },
     "execution_count": 42,
     "metadata": {},
     "output_type": "execute_result"
    }
   ],
   "source": [
    "vif = [variance_inflation_factor(df.values, i) for i in range(df.shape[1])]\n",
    "\n",
    "vifDf = pd.DataFrame()\n",
    "vifDf[\"Feature\"] = df.columns\n",
    "vifDf[\"VIF Factor\"] = vif\n",
    "vifDf.round(2).style.hide_index()"
   ]
  },
  {
   "cell_type": "markdown",
   "metadata": {},
   "source": [
    "## Credits & Links"
   ]
  },
  {
   "cell_type": "markdown",
   "metadata": {},
   "source": [
    "https://etav.github.io/python/vif_factor_python.html"
   ]
  }
 ],
 "metadata": {
  "kernelspec": {
   "display_name": "Python 3",
   "language": "python",
   "name": "python3"
  },
  "language_info": {
   "codemirror_mode": {
    "name": "ipython",
    "version": 3
   },
   "file_extension": ".py",
   "mimetype": "text/x-python",
   "name": "python",
   "nbconvert_exporter": "python",
   "pygments_lexer": "ipython3",
   "version": "3.8.6"
  }
 },
 "nbformat": 4,
 "nbformat_minor": 4
}
