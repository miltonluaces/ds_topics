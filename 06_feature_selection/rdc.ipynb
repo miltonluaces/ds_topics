{
 "cells": [
  {
   "cell_type": "markdown",
   "metadata": {},
   "source": [
    "# Randomized Dependence Coefficient"
   ]
  },
  {
   "cell_type": "markdown",
   "metadata": {},
   "source": [
    "## Imports"
   ]
  },
  {
   "cell_type": "code",
   "execution_count": 1,
   "metadata": {},
   "outputs": [],
   "source": [
    "import numpy as np\n",
    "from scipy.stats import rankdata\n",
    "from numpy.random import rand"
   ]
  },
  {
   "cell_type": "markdown",
   "metadata": {},
   "source": [
    "Computes the Randomized Dependence Coefficient  \n",
    "    x,y: numpy arrays 1-D or 2-D  \n",
    "         If 1-D, size (samples,)  \n",
    "         If 2-D, size (samples, variables)  \n",
    "    f:   function to use for random projection  \n",
    "    k:   number of random projections to use  \n",
    "    s:   scale parameter  \n",
    "    n:   number of times to compute the RDC andreturn the median (for stability)  \n",
    "    According to the paper, the coefficient should be relatively insensitive to the settings of the f, k, and s parameters."
   ]
  },
  {
   "cell_type": "code",
   "execution_count": 2,
   "metadata": {},
   "outputs": [],
   "source": [
    "def rdc(x, y, f=np.sin, k=20, s=1/6., n=1):\n",
    "    if n > 1:\n",
    "        values = []\n",
    "        for i in range(n):\n",
    "            try: values.append(rdc(x, y, f, k, s, 1))\n",
    "            except np.linalg.linalg.LinAlgError: pass\n",
    "        return np.median(values)\n",
    "\n",
    "    if len(x.shape) == 1: x = x.reshape((-1, 1))\n",
    "    if len(y.shape) == 1: y = y.reshape((-1, 1))\n",
    "\n",
    "    # Copula Transformation\n",
    "    cx = np.column_stack([rankdata(xc, method='ordinal') for xc in x.T])/float(x.size)\n",
    "    cy = np.column_stack([rankdata(yc, method='ordinal') for yc in y.T])/float(y.size)\n",
    "\n",
    "    # Add a vector of ones so that w.x + b is just a dot product\n",
    "    O = np.ones(cx.shape[0])\n",
    "    X = np.column_stack([cx, O])\n",
    "    Y = np.column_stack([cy, O])\n",
    "\n",
    "    # Random linear projections\n",
    "    Rx = (s/X.shape[1]) * np.random.randn(X.shape[1], k)\n",
    "    Ry = (s/Y.shape[1]) * np.random.randn(Y.shape[1], k)\n",
    "    X = np.dot(X, Rx)\n",
    "    Y = np.dot(Y, Ry)\n",
    "\n",
    "    # Apply non-linear function to random projections\n",
    "    fX = f(X)\n",
    "    fY = f(Y)\n",
    "\n",
    "    # Compute full covariance matrix\n",
    "    C = np.cov(np.hstack([fX, fY]).T)\n",
    "\n",
    "    # Due to numerical issues, if k is too large,\n",
    "    # then rank(fX) < k or rank(fY) < k, so we need\n",
    "    # to find the largest k such that the eigenvalues\n",
    "    # (canonical correlations) are real-valued\n",
    "    k0 = k\n",
    "    lb = 1\n",
    "    ub = k\n",
    "    while True:\n",
    "       # Compute canonical correlations\n",
    "        k = int(k)\n",
    "        k0 = int(k0)\n",
    "        Cxx = C[:k, :k]\n",
    "        Cyy = C[k0:k0+k, k0:k0+k]\n",
    "        Cxy = C[:k, k0:k0+k]\n",
    "        Cyx = C[k0:k0+k, :k]\n",
    "\n",
    "        eigs = np.linalg.eigvals(np.dot(np.dot(np.linalg.inv(Cxx), Cxy),\n",
    "                                        np.dot(np.linalg.inv(Cyy), Cyx)))\n",
    "\n",
    "        # Binary search if k is too large\n",
    "        if not (np.all(np.isreal(eigs)) and\n",
    "                0 <= np.min(eigs) and\n",
    "                np.max(eigs) <= 1):\n",
    "            ub -= 1\n",
    "            k = (ub + lb) / 2\n",
    "            continue\n",
    "        if lb == ub: break\n",
    "        lb = k\n",
    "        if ub == lb + 1:\n",
    "            k = ub\n",
    "        else:\n",
    "            k = (ub + lb) / 2\n",
    "\n",
    "    return np.sqrt(np.max(eigs))"
   ]
  },
  {
   "cell_type": "markdown",
   "metadata": {},
   "source": [
    "## Testing"
   ]
  },
  {
   "cell_type": "code",
   "execution_count": 3,
   "metadata": {},
   "outputs": [
    {
     "ename": "LinAlgError",
     "evalue": "Singular matrix",
     "output_type": "error",
     "traceback": [
      "\u001b[1;31m---------------------------------------------------------------------------\u001b[0m",
      "\u001b[1;31mLinAlgError\u001b[0m                               Traceback (most recent call last)",
      "\u001b[1;32m<ipython-input-3-6724c814dbd4>\u001b[0m in \u001b[0;36m<module>\u001b[1;34m\u001b[0m\n\u001b[0;32m      2\u001b[0m \u001b[0mb\u001b[0m \u001b[1;33m=\u001b[0m \u001b[0mnp\u001b[0m\u001b[1;33m.\u001b[0m\u001b[0marray\u001b[0m\u001b[1;33m(\u001b[0m\u001b[1;33m[\u001b[0m\u001b[1;36m5\u001b[0m\u001b[1;33m,\u001b[0m\u001b[1;36m6\u001b[0m\u001b[1;33m,\u001b[0m\u001b[1;36m3\u001b[0m\u001b[1;33m,\u001b[0m\u001b[1;36m8\u001b[0m\u001b[1;33m,\u001b[0m\u001b[1;36m7\u001b[0m\u001b[1;33m,\u001b[0m \u001b[1;36m44\u001b[0m\u001b[1;33m,\u001b[0m \u001b[1;36m12\u001b[0m\u001b[1;33m]\u001b[0m\u001b[1;33m)\u001b[0m\u001b[1;33m\u001b[0m\u001b[1;33m\u001b[0m\u001b[0m\n\u001b[0;32m      3\u001b[0m \u001b[1;33m\u001b[0m\u001b[0m\n\u001b[1;32m----> 4\u001b[1;33m \u001b[0mrdc\u001b[0m\u001b[1;33m(\u001b[0m\u001b[0ma\u001b[0m\u001b[1;33m,\u001b[0m \u001b[0mb\u001b[0m\u001b[1;33m)\u001b[0m\u001b[1;33m\u001b[0m\u001b[1;33m\u001b[0m\u001b[0m\n\u001b[0m",
      "\u001b[1;32m<ipython-input-2-67d7b1e37587>\u001b[0m in \u001b[0;36mrdc\u001b[1;34m(x, y, f, k, s, n)\u001b[0m\n\u001b[0;32m     48\u001b[0m         \u001b[0mCyx\u001b[0m \u001b[1;33m=\u001b[0m \u001b[0mC\u001b[0m\u001b[1;33m[\u001b[0m\u001b[0mk0\u001b[0m\u001b[1;33m:\u001b[0m\u001b[0mk0\u001b[0m\u001b[1;33m+\u001b[0m\u001b[0mk\u001b[0m\u001b[1;33m,\u001b[0m \u001b[1;33m:\u001b[0m\u001b[0mk\u001b[0m\u001b[1;33m]\u001b[0m\u001b[1;33m\u001b[0m\u001b[1;33m\u001b[0m\u001b[0m\n\u001b[0;32m     49\u001b[0m \u001b[1;33m\u001b[0m\u001b[0m\n\u001b[1;32m---> 50\u001b[1;33m         eigs = np.linalg.eigvals(np.dot(np.dot(np.linalg.inv(Cxx), Cxy),\n\u001b[0m\u001b[0;32m     51\u001b[0m                                         np.dot(np.linalg.inv(Cyy), Cyx)))\n\u001b[0;32m     52\u001b[0m \u001b[1;33m\u001b[0m\u001b[0m\n",
      "\u001b[1;32m<__array_function__ internals>\u001b[0m in \u001b[0;36minv\u001b[1;34m(*args, **kwargs)\u001b[0m\n",
      "\u001b[1;32mc:\\program files\\python38\\lib\\site-packages\\numpy\\linalg\\linalg.py\u001b[0m in \u001b[0;36minv\u001b[1;34m(a)\u001b[0m\n\u001b[0;32m    544\u001b[0m     \u001b[0msignature\u001b[0m \u001b[1;33m=\u001b[0m \u001b[1;34m'D->D'\u001b[0m \u001b[1;32mif\u001b[0m \u001b[0misComplexType\u001b[0m\u001b[1;33m(\u001b[0m\u001b[0mt\u001b[0m\u001b[1;33m)\u001b[0m \u001b[1;32melse\u001b[0m \u001b[1;34m'd->d'\u001b[0m\u001b[1;33m\u001b[0m\u001b[1;33m\u001b[0m\u001b[0m\n\u001b[0;32m    545\u001b[0m     \u001b[0mextobj\u001b[0m \u001b[1;33m=\u001b[0m \u001b[0mget_linalg_error_extobj\u001b[0m\u001b[1;33m(\u001b[0m\u001b[0m_raise_linalgerror_singular\u001b[0m\u001b[1;33m)\u001b[0m\u001b[1;33m\u001b[0m\u001b[1;33m\u001b[0m\u001b[0m\n\u001b[1;32m--> 546\u001b[1;33m     \u001b[0mainv\u001b[0m \u001b[1;33m=\u001b[0m \u001b[0m_umath_linalg\u001b[0m\u001b[1;33m.\u001b[0m\u001b[0minv\u001b[0m\u001b[1;33m(\u001b[0m\u001b[0ma\u001b[0m\u001b[1;33m,\u001b[0m \u001b[0msignature\u001b[0m\u001b[1;33m=\u001b[0m\u001b[0msignature\u001b[0m\u001b[1;33m,\u001b[0m \u001b[0mextobj\u001b[0m\u001b[1;33m=\u001b[0m\u001b[0mextobj\u001b[0m\u001b[1;33m)\u001b[0m\u001b[1;33m\u001b[0m\u001b[1;33m\u001b[0m\u001b[0m\n\u001b[0m\u001b[0;32m    547\u001b[0m     \u001b[1;32mreturn\u001b[0m \u001b[0mwrap\u001b[0m\u001b[1;33m(\u001b[0m\u001b[0mainv\u001b[0m\u001b[1;33m.\u001b[0m\u001b[0mastype\u001b[0m\u001b[1;33m(\u001b[0m\u001b[0mresult_t\u001b[0m\u001b[1;33m,\u001b[0m \u001b[0mcopy\u001b[0m\u001b[1;33m=\u001b[0m\u001b[1;32mFalse\u001b[0m\u001b[1;33m)\u001b[0m\u001b[1;33m)\u001b[0m\u001b[1;33m\u001b[0m\u001b[1;33m\u001b[0m\u001b[0m\n\u001b[0;32m    548\u001b[0m \u001b[1;33m\u001b[0m\u001b[0m\n",
      "\u001b[1;32mc:\\program files\\python38\\lib\\site-packages\\numpy\\linalg\\linalg.py\u001b[0m in \u001b[0;36m_raise_linalgerror_singular\u001b[1;34m(err, flag)\u001b[0m\n\u001b[0;32m     86\u001b[0m \u001b[1;33m\u001b[0m\u001b[0m\n\u001b[0;32m     87\u001b[0m \u001b[1;32mdef\u001b[0m \u001b[0m_raise_linalgerror_singular\u001b[0m\u001b[1;33m(\u001b[0m\u001b[0merr\u001b[0m\u001b[1;33m,\u001b[0m \u001b[0mflag\u001b[0m\u001b[1;33m)\u001b[0m\u001b[1;33m:\u001b[0m\u001b[1;33m\u001b[0m\u001b[1;33m\u001b[0m\u001b[0m\n\u001b[1;32m---> 88\u001b[1;33m     \u001b[1;32mraise\u001b[0m \u001b[0mLinAlgError\u001b[0m\u001b[1;33m(\u001b[0m\u001b[1;34m\"Singular matrix\"\u001b[0m\u001b[1;33m)\u001b[0m\u001b[1;33m\u001b[0m\u001b[1;33m\u001b[0m\u001b[0m\n\u001b[0m\u001b[0;32m     89\u001b[0m \u001b[1;33m\u001b[0m\u001b[0m\n\u001b[0;32m     90\u001b[0m \u001b[1;32mdef\u001b[0m \u001b[0m_raise_linalgerror_nonposdef\u001b[0m\u001b[1;33m(\u001b[0m\u001b[0merr\u001b[0m\u001b[1;33m,\u001b[0m \u001b[0mflag\u001b[0m\u001b[1;33m)\u001b[0m\u001b[1;33m:\u001b[0m\u001b[1;33m\u001b[0m\u001b[1;33m\u001b[0m\u001b[0m\n",
      "\u001b[1;31mLinAlgError\u001b[0m: Singular matrix"
     ]
    }
   ],
   "source": [
    "a = np.array([1,2,3,4,5, 28, 3])\n",
    "b = np.array([5,6,3,8,7, 44, 12])\n",
    "\n",
    "rdc(a, b)"
   ]
  },
  {
   "cell_type": "markdown",
   "metadata": {},
   "source": [
    "## Credits & Links"
   ]
  },
  {
   "cell_type": "markdown",
   "metadata": {},
   "source": [
    "http://papers.nips.cc/paper/5138-the-randomized-dependence-coefficient.pdf"
   ]
  }
 ],
 "metadata": {
  "kernelspec": {
   "display_name": "Python 3",
   "language": "python",
   "name": "python3"
  },
  "language_info": {
   "codemirror_mode": {
    "name": "ipython",
    "version": 3
   },
   "file_extension": ".py",
   "mimetype": "text/x-python",
   "name": "python",
   "nbconvert_exporter": "python",
   "pygments_lexer": "ipython3",
   "version": "3.8.1"
  }
 },
 "nbformat": 4,
 "nbformat_minor": 4
}
