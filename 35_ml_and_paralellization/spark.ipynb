{
 "cells": [
  {
   "cell_type": "code",
   "execution_count": null,
   "metadata": {},
   "outputs": [],
   "source": [
    "from pyspark import SparkContext\n",
    "\n",
    "def WordCount():\n",
    "    fileName = \"D:/ProgramFiles/Spark/spark-2.3.2-bin-hadoop2.7/README.md\"  \n",
    "    sc = SparkContext(\"local\", \"first app\")\n",
    "    data = sc.textFile(fileName).cache()\n",
    "    countA = data.filter(lambda s: 'a' in s).count()\n",
    "    countB = data.filter(lambda s: 'b' in s).count()\n",
    "    print('\\nResult'); print('Lines with a: ', countA , 'lines with b: ', countB); print('')\n",
    "\n",
    "def RDD():\n",
    "    sc = SparkContext(\"local\", \"first app\")\n",
    "    data = sc.parallelize([('Amber', 22), ('Alfred', 23), ('Skye',4), ('Albert', 12),('Amber', 9)])\n",
    "\n",
    "\n",
    "#WordCount()\n",
    "RDD()"
   ]
  }
 ],
 "metadata": {
  "kernelspec": {
   "display_name": "Python 3",
   "language": "python",
   "name": "python3"
  },
  "language_info": {
   "codemirror_mode": {
    "name": "ipython",
    "version": 3
   },
   "file_extension": ".py",
   "mimetype": "text/x-python",
   "name": "python",
   "nbconvert_exporter": "python",
   "pygments_lexer": "ipython3",
   "version": "3.7.1"
  }
 },
 "nbformat": 4,
 "nbformat_minor": 4
}
