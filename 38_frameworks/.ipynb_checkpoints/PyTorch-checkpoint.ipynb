{
 "cells": [
  {
   "cell_type": "code",
   "execution_count": 2,
   "metadata": {},
   "outputs": [],
   "source": [
    "import torch\n",
    "import torch.nn as nn\n",
    "import torch.nn.functional as F\n",
    "import torch.optim as optim\n",
    "import time"
   ]
  },
  {
   "cell_type": "code",
   "execution_count": 3,
   "metadata": {},
   "outputs": [
    {
     "name": "stdout",
     "output_type": "stream",
     "text": [
      "0\n",
      "True\n"
     ]
    }
   ],
   "source": [
    "print(torch.cuda.current_device())\n",
    "print(torch.cuda.is_available())"
   ]
  },
  {
   "cell_type": "code",
   "execution_count": 4,
   "metadata": {},
   "outputs": [
    {
     "name": "stdout",
     "output_type": "stream",
     "text": [
      "CPU  0.0019943714141845703\n",
      "tensor([[0., 0., 0., 0., 0., 0., 0., 0., 0., 0.],\n",
      "        [0., 0., 0., 0., 0., 0., 0., 0., 0., 0.],\n",
      "        [0., 0., 0., 0., 0., 0., 0., 0., 0., 0.],\n",
      "        [0., 0., 0., 0., 0., 0., 0., 0., 0., 0.],\n",
      "        [0., 0., 0., 0., 0., 0., 0., 0., 0., 0.],\n",
      "        [0., 0., 0., 0., 0., 0., 0., 0., 0., 0.],\n",
      "        [0., 0., 0., 0., 0., 0., 0., 0., 0., 0.],\n",
      "        [0., 0., 0., 0., 0., 0., 0., 0., 0., 0.],\n",
      "        [0., 0., 0., 0., 0., 0., 0., 0., 0., 0.],\n",
      "        [0., 0., 0., 0., 0., 0., 0., 0., 0., 0.]])\n",
      "GPU  0.0029916763305664062\n",
      "tensor([[0., 0., 0., 0., 0., 0., 0., 0., 0., 0.],\n",
      "        [0., 0., 0., 0., 0., 0., 0., 0., 0., 0.],\n",
      "        [0., 0., 0., 0., 0., 0., 0., 0., 0., 0.],\n",
      "        [0., 0., 0., 0., 0., 0., 0., 0., 0., 0.],\n",
      "        [0., 0., 0., 0., 0., 0., 0., 0., 0., 0.],\n",
      "        [0., 0., 0., 0., 0., 0., 0., 0., 0., 0.],\n",
      "        [0., 0., 0., 0., 0., 0., 0., 0., 0., 0.],\n",
      "        [0., 0., 0., 0., 0., 0., 0., 0., 0., 0.],\n",
      "        [0., 0., 0., 0., 0., 0., 0., 0., 0., 0.],\n",
      "        [0., 0., 0., 0., 0., 0., 0., 0., 0., 0.]], device='cuda:0')\n"
     ]
    }
   ],
   "source": [
    "start = time.time()\n",
    "t1 = torch.FloatTensor(10,10)\n",
    "t2 = torch.FloatTensor(10,10)\n",
    "t3 = t1.matmul(t2)\n",
    "end = time.time()\n",
    "print('CPU ', end-start)\n",
    "print(t3)\n",
    "\n",
    "start = time.time()\n",
    "t1 = torch.cuda.FloatTensor(10,10)\n",
    "t2 = torch.cuda.FloatTensor(10,10)\n",
    "t3 = t1.matmul(t2)\n",
    "end = time.time()\n",
    "print('GPU ', end-start)\n",
    "print(t3)"
   ]
  },
  {
   "cell_type": "code",
   "execution_count": 5,
   "metadata": {},
   "outputs": [
    {
     "name": "stdout",
     "output_type": "stream",
     "text": [
      "tensor([[ 0.6979,  0.8241,  0.7742],\n",
      "        [-0.6039,  0.3429, -0.1860]], grad_fn=<AddmmBackward>)\n"
     ]
    }
   ],
   "source": [
    "lin = nn.Linear(5, 3)  # maps from R^5 to R^3, parameters A, b\n",
    "# data is 2x5.  A maps from 5 to 3... can we map \"data\" under A?\n",
    "data = torch.randn(2, 5)\n",
    "print(lin(data))  # yes"
   ]
  },
  {
   "cell_type": "code",
   "execution_count": 6,
   "metadata": {},
   "outputs": [],
   "source": [
    "#Input array\n",
    "X = torch.Tensor([[1,0,1,0],[1,0,1,1],[0,1,0,1]])\n",
    "\n",
    "#Output\n",
    "y = torch.Tensor([[1],[1],[0]])\n",
    "\n",
    "#Sigmoid Function\n",
    "def sigmoid (x):\n",
    "  return 1/(1 + torch.exp(-x))\n",
    "\n",
    "#Derivative of Sigmoid Function\n",
    "def deriv_sigmoid(x):\n",
    "  return x * (1 - x)\n",
    "\n",
    "#Hypers\n",
    "epoch=5000 \n",
    "lr=0.1 \n",
    "inp = X.shape[1] \n",
    "hid = 3\n",
    "out = 1\n",
    "\n",
    "# weight and bias initialization\n",
    "wh=torch.randn(inp, hid).type(torch.FloatTensor)\n",
    "bh=torch.randn(1, hid).type(torch.FloatTensor)\n",
    "wout=torch.randn(hid, out)\n",
    "bout=torch.randn(1, out)"
   ]
  },
  {
   "cell_type": "code",
   "execution_count": 10,
   "metadata": {},
   "outputs": [
    {
     "data": {
      "text/plain": [
       "('actual:',\n",
       " tensor([[1.],\n",
       "         [1.],\n",
       "         [0.]]),\n",
       " 'predicted:',\n",
       " tensor([[0.9688],\n",
       "         [0.9627],\n",
       "         [0.0925]]))"
      ]
     },
     "execution_count": 10,
     "metadata": {},
     "output_type": "execute_result"
    }
   ],
   "source": [
    "for i in range(epoch):\n",
    "\n",
    "  #Forward step\n",
    "  hid_inp1 = torch.mm(X, wh)\n",
    "  hid_inp = hid_inp1 + bh\n",
    "  hid_act = sigmoid(hid_inp)\n",
    " \n",
    "  out_inp1 = torch.mm(hid_act, wout)\n",
    "  out_inp = out_inp1 + bout\n",
    "  out = sigmoid(out_inp1)\n",
    "\n",
    "  #Backward step\n",
    "  E = y-output\n",
    "  slope_out = deriv_sigmoid(out)\n",
    "  slope_hid = deriv_sigmoid(hid_act)\n",
    "  d_out = E * slope_out\n",
    "  err_hid = torch.mm(d_out, wout.t())\n",
    "  d_hid = err_hid * slope_hid\n",
    "  wout += torch.mm(hid_act.t(), d_out) * lr\n",
    "  bout += d_out.sum() * lr\n",
    "  wh += torch.mm(X.t(), d_hid) * lr\n",
    "  bh += d_output.sum() * lr\n",
    " \n",
    "'actual:', y, 'predicted:', out"
   ]
  },
  {
   "cell_type": "markdown",
   "metadata": {},
   "source": [
    "## Credits & Links"
   ]
  },
  {
   "cell_type": "markdown",
   "metadata": {},
   "source": [
    "https://towardsdatascience.com/how-to-train-your-neural-net-tensors-and-autograd-941f2c4cc77c\n",
    "https://www.analyticsvidhya.com/blog/2018/02/pytorch-tutorial/"
   ]
  }
 ],
 "metadata": {
  "kernelspec": {
   "display_name": "Python 3",
   "language": "python",
   "name": "python3"
  },
  "language_info": {
   "codemirror_mode": {
    "name": "ipython",
    "version": 3
   },
   "file_extension": ".py",
   "mimetype": "text/x-python",
   "name": "python",
   "nbconvert_exporter": "python",
   "pygments_lexer": "ipython3",
   "version": "3.8.1"
  }
 },
 "nbformat": 4,
 "nbformat_minor": 4
}
