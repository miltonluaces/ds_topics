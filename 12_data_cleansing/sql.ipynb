{
 "cells": [
  {
   "cell_type": "markdown",
   "metadata": {},
   "source": [
    "### Not data claeansing but useful for it"
   ]
  },
  {
   "cell_type": "markdown",
   "metadata": {},
   "source": [
    "### SQL"
   ]
  },
  {
   "cell_type": "code",
   "execution_count": null,
   "metadata": {},
   "outputs": [],
   "source": [
    "from pandas import read_sql_query\n",
    "import pandasql\n",
    "import numpy\n",
    " \n",
    "# CREATE AN IN-MEMORY SQLITE DB\n",
    "con = connect(\":memory:\")\n",
    "cur = con.cursor()\n",
    "cur.execute(\"attach 'my.db' as filedb\")\n",
    "cur.execute(\"create table df as select * from filedb.hflights\")\n",
    "cur.execute(\"detach filedb\")\n",
    " \n",
    "# IMPORT SQLITE TABLE INTO PANDAS DF\n",
    "df = read_sql_query(\"select * from df\", con)\n",
    " \n",
    "# WRITE QUERIES\n",
    "sql01 = \"select * from df where DayofWeek = 1 and Dest = 'CVG';\"\n",
    "sql02 = \"select DayofWeek, AVG(ArrTime) from df group by DayofWeek;\"\n",
    "sql03 = \"select DayofWeek, median(ArrTime) from df group by DayofWeek;\"\n",
    " \n",
    "# SELECTION:\n",
    "t11 = pandasql.sqldf(sql01, globals())\n",
    " \n",
    "# AGGREGATION:\n",
    "t21 = pandasql.sqldf(sql02, globals())\n",
    " \n"
   ]
  },
  {
   "cell_type": "markdown",
   "metadata": {},
   "source": [
    "### SQL lite"
   ]
  },
  {
   "cell_type": "code",
   "execution_count": null,
   "metadata": {},
   "outputs": [],
   "source": [
    "import sqlite3\n",
    "\n",
    "# Create database\n",
    "db = sqlite3.connect('../../../../data/mydb')\n",
    "\n",
    "# Create table\n",
    "cursor = db.cursor()\n",
    "cursor.execute('CREATE TABLE users(id INTEGER PRIMARY KEY, name TEXT, phone TEXT, email TEXT unique, password TEXT)')\n",
    "db.commit()\n",
    "\n",
    "# Insert data\n",
    "cursor = db.cursor()\n",
    "name1 = 'Andres'; phone1 = '3366858'; email1 = 'user@example.com'; password1 = '12345'\n",
    " \n",
    "name2 = 'John'; phone2 = '5557241'; email2 = 'johndoe@example.com'; password2 = 'abcdef'\n",
    " \n",
    "cursor.execute('INSERT INTO users(name, phone, email, password) VALUES(?,?,?,?)''', (name1,phone1, email1, password1))\n",
    "cursor.execute('INSERT INTO users(name, phone, email, password) VALUES(?,?,?,?)''', (name2,phone2, email2, password2))\n",
    " \n",
    "db.commit()\n",
    "\n",
    "cursor.execute('''SELECT name, email, phone FROM users''')\n",
    "user1 = cursor.fetchone() #retrieve the first row\n",
    "print(user1[0]) #Print the first column retrieved(user's name)\n",
    "all_rows = cursor.fetchall()\n",
    "for row in all_rows:\n",
    "    # row[0] returns the first column in the query (name), row[1] returns email column.\n",
    "    print('{0} : {1}, {2}'.format(row[0], row[1], row[2]))"
   ]
  },
  {
   "cell_type": "markdown",
   "metadata": {},
   "source": [
    "### Json"
   ]
  },
  {
   "cell_type": "code",
   "execution_count": null,
   "metadata": {},
   "outputs": [],
   "source": [
    "import json\n",
    "\n",
    "# Json\n",
    "\n",
    "data = {\n",
    "    \"president\": {\n",
    "        \"name\": \"Zaphod Beeblebrox\",\n",
    "        \"species\": \"Betelgeusian\"\n",
    "    }\n",
    "}\n",
    "\n",
    "with open(\"data_file.json\", \"w\") as write_file:\n",
    "    json.dump(data, write_file)\n",
    "\n",
    "str = json.dumps(data)\n",
    "print(str)\n",
    "\n"
   ]
  },
  {
   "cell_type": "markdown",
   "metadata": {},
   "source": [
    "### Data exploration"
   ]
  },
  {
   "cell_type": "code",
   "execution_count": null,
   "metadata": {},
   "outputs": [],
   "source": [
    "import pandas as pd\n",
    "import numpy as np\n",
    "import matplotlib as plt\n",
    "import seaborn as sns\n",
    "from Utils.Admin.Standard import *\n",
    "\n",
    "df = pd.read_csv(csvPath + \"loanTrain.csv\")\n",
    "\n",
    "print(df.head(10))\n",
    "\n",
    "print(df.columns)\n",
    "print(df.shape)\n",
    "\n",
    "print(df.describe())\n",
    "df['ApplicantIncome'].describe() \n",
    "\n",
    "df['Loan_Status'].value_counts(normalize = 'True')\n",
    "df['Loan_Status'].value_counts().plot.bar(title = 'Loan_Status')\n",
    "plt.show()\n",
    "\n",
    "sns.distplot(df['ApplicantIncome'])\n",
    "plt.show()\n",
    "\n",
    "df['ApplicantIncome'].plot.box()\n",
    "plt.show()"
   ]
  }
 ],
 "metadata": {
  "kernelspec": {
   "display_name": "Python 3",
   "language": "python",
   "name": "python3"
  },
  "language_info": {
   "codemirror_mode": {
    "name": "ipython",
    "version": 3
   },
   "file_extension": ".py",
   "mimetype": "text/x-python",
   "name": "python",
   "nbconvert_exporter": "python",
   "pygments_lexer": "ipython3",
   "version": "3.8.1"
  }
 },
 "nbformat": 4,
 "nbformat_minor": 4
}
