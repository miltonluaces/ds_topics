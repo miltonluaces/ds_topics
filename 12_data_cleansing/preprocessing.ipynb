{
 "cells": [
  {
   "cell_type": "code",
   "execution_count": null,
   "metadata": {},
   "outputs": [],
   "source": [
    "import pandas as pd\n",
    "from recordlinkage.standardise import clean\n",
    "from recordlinkage.standardise import phonenumbers\n",
    "\n",
    "\n",
    "df = pd.read_csv(\"D:/data/csv/friends.csv\", sep='\\t')\n",
    "print(df)\n",
    "print([df.columns.values])\n",
    "\n",
    "# CLEAN\n",
    "\n",
    "# Default Cleaning\n",
    "df[\"nameClean\"] = clean(df[\"name\"])\n",
    "print(df)\n",
    "# Clean the \"occupation\" column, but keep brackets\n",
    "df[\"occupClean\"]= clean(df[\"occupation\"], replace_by_none='[^ \\\\-\\\\_\\(\\)A-Za-z0-9]+',remove_brackets=False)\n",
    "# Clean the phone_number column with replacement\n",
    "df[\"phone_number\"]= phonenumbers(df[\"phone_number\"])\n",
    "\n",
    "# VALUE OCCURENCE\n",
    "\n",
    "from recordlinkage.standardise import value_occurence\n",
    "\n",
    "from recordlinkage.standardise import value_occurence\n",
    "import pandas as pd\n",
    "\n",
    "df = pd.read_csv(\"friends.csv\")\n",
    "\n",
    "df[\"household_size\"] = value_occurence(df[\"address\"])\n",
    "\n",
    "# PHONETIC\n",
    "\n",
    "from recordlinkage.standardise import phonetic\n",
    "import pandas as pd\n",
    "\n",
    "# Read in the data\n",
    "df = pd.read_csv(\"friends.csv\")\n",
    "\n",
    "# Clean the name column to remove numbers and strip accents\n",
    "df[\"name\"]= clean(df[\"name\"], replace_by_none='[^ \\\\-\\\\_\\(\\)A-Za-z]+', strip_accents=\"unicode\")\n",
    "\n",
    "# Standardize using the nysiis phonetic algorithm\n",
    "df[\"phonetic\"] = phonetic(df[\"name\"], method=\"nysiis\")\n",
    "\n",
    "\n"
   ]
  }
 ],
 "metadata": {
  "kernelspec": {
   "display_name": "Python 3",
   "language": "python",
   "name": "python3"
  },
  "language_info": {
   "codemirror_mode": {
    "name": "ipython",
    "version": 3
   },
   "file_extension": ".py",
   "mimetype": "text/x-python",
   "name": "python",
   "nbconvert_exporter": "python",
   "pygments_lexer": "ipython3",
   "version": "3.8.1"
  }
 },
 "nbformat": 4,
 "nbformat_minor": 4
}
