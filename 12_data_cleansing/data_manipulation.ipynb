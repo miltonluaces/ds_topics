{
 "cells": [
  {
   "cell_type": "markdown",
   "metadata": {},
   "source": [
    "# Data manipulation for cleansing"
   ]
  },
  {
   "cell_type": "markdown",
   "metadata": {},
   "source": [
    "## SQL queries"
   ]
  },
  {
   "cell_type": "code",
   "execution_count": null,
   "metadata": {},
   "outputs": [],
   "source": [
    "import sqlite3\n",
    "\n",
    "# Create database\n",
    "db = sqlite3.connect('../../../../data/mydb')\n",
    "\n",
    "# Create table\n",
    "cursor = db.cursor()\n",
    "cursor.execute('CREATE TABLE users(id INTEGER PRIMARY KEY, name TEXT, phone TEXT, email TEXT unique, password TEXT)')\n",
    "db.commit()\n",
    "\n",
    "# Insert data\n",
    "cursor = db.cursor()\n",
    "name1 = 'Andres'; phone1 = '3366858'; email1 = 'user@example.com'; password1 = '12345'\n",
    " \n",
    "name2 = 'John'; phone2 = '5557241'; email2 = 'johndoe@example.com'; password2 = 'abcdef'\n",
    " \n",
    "cursor.execute('INSERT INTO users(name, phone, email, password) VALUES(?,?,?,?)''', (name1,phone1, email1, password1))\n",
    "cursor.execute('INSERT INTO users(name, phone, email, password) VALUES(?,?,?,?)''', (name2,phone2, email2, password2))\n",
    " \n",
    "db.commit()\n",
    "\n",
    "cursor.execute('''SELECT name, email, phone FROM users''')\n",
    "user1 = cursor.fetchone() #retrieve the first row\n",
    "print(user1[0]) #Print the first column retrieved(user's name)\n",
    "all_rows = cursor.fetchall()\n",
    "for row in all_rows:\n",
    "    # row[0] returns the first column in the query (name), row[1] returns email column.\n",
    "    print('{0} : {1}, {2}'.format(row[0], row[1], row[2]))"
   ]
  },
  {
   "cell_type": "markdown",
   "metadata": {},
   "source": [
    "## Data manipulation"
   ]
  },
  {
   "cell_type": "code",
   "execution_count": 1,
   "metadata": {},
   "outputs": [
    {
     "name": "stdout",
     "output_type": "stream",
     "text": [
      "         Gender Married Dependents     Education Self_Employed  \\\n",
      "Loan_ID                                                          \n",
      "LP001002   Male      No          0      Graduate            No   \n",
      "LP001003   Male     Yes          1      Graduate            No   \n",
      "LP001005   Male     Yes          0      Graduate           Yes   \n",
      "LP001006   Male     Yes          0  Not Graduate            No   \n",
      "LP001008   Male      No          0      Graduate            No   \n",
      "LP001011   Male     Yes          2      Graduate           Yes   \n",
      "LP001013   Male     Yes          0  Not Graduate            No   \n",
      "LP001014   Male     Yes         3+      Graduate            No   \n",
      "LP001018   Male     Yes          2      Graduate            No   \n",
      "LP001020   Male     Yes          1      Graduate            No   \n",
      "\n",
      "          ApplicantIncome  CoapplicantIncome  LoanAmount  Loan_Amount_Term  \\\n",
      "Loan_ID                                                                      \n",
      "LP001002             5849                0.0         NaN             360.0   \n",
      "LP001003             4583             1508.0       128.0             360.0   \n",
      "LP001005             3000                0.0        66.0             360.0   \n",
      "LP001006             2583             2358.0       120.0             360.0   \n",
      "LP001008             6000                0.0       141.0             360.0   \n",
      "LP001011             5417             4196.0       267.0             360.0   \n",
      "LP001013             2333             1516.0        95.0             360.0   \n",
      "LP001014             3036             2504.0       158.0             360.0   \n",
      "LP001018             4006             1526.0       168.0             360.0   \n",
      "LP001020            12841            10968.0       349.0             360.0   \n",
      "\n",
      "          Credit_History Property_Area Loan_Status  \n",
      "Loan_ID                                             \n",
      "LP001002             1.0         Urban           Y  \n",
      "LP001003             1.0         Rural           N  \n",
      "LP001005             1.0         Urban           Y  \n",
      "LP001006             1.0         Urban           Y  \n",
      "LP001008             1.0         Urban           Y  \n",
      "LP001011             1.0         Urban           Y  \n",
      "LP001013             1.0         Urban           Y  \n",
      "LP001014             0.0     Semiurban           N  \n",
      "LP001018             1.0         Urban           Y  \n",
      "LP001020             1.0     Semiurban           N  \n",
      "          Gender     Education Loan_Status\n",
      "Loan_ID                                   \n",
      "LP001155  Female  Not Graduate           Y\n",
      "LP001669  Female  Not Graduate           Y\n",
      "LP001692  Female  Not Graduate           Y\n",
      "LP001908  Female  Not Graduate           Y\n",
      "LP002300  Female  Not Graduate           Y\n",
      "LP002314  Female  Not Graduate           Y\n",
      "LP002407  Female  Not Graduate           Y\n",
      "LP002489  Female  Not Graduate           Y\n",
      "LP002502  Female  Not Graduate           Y\n",
      "LP002534  Female  Not Graduate           Y\n",
      "LP002582  Female  Not Graduate           Y\n",
      "LP002731  Female  Not Graduate           Y\n",
      "LP002757  Female  Not Graduate           Y\n",
      "LP002917  Female  Not Graduate           Y\n",
      "Missing values per column:\n",
      "Gender               13\n",
      "Married               3\n",
      "Dependents           15\n",
      "Education             0\n",
      "Self_Employed        32\n",
      "ApplicantIncome       0\n",
      "CoapplicantIncome     0\n",
      "LoanAmount           22\n",
      "Loan_Amount_Term     14\n",
      "Credit_History       50\n",
      "Property_Area         0\n",
      "Loan_Status           0\n",
      "dtype: int64\n",
      "\n",
      "Missing values per row:\n",
      "Loan_ID\n",
      "LP001002    1\n",
      "LP001003    0\n",
      "LP001005    0\n",
      "LP001006    0\n",
      "LP001008    0\n",
      "dtype: int64\n",
      "                              LoanAmount\n",
      "Gender Married Self_Employed            \n",
      "Female No      No             110.596774\n",
      "               Yes            125.800000\n",
      "       Yes     No             135.480000\n",
      "               Yes            282.250000\n",
      "Male   No      No             128.137255\n",
      "               Yes            173.625000\n",
      "       Yes     No             151.709220\n",
      "               Yes            169.355556\n",
      "           rates\n",
      "Rural       1000\n",
      "Semiurban   5000\n",
      "Urban      12000\n"
     ]
    },
    {
     "data": {
      "text/plain": [
       "array([<matplotlib.axes._subplots.AxesSubplot object at 0x0000014A9FBD7C50>,\n",
       "       <matplotlib.axes._subplots.AxesSubplot object at 0x0000014AA1CCC8D0>],\n",
       "      dtype=object)"
      ]
     },
     "execution_count": 1,
     "metadata": {},
     "output_type": "execute_result"
    },
    {
     "data": {
      "image/png": "[encoded data removed]",
      "text/plain": [
       "<Figure size 432x288 with 1 Axes>"
      ]
     },
     "metadata": {
      "needs_background": "light"
     },
     "output_type": "display_data"
    },
    {
     "data": {
      "image/png": "[encoded data removed]",
      "text/plain": [
       "<Figure size 432x288 with 2 Axes>"
      ]
     },
     "metadata": {
      "needs_background": "light"
     },
     "output_type": "display_data"
    }
   ],
   "source": [
    "import numpy as np\n",
    "import pandas as pd\n",
    "\n",
    "\n",
    "data = pd.read_csv('D:/data/csv/loanTrain.csv', index_col=\"Loan_ID\")\n",
    "print(data.head(10))\n",
    "\n",
    "# Boolean indexing\n",
    "dataIdx = data.loc[(data[\"Gender\"]==\"Female\") & (data[\"Education\"]==\"Not Graduate\") & (data[\"Loan_Status\"]==\"Y\"), [\"Gender\",\"Education\",\"Loan_Status\"]]\n",
    "print(dataIdx)\n",
    "\n",
    "# Apply function\n",
    "#Create a new function:\n",
    "def num_missing(x):\n",
    "  return sum(x.isnull())\n",
    "\n",
    "#Applying per column:\n",
    "print(\"Missing values per column:\")\n",
    "print(data.apply(num_missing, axis=0)) #axis=0 defines that function is to be applied on each column\n",
    "\n",
    "#Applying per row:\n",
    "print(\"\\nMissing values per row:\")\n",
    "print(data.apply(num_missing, axis=1).head()) #axis=1 defines that function is to be applied on each row\n",
    "\n",
    "# Pivot Table\n",
    "impute_grps = data.pivot_table(values=[\"LoanAmount\"], index=[\"Gender\",\"Married\",\"Self_Employed\"], aggfunc=np.mean)\n",
    "print(impute_grps)\n",
    "\n",
    "# Cross Table\n",
    "pd.crosstab(data[\"Credit_History\"],data[\"Loan_Status\"],margins=True)\n",
    "def percConvert(ser):\n",
    "  return ser/float(ser[-1])\n",
    "  pd.crosstab(data[\"Credit_History\"],data[\"Loan_Status\"],margins=True).apply(percConvert, axis=1)\n",
    "\n",
    "# Merge data frames\n",
    "prop_rates = pd.DataFrame([1000, 5000, 12000], index=['Rural','Semiurban','Urban'],columns=['rates'])\n",
    "print(prop_rates)\n",
    "data_merged = data.merge(right=prop_rates, how='inner',left_on='Property_Area',right_index=True, sort=False)\n",
    "data_merged.pivot_table(values='Credit_History',index=['Property_Area','rates'], aggfunc=len)\n",
    "\n",
    "# Sort dataframes\n",
    "data_sorted = data.sort_values(['ApplicantIncome','CoapplicantIncome'], ascending=False)\n",
    "data_sorted[['ApplicantIncome','CoapplicantIncome']].head(10)\n",
    "\n",
    "# Boxplot and Histogram\n",
    "data.boxplot(column=\"ApplicantIncome\",by=\"Loan_Status\")\n",
    "data.hist(column=\"ApplicantIncome\",by=\"Loan_Status\",bins=30)\n"
   ]
  },
  {
   "cell_type": "code",
   "execution_count": null,
   "metadata": {},
   "outputs": [],
   "source": []
  }
 ],
 "metadata": {
  "kernelspec": {
   "display_name": "Python 3",
   "language": "python",
   "name": "python3"
  },
  "language_info": {
   "codemirror_mode": {
    "name": "ipython",
    "version": 3
   },
   "file_extension": ".py",
   "mimetype": "text/x-python",
   "name": "python",
   "nbconvert_exporter": "python",
   "pygments_lexer": "ipython3",
   "version": "3.7.1"
  }
 },
 "nbformat": 4,
 "nbformat_minor": 4
}
