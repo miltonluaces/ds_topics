{
 "cells": [
  {
   "cell_type": "markdown",
   "metadata": {},
   "source": [
    "# Hyperparameter optimization"
   ]
  },
  {
   "cell_type": "markdown",
   "metadata": {},
   "source": [
    "$\\large \\hat{x} = \\arg \\min_{x \\in X} f(x) $"
   ]
  },
  {
   "cell_type": "markdown",
   "metadata": {},
   "source": [
    "## Imports"
   ]
  },
  {
   "cell_type": "code",
   "execution_count": 2,
   "metadata": {},
   "outputs": [],
   "source": [
    "import numpy as np\n",
    "from sklearn import datasets\n",
    "from sklearn.linear_model import Ridge\n",
    "from scipy.stats import uniform as sp_rand\n",
    "from sklearn.model_selection import ParameterGrid\n",
    "from sklearn.model_selection import GridSearchCV\n",
    "from sklearn.model_selection import RandomizedSearchCV\n",
    "import matplotlib.pyplot as plt\n",
    "from hyperopt import hp, tpe, fmin, Trials\n",
    "import warnings\n",
    "warnings.filterwarnings(action='ignore',category=FutureWarning)"
   ]
  },
  {
   "cell_type": "markdown",
   "metadata": {},
   "source": [
    "## Load data and parameters"
   ]
  },
  {
   "cell_type": "code",
   "execution_count": 3,
   "metadata": {},
   "outputs": [],
   "source": [
    "dataset = datasets.load_diabetes()"
   ]
  },
  {
   "cell_type": "markdown",
   "metadata": {},
   "source": [
    "## Grid Search"
   ]
  },
  {
   "cell_type": "markdown",
   "metadata": {},
   "source": [
    "In plain English, brute force  \n",
    "  \n",
    "Create and fit a ridge regression model, testing each alpha"
   ]
  },
  {
   "cell_type": "code",
   "execution_count": 4,
   "metadata": {},
   "outputs": [
    {
     "name": "stdout",
     "output_type": "stream",
     "text": [
      "Best alpha ;  0.0001\n",
      "Best score :  0.48232313841634833\n"
     ]
    }
   ],
   "source": [
    "alphas = np.array([1,0.1,0.01,0.001,0.0001,0])\n",
    "model = Ridge()\n",
    "gs = GridSearchCV(estimator=model, param_grid=dict(alpha=alphas))\n",
    "gs.fit(dataset.data, dataset.target)\n",
    "\n",
    "print('Best alpha ; ', gs.best_estimator_.alpha)\n",
    "print('Best score : ', gs.best_score_)"
   ]
  },
  {
   "cell_type": "markdown",
   "metadata": {},
   "source": [
    "## Randomized Search\n",
    "  \n",
    "Instead of exhaustive search, random search (better for high dimension datasets)"
   ]
  },
  {
   "cell_type": "markdown",
   "metadata": {},
   "source": [
    "Create and fit a ridge regression model, testing random alpha values"
   ]
  },
  {
   "cell_type": "code",
   "execution_count": 5,
   "metadata": {},
   "outputs": [
    {
     "name": "stdout",
     "output_type": "stream",
     "text": [
      "Best alpha ;  0.009456193832764082\n",
      "Best score :  0.48148057186484844\n"
     ]
    }
   ],
   "source": [
    "param_grid = {'alpha': sp_rand()}\n",
    "\n",
    "model = Ridge()\n",
    "rs = RandomizedSearchCV(estimator=model, param_distributions=param_grid, n_iter=100)\n",
    "rs.fit(dataset.data, dataset.target)\n",
    "\n",
    "print('Best alpha ; ', rs.best_estimator_.alpha)\n",
    "print('Best score : ', rs.best_score_)"
   ]
  },
  {
   "cell_type": "markdown",
   "metadata": {},
   "source": [
    "## Bayesian search"
   ]
  },
  {
   "cell_type": "markdown",
   "metadata": {},
   "source": [
    "Change the direction of search depending on likelihood of previous steps  "
   ]
  },
  {
   "cell_type": "code",
   "execution_count": 7,
   "metadata": {},
   "outputs": [
    {
     "data": {
      "image/png": "[encoded data removed]",
      "text/plain": [
       "<Figure size 432x288 with 1 Axes>"
      ]
     },
     "metadata": {
      "needs_background": "light"
     },
     "output_type": "display_data"
    }
   ],
   "source": [
    "def f(x): \n",
    "    f = np.poly1d([1, -2, -28, 28, 12, -26, 100])\n",
    "    return f(x)\n",
    "\n",
    "\n",
    "x = np.arange(-6, 6, 0.1)\n",
    "y = f(x)\n",
    "plt.plot(x,y);"
   ]
  },
  {
   "cell_type": "code",
   "execution_count": 8,
   "metadata": {},
   "outputs": [],
   "source": [
    "spc = hp.uniform('x', -6, 6)"
   ]
  },
  {
   "cell_type": "code",
   "execution_count": 9,
   "metadata": {},
   "outputs": [
    {
     "name": "stdout",
     "output_type": "stream",
     "text": [
      "100%|███████████████████████████████████████████| 2000/2000 [00:12<00:00, 163.43trial/s, best loss: -4396.024029708038]\n"
     ]
    },
    {
     "data": {
      "text/plain": [
       "{'x': 4.8782713055336515}"
      ]
     },
     "execution_count": 9,
     "metadata": {},
     "output_type": "execute_result"
    }
   ],
   "source": [
    "tpe_algo = tpe.suggest\n",
    "tpe_trials = Trials()\n",
    "tpe_best = fmin(fn=f, space=spc, algo=tpe_algo, trials=tpe_trials, max_evals=2000)\n",
    "tpe_best"
   ]
  },
  {
   "cell_type": "markdown",
   "metadata": {},
   "source": [
    "All in one line:  "
   ]
  },
  {
   "cell_type": "code",
   "execution_count": 11,
   "metadata": {},
   "outputs": [
    {
     "name": "stdout",
     "output_type": "stream",
     "text": [
      "100%|███████████████████████████████████████████| 2000/2000 [00:11<00:00, 180.48trial/s, best loss: -4396.024080104846]\n"
     ]
    }
   ],
   "source": [
    "best = fmin(fn = lambda x: np.poly1d([1, -2, -28, 28, 12, -26, 100])(x), space = hp.normal('x', 4.9, 0.5), algo=tpe.suggest, max_evals = 2000)"
   ]
  },
  {
   "cell_type": "markdown",
   "metadata": {},
   "source": [
    "## Credits & Links"
   ]
  },
  {
   "cell_type": "markdown",
   "metadata": {},
   "source": [
    "https://machinelearningmastery.com/how-to-tune-algorithm-parameters-with-scikit-learn/"
   ]
  }
 ],
 "metadata": {
  "kernelspec": {
   "display_name": "Python 3",
   "language": "python",
   "name": "python3"
  },
  "language_info": {
   "codemirror_mode": {
    "name": "ipython",
    "version": 3
   },
   "file_extension": ".py",
   "mimetype": "text/x-python",
   "name": "python",
   "nbconvert_exporter": "python",
   "pygments_lexer": "ipython3",
   "version": "3.8.1"
  }
 },
 "nbformat": 4,
 "nbformat_minor": 4
}
