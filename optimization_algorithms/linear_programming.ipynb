{
 "cells": [
  {
   "cell_type": "markdown",
   "metadata": {},
   "source": [
    "# Linear Programming"
   ]
  },
  {
   "cell_type": "markdown",
   "metadata": {},
   "source": [
    "## Imports"
   ]
  },
  {
   "cell_type": "code",
   "execution_count": 1,
   "metadata": {},
   "outputs": [],
   "source": [
    "from utilities.std_imports import *\n",
    "from scipy.optimize import linprog"
   ]
  },
  {
   "cell_type": "markdown",
   "metadata": {},
   "source": [
    "Minimize:     $ \\large c^T . x $  \n",
    "subject to:   $ \\large A_{ub} . x <= b_{ub} $ and $ \\large  A_{eq} . x = b_{eq} $  \n",
    "  \n",
    "$ \\large c $ : array of Coefficients of the linear objective function to be minimized  \n",
    "$ \\large A_{ub} $ : 2-D array which, when matrix-multiplied by x, gives the values of the upper-bound inequality constraints at x  \n",
    "$ \\large  b_{ub} $ : 1-D array of values representing the upper-bound of each inequality constraint (row) in A_ub  \n",
    "$ \\large  A_{eq} $ : 2-D array which, when matrix-multiplied by x, gives the values of the equality constraints at x  \n",
    "$ \\large  b_{eq} $ : 1-D array of values representing the RHS of each equality constraint (row) in A_eq  "
   ]
  },
  {
   "cell_type": "code",
   "execution_count": 2,
   "metadata": {},
   "outputs": [
    {
     "name": "stdout",
     "output_type": "stream",
     "text": [
      "     con: array([], dtype=float64)\n",
      "     fun: -21.99999984082497\n",
      " message: 'Optimization terminated successfully.'\n",
      "     nit: 6\n",
      "   slack: array([3.89999997e+01, 8.46872172e-08])\n",
      "  status: 0\n",
      " success: True\n",
      "       x: array([ 9.99999989, -2.99999999])\n"
     ]
    }
   ],
   "source": [
    "# Load data\n",
    "c = [-1, 4]\n",
    "A = [[-3, 1], [1, 2]]\n",
    "b = [6, 4]\n",
    "x0bnds = (None, None)\n",
    "x1bnds = (-3, None)\n",
    "\n",
    "res = linprog(c, A, b, bounds=(x0bnds, x1bnds))\n",
    "print(res)"
   ]
  },
  {
   "cell_type": "markdown",
   "metadata": {},
   "source": [
    "## Credits & Links"
   ]
  },
  {
   "cell_type": "code",
   "execution_count": null,
   "metadata": {},
   "outputs": [],
   "source": []
  }
 ],
 "metadata": {
  "kernelspec": {
   "display_name": "Python 3",
   "language": "python",
   "name": "python3"
  },
  "language_info": {
   "codemirror_mode": {
    "name": "ipython",
    "version": 3
   },
   "file_extension": ".py",
   "mimetype": "text/x-python",
   "name": "python",
   "nbconvert_exporter": "python",
   "pygments_lexer": "ipython3",
   "version": "3.8.6"
  }
 },
 "nbformat": 4,
 "nbformat_minor": 4
}
