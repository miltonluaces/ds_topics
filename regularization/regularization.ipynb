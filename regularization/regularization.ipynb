{
 "cells": [
  {
   "cell_type": "markdown",
   "metadata": {},
   "source": [
    "# Regularization"
   ]
  },
  {
   "cell_type": "markdown",
   "metadata": {},
   "source": [
    "## Imports"
   ]
  },
  {
   "cell_type": "code",
   "execution_count": 1,
   "metadata": {},
   "outputs": [],
   "source": [
    "from utilities.std_imports import *\n",
    "from sklearn.linear_model import LinearRegression, Ridge, Lasso \n",
    "from sklearn.model_selection import train_test_split, cross_val_score \n",
    "from statistics import mean "
   ]
  },
  {
   "cell_type": "markdown",
   "metadata": {},
   "source": [
    "## Loading and cleaning the Data"
   ]
  },
  {
   "cell_type": "code",
   "execution_count": 9,
   "metadata": {},
   "outputs": [
    {
     "data": {
      "text/plain": [
       "((16209, 17), (16209,), (5404, 17), (5404,))"
      ]
     },
     "execution_count": 9,
     "metadata": {},
     "output_type": "execute_result"
    }
   ],
   "source": [
    "# Loading the data into a Pandas DataFrame \n",
    "data = pd.read_csv('D:/data/csv/kc_house_data.csv') \n",
    "  \n",
    "# Dropping the numerically non-sensical variables \n",
    "dropColumns = ['id', 'date', 'zipcode'] \n",
    "data = data.drop(dropColumns, axis = 1) \n",
    "  \n",
    "# Separating the dependent and independent variables \n",
    "y = data['price'] \n",
    "X = data.drop('price', axis = 1) \n",
    "  \n",
    "# Dividing the data into training and testing set \n",
    "X_train, X_test, y_train, y_test = train_test_split(X, y, test_size = 0.25) \n",
    "X_train.shape, y_train.shape, X_test.shape, y_test.shape"
   ]
  },
  {
   "cell_type": "markdown",
   "metadata": {},
   "source": [
    "## a) Linear Regression:"
   ]
  },
  {
   "cell_type": "code",
   "execution_count": 3,
   "metadata": {},
   "outputs": [
    {
     "name": "stdout",
     "output_type": "stream",
     "text": [
      "Score :  0.70\n"
     ]
    }
   ],
   "source": [
    "lr = LinearRegression() \n",
    "lr.fit(X_train, y_train) \n",
    "  \n",
    "score = lr.score(X_test, y_test)\n",
    "print('Score : ', '{:.2f}'.format(score)) "
   ]
  },
  {
   "cell_type": "markdown",
   "metadata": {},
   "source": [
    "## b) Ridge(L2) Regression:"
   ]
  },
  {
   "cell_type": "code",
   "execution_count": 10,
   "metadata": {},
   "outputs": [
    {
     "name": "stdout",
     "output_type": "stream",
     "text": [
      "alpha\tscore\n",
      "0.25\t69.09030\n",
      "0.5\t69.09047\n",
      "0.75\t69.09063\n",
      "1.0\t69.09077\n",
      "1.25\t69.09088\n",
      "1.5\t69.09098\n",
      "1.75\t69.09106\n",
      "2.0\t69.09112\n",
      "Final score :  0.70274\n"
     ]
    }
   ],
   "source": [
    "scores = [] \n",
    "alphas = [] \n",
    "  \n",
    "for i in range(1, 9): \n",
    "    alpha = i * 0.25\n",
    "    ridge = Ridge(alpha = alpha) \n",
    "    ridge.fit(X_train, y_train) \n",
    "    scrs = cross_val_score(ridge, X, y, cv = 10) \n",
    "    avg_score = mean(scrs) * 100\n",
    "    scores.append(avg_score) \n",
    "    alphas.append(alpha) \n",
    "\n",
    "# Loop to print the different values of cross-validation scores \n",
    "print('alpha\\tscore')\n",
    "for i in range(0, len(alphas)): \n",
    "    print(str(alphas[i]) + '\\t' + '{:.5f}'.format(scores[i])) \n",
    "\n",
    "# Building and fitting the Ridge Regression model with the best alpha = 2\n",
    "best_ridge = Ridge(alpha = 2) \n",
    "best_ridge.fit(X_train, y_train) \n",
    "  \n",
    "# Evaluating the Ridge Regression model \n",
    "score = best_ridge.score(X_test, y_test) \n",
    "print('Final score : ', '{:.5f}'.format(score))"
   ]
  },
  {
   "cell_type": "markdown",
   "metadata": {},
   "source": [
    "## c) Lasso(L1) Regression:"
   ]
  },
  {
   "cell_type": "code",
   "execution_count": null,
   "metadata": {},
   "outputs": [
    {
     "name": "stderr",
     "output_type": "stream",
     "text": [
      "c:\\program files\\python37\\lib\\site-packages\\sklearn\\linear_model\\coordinate_descent.py:475: ConvergenceWarning: Objective did not converge. You might want to increase the number of iterations. Duality gap: 344081730012083.25, tolerance: 207353902481399.0\n",
      "  positive)\n"
     ]
    }
   ],
   "source": [
    "scores = [] \n",
    "lambdas = [] \n",
    "  \n",
    "# Loop to compute the cross-validation scores \n",
    "for i in range(1, 9): \n",
    "    lamda = i * 0.25\n",
    "    lasso = Lasso(alpha = lamda, tol = 0.0925, max_iter = 1e5) \n",
    "    lasso.fit(X_train, y_train) \n",
    "    scrs = cross_val_score(lasso, X, y, cv = 10) \n",
    "    avg_score = mean(scores) * 100\n",
    "    scores.append(avg_score) \n",
    "    lambdas.append(lamda) \n",
    "  \n",
    "# Loop to print the different values of cross-validation scores \n",
    "print('lambda\\tscore')\n",
    "for i in range(0, len(lambdas)): \n",
    "    print(str(lambdas[i]) + '\\t' + '{:.5f}'.format(scores[i])) "
   ]
  },
  {
   "cell_type": "code",
   "execution_count": null,
   "metadata": {},
   "outputs": [],
   "source": [
    "# Building and fitting the Lasso Regression Model with the best lambda = 2\n",
    "best_lasso = Lasso(alpha = 2, tol = 0.0925) \n",
    "best_lasso.fit(X_train, y_train) \n",
    "  \n",
    "# Evaluating the Lasso Regression model \n",
    "score = best_lasso.score(X_test, y_test)\n",
    "print('Final score : ', '{:.5f}'.format(score))"
   ]
  },
  {
   "cell_type": "markdown",
   "metadata": {},
   "source": [
    "## Step 4: Comparing and Visualizing the results"
   ]
  },
  {
   "cell_type": "code",
   "execution_count": null,
   "metadata": {},
   "outputs": [],
   "source": [
    "# Building the two lists for visualization \n",
    "models = ['Linear', 'Ridge', 'Lasso'] \n",
    "scores = [lr.score(X_test, y_test), best_ridge.score(X_test, y_test), best_lasso.score(X_test, y_test)] \n",
    "  \n",
    "# Building the dictionary to compare the scores \n",
    "mapping = {} \n",
    "mapping['Linear'] = linearModel.score(X_test, y_test) \n",
    "mapping['Ridge'] = ridgeModelChosen.score(X_test, y_test) \n",
    "mapping['Lasso'] = lassoModelChosen.score(X_test, y_test) \n",
    "  \n",
    "# Printing the scores for different models \n",
    "for key, val in mapping.items(): \n",
    "    print(str(key)+' : '+str(val)) \n",
    "\n",
    "# Plotting the scores \n",
    "plt.bar(models, scores) \n",
    "plt.xlabel('\\nRegression Models\\n') \n",
    "plt.ylabel('Score') \n",
    "plt.show() "
   ]
  },
  {
   "cell_type": "markdown",
   "metadata": {},
   "source": [
    "## Credits & Links"
   ]
  },
  {
   "cell_type": "markdown",
   "metadata": {},
   "source": [
    "https://www.geeksforgeeks.org/ml-implementing-l1-and-l2-regularization-using-sklearn/\n",
    "https://www.bogotobogo.com/python/scikit-learn/scikit-learn_logistic_regression.php"
   ]
  }
 ],
 "metadata": {
  "kernelspec": {
   "display_name": "Python 3",
   "language": "python",
   "name": "python3"
  },
  "language_info": {
   "codemirror_mode": {
    "name": "ipython",
    "version": 3
   },
   "file_extension": ".py",
   "mimetype": "text/x-python",
   "name": "python",
   "nbconvert_exporter": "python",
   "pygments_lexer": "ipython3",
   "version": "3.8.6"
  }
 },
 "nbformat": 4,
 "nbformat_minor": 4
}
