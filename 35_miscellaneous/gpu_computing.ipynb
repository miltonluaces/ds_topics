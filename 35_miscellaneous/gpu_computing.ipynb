{
 "cells": [
  {
   "cell_type": "code",
   "execution_count": 6,
   "metadata": {},
   "outputs": [],
   "source": [
    "import numpy as np\n",
    "from timeit import default_timer as timer\n",
    "from numba import jit, cuda \n",
    "from numba import vectorize  \n",
    "import warnings\n",
    "warnings.filterwarnings(\"ignore\")"
   ]
  },
  {
   "cell_type": "code",
   "execution_count": 11,
   "metadata": {},
   "outputs": [
    {
     "name": "stdout",
     "output_type": "stream",
     "text": [
      "without GPU: 3.9774762000000123\n",
      "with GPU: 1.5215264000000275\n"
     ]
    }
   ],
   "source": [
    "# normal function to run on cpu \n",
    "def func(a):                                 \n",
    "    for i in range(10000000): \n",
    "        a[i]+= 1      \n",
    "  \n",
    "# function optimized to run on gpu  \n",
    "@jit(target =\"cuda\")                          \n",
    "def func2(a): \n",
    "    for i in range(10000000): \n",
    "        a[i]+= 1\n",
    "\n",
    "\n",
    "n = 10000000                            \n",
    "a = np.ones(n, dtype = np.float64) \n",
    "b = np.ones(n, dtype = np.float32) \n",
    "\n",
    "start = timer() \n",
    "func(a) \n",
    "print(\"without GPU:\", timer()-start)     \n",
    "\n",
    "start = timer() \n",
    "func2(a) \n",
    "print(\"with GPU:\", timer()-start) "
   ]
  },
  {
   "cell_type": "code",
   "execution_count": 10,
   "metadata": {},
   "outputs": [
    {
     "name": "stdout",
     "output_type": "stream",
     "text": [
      "0.5398103999999648\n"
     ]
    }
   ],
   "source": [
    "@vectorize([\"float32(float32, float32)\"], target='cuda')     \n",
    "def VecADD(a,b):\n",
    "    return a+b        \n",
    "\n",
    "n = 32000000\n",
    "a = np.ones (n, dtype=np.float32) \n",
    "b = np.ones (n, dtype=np.float32)     \n",
    "c = np.zeros(n, dtype=np.float32) \n",
    "\n",
    "start = timer()\n",
    "C = VecADD(a,b)\n",
    "print (timer() - start)"
   ]
  },
  {
   "cell_type": "markdown",
   "metadata": {},
   "source": [
    "## Credits & Links"
   ]
  },
  {
   "cell_type": "code",
   "execution_count": null,
   "metadata": {},
   "outputs": [],
   "source": []
  }
 ],
 "metadata": {
  "kernelspec": {
   "display_name": "Python 3",
   "language": "python",
   "name": "python3"
  },
  "language_info": {
   "codemirror_mode": {
    "name": "ipython",
    "version": 3
   },
   "file_extension": ".py",
   "mimetype": "text/x-python",
   "name": "python",
   "nbconvert_exporter": "python",
   "pygments_lexer": "ipython3",
   "version": "3.7.1"
  }
 },
 "nbformat": 4,
 "nbformat_minor": 4
}
