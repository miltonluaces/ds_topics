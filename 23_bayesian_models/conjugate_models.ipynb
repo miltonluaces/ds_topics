{
 "cells": [
  {
   "cell_type": "markdown",
   "metadata": {},
   "source": [
    "# Conjugate models"
   ]
  },
  {
   "cell_type": "markdown",
   "metadata": {},
   "source": [
    "## Imports"
   ]
  },
  {
   "cell_type": "code",
   "execution_count": 4,
   "metadata": {},
   "outputs": [],
   "source": [
    "from conjugate_prior import BetaBinomial\n",
    "from thinkbayes2 import Suite"
   ]
  },
  {
   "cell_type": "markdown",
   "metadata": {},
   "source": [
    "## Beta-binomial"
   ]
  },
  {
   "cell_type": "code",
   "execution_count": 2,
   "metadata": {},
   "outputs": [
    {
     "name": "stdout",
     "output_type": "stream",
     "text": [
      "F =  1\n",
      "T =  1\n",
      "F =  106\n",
      "T =  96\n",
      "There's 74.67% chance that the coin is fair\n",
      "The chance of flipping 50 Heads and 50 Tails in 100 trials is 5.99%\n",
      "F =  109\n",
      "T =  101\n"
     ]
    }
   ],
   "source": [
    "heads = 95\n",
    "tails = 105\n",
    "model = BetaBinomial() # Uninformative prior\n",
    "print('F = ', model.F); print('T = ', model.T)\n",
    "model = model.update(heads, tails)\n",
    "print('F = ', model.F); print('T = ', model.T)\n",
    "ci = model.posterior(0.45, 0.55)\n",
    "print (\"There's {p:.2f}% chance that the coin is fair\".format(p=ci*100))\n",
    "pred = model.predict(50, 50)\n",
    "print (\"The chance of flipping 50 Heads and 50 Tails in 100 trials is {p:.2f}%\".format(p=pred*100))\n",
    "\n",
    "model = model.update(5,3)\n",
    "print('F = ', model.F); print('T = ', model.T)"
   ]
  },
  {
   "cell_type": "markdown",
   "metadata": {},
   "source": [
    "## Dirichlet-Multinomial"
   ]
  },
  {
   "cell_type": "code",
   "execution_count": 5,
   "metadata": {},
   "outputs": [
    {
     "name": "stdout",
     "output_type": "stream",
     "text": [
      "After one 6\n",
      "4 0.0\n",
      "6 0.3526448362720403\n",
      "8 0.2644836272040302\n",
      "12 0.17632241813602015\n",
      "20 0.10579345088161209\n",
      "21 0.10075566750629722\n",
      "After more rolls\n",
      "4 0.0\n",
      "6 0.0\n",
      "8 0.9132887215873028\n",
      "12 0.0801789824164436\n",
      "20 0.0037408306036215934\n",
      "21 0.0027914653926319217\n"
     ]
    }
   ],
   "source": [
    "# Represents hypotheses about which die was rolled\n",
    "class Dice(Suite):\n",
    "     # Computes the likelihood of the data under the hypothesis\n",
    "     #   hypo: integer number of sides on the die\n",
    "     #   data: integer die roll\n",
    "     def Likelihood(self, data, hypo):\n",
    "        if hypo < data: return 0\n",
    "        else: return 1.0/hypo\n",
    "\n",
    "\n",
    "\n",
    "suite = Dice([4, 6, 8, 12, 20, 21])\n",
    "\n",
    "suite.Update(6)\n",
    "print('After one 6')\n",
    "suite.Print()\n",
    "\n",
    "for roll in [4, 8, 7, 7, 2]:\n",
    "    suite.Update(roll)\n",
    "\n",
    "print('After more rolls')\n",
    "suite.Print()"
   ]
  },
  {
   "cell_type": "code",
   "execution_count": null,
   "metadata": {},
   "outputs": [],
   "source": []
  }
 ],
 "metadata": {
  "kernelspec": {
   "display_name": "Python 3",
   "language": "python",
   "name": "python3"
  },
  "language_info": {
   "codemirror_mode": {
    "name": "ipython",
    "version": 3
   },
   "file_extension": ".py",
   "mimetype": "text/x-python",
   "name": "python",
   "nbconvert_exporter": "python",
   "pygments_lexer": "ipython3",
   "version": "3.7.1"
  }
 },
 "nbformat": 4,
 "nbformat_minor": 4
}
