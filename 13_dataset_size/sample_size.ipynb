{
 "cells": [
  {
   "cell_type": "markdown",
   "metadata": {},
   "source": [
    "# Sample size"
   ]
  },
  {
   "cell_type": "code",
   "execution_count": 75,
   "metadata": {},
   "outputs": [],
   "source": [
    "import numpy as np\n",
    "import math\n",
    "from scipy import stats"
   ]
  },
  {
   "cell_type": "markdown",
   "metadata": {},
   "source": [
    "## Margin of error"
   ]
  },
  {
   "cell_type": "markdown",
   "metadata": {},
   "source": [
    "p : standard deviation of population  \n",
    "n : population size  \n",
    "z : z-score of ci (number of sd the proportion is away from the mean)  "
   ]
  },
  {
   "cell_type": "markdown",
   "metadata": {},
   "source": [
    "$ \\large e = z \\frac{s}{\\sqrt{n}} $"
   ]
  },
  {
   "cell_type": "code",
   "execution_count": 91,
   "metadata": {},
   "outputs": [
    {
     "data": {
      "text/plain": [
       "0.196"
      ]
     },
     "execution_count": 91,
     "metadata": {},
     "output_type": "execute_result"
    }
   ],
   "source": [
    "def error_margin(z, s, n):\n",
    "    return z * (s / math.sqrt(n))\n",
    "\n",
    "error_margin(1.96, 1, 100)"
   ]
  },
  {
   "cell_type": "markdown",
   "metadata": {},
   "source": [
    "## Z-score of CI"
   ]
  },
  {
   "cell_type": "markdown",
   "metadata": {},
   "source": [
    "Z-scores for confidence levels:\n",
    "\n",
    "80%  1.28   \n",
    "85%  1.44   \n",
    "90%  1.65    \n",
    "95%  1.96  \n",
    "99%  2.58  "
   ]
  },
  {
   "cell_type": "markdown",
   "metadata": {},
   "source": [
    " ![](zscore.png)"
   ]
  },
  {
   "cell_type": "code",
   "execution_count": 28,
   "metadata": {},
   "outputs": [
    {
     "data": {
      "text/plain": [
       "0.950004209703559"
      ]
     },
     "execution_count": 28,
     "metadata": {},
     "output_type": "execute_result"
    }
   ],
   "source": [
    "tail = 1 - stats.norm.cdf(1.96)\n",
    "ci = 1 - (tail * 2)\n",
    "ci"
   ]
  },
  {
   "cell_type": "code",
   "execution_count": 31,
   "metadata": {},
   "outputs": [
    {
     "data": {
      "text/plain": [
       "1.959963984540054"
      ]
     },
     "execution_count": 31,
     "metadata": {},
     "output_type": "execute_result"
    }
   ],
   "source": [
    "ci = 0.95\n",
    "tail = (1 - ci)/2\n",
    "-stats.norm.ppf(tail)"
   ]
  },
  {
   "cell_type": "markdown",
   "metadata": {},
   "source": [
    "## Sample size formula"
   ]
  },
  {
   "cell_type": "markdown",
   "metadata": {},
   "source": [
    "p : p is the (estimated) proportion of the population which has the attribute in question\n",
    "n : population size\n",
    "e : Margin of error \n",
    "z : z-score of ci (number of sd the proportion is away from the mean)"
   ]
  },
  {
   "cell_type": "markdown",
   "metadata": {},
   "source": [
    "  \n",
    "$ \\large s = \\frac{z^2 p(1-p) \\; / \\; e^2} {1 + z^2 p(1-p) \\; / \\; e^2 n} $\n",
    "  "
   ]
  },
  {
   "cell_type": "code",
   "execution_count": 71,
   "metadata": {},
   "outputs": [
    {
     "data": {
      "text/plain": [
       "91.43183549124143"
      ]
     },
     "execution_count": 71,
     "metadata": {},
     "output_type": "execute_result"
    }
   ],
   "source": [
    "def sample_size(z,p,e,n):\n",
    "    num = (z**2 * p * (1-p))/ e**2 \n",
    "    den = 1 + (z**2 * p * (1-p))/ (e**2 * n)\n",
    "    return num/den\n",
    "\n",
    "sample_size(1.96, 0.5, 0.03, 100)"
   ]
  },
  {
   "cell_type": "markdown",
   "metadata": {},
   "source": [
    "#### Crochan's formula (for large populations)"
   ]
  },
  {
   "cell_type": "code",
   "execution_count": 69,
   "metadata": {},
   "outputs": [
    {
     "data": {
      "text/plain": [
       "1067.111111111111"
      ]
     },
     "execution_count": 69,
     "metadata": {},
     "output_type": "execute_result"
    }
   ],
   "source": [
    "def crochan(z,p,e):\n",
    "    return (z**2 * p * (1-p)) / e**2\n",
    "    \n",
    "crochan(1.96, 0.5, 0.03)"
   ]
  },
  {
   "cell_type": "markdown",
   "metadata": {},
   "source": [
    "## Credits & Links"
   ]
  },
  {
   "cell_type": "markdown",
   "metadata": {},
   "source": [
    "https://www.surveymonkey.com/mp/sample-size-calculator/  \n",
    "https://www.statisticshowto.com/probability-and-statistics/find-sample-size/\n",
    "https://www.investopedia.com/terms/z/zscore.asp  \n",
    "https://www.statology.org/z-score-python/  \n",
    "https://www.surveymonkey.com/mp/margin-of-error-calculator/"
   ]
  }
 ],
 "metadata": {
  "kernelspec": {
   "display_name": "Python 3.8.1 64-bit",
   "language": "python",
   "name": "python38164bitc33de82c9da04edea88eb124459bf44a"
  },
  "language_info": {
   "codemirror_mode": {
    "name": "ipython",
    "version": 3
   },
   "file_extension": ".py",
   "mimetype": "text/x-python",
   "name": "python",
   "nbconvert_exporter": "python",
   "pygments_lexer": "ipython3",
   "version": "3.8.1"
  }
 },
 "nbformat": 4,
 "nbformat_minor": 4
}
