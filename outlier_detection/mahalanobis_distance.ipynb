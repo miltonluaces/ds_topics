{
 "cells": [
  {
   "cell_type": "markdown",
   "metadata": {},
   "source": [
    "# Mahalanobis distance for multivariate outlier detection"
   ]
  },
  {
   "cell_type": "code",
   "execution_count": 5,
   "metadata": {},
   "outputs": [],
   "source": [
    "import pandas as pd\n",
    "import numpy as np\n",
    "from scipy.stats import chi2\n",
    "from matplotlib import patches\n",
    "import matplotlib.pyplot as plt"
   ]
  },
  {
   "cell_type": "markdown",
   "metadata": {},
   "source": [
    "### Load data"
   ]
  },
  {
   "cell_type": "code",
   "execution_count": 8,
   "metadata": {},
   "outputs": [
    {
     "data": {
      "text/html": [
       "<div>\n",
       "<style scoped>\n",
       "    .dataframe tbody tr th:only-of-type {\n",
       "        vertical-align: middle;\n",
       "    }\n",
       "\n",
       "    .dataframe tbody tr th {\n",
       "        vertical-align: top;\n",
       "    }\n",
       "\n",
       "    .dataframe thead th {\n",
       "        text-align: right;\n",
       "    }\n",
       "</style>\n",
       "<table border=\"1\" class=\"dataframe\">\n",
       "  <thead>\n",
       "    <tr style=\"text-align: right;\">\n",
       "      <th></th>\n",
       "      <th>Ozone</th>\n",
       "      <th>Temp</th>\n",
       "    </tr>\n",
       "  </thead>\n",
       "  <tbody>\n",
       "    <tr>\n",
       "      <th>0</th>\n",
       "      <td>41.0</td>\n",
       "      <td>67</td>\n",
       "    </tr>\n",
       "    <tr>\n",
       "      <th>1</th>\n",
       "      <td>36.0</td>\n",
       "      <td>72</td>\n",
       "    </tr>\n",
       "    <tr>\n",
       "      <th>2</th>\n",
       "      <td>12.0</td>\n",
       "      <td>74</td>\n",
       "    </tr>\n",
       "    <tr>\n",
       "      <th>3</th>\n",
       "      <td>18.0</td>\n",
       "      <td>62</td>\n",
       "    </tr>\n",
       "    <tr>\n",
       "      <th>5</th>\n",
       "      <td>28.0</td>\n",
       "      <td>66</td>\n",
       "    </tr>\n",
       "  </tbody>\n",
       "</table>\n",
       "</div>"
      ],
      "text/plain": [
       "   Ozone  Temp\n",
       "0   41.0    67\n",
       "1   36.0    72\n",
       "2   12.0    74\n",
       "3   18.0    62\n",
       "5   28.0    66"
      ]
     },
     "metadata": {},
     "output_type": "display_data"
    }
   ],
   "source": [
    "df= pd.read_csv('D:/data/csv/airquality.csv', sep=',', decimal='.' )\n",
    "df.head()\n",
    "\n",
    "df = df[['Ozone', 'Temp']]\n",
    "df = df.dropna()\n",
    "display(df.head())\n",
    "df = df.to_numpy()"
   ]
  },
  {
   "cell_type": "code",
   "execution_count": 11,
   "metadata": {},
   "outputs": [
    {
     "data": {
      "text/plain": [
       "(array([[1088.20052474,  218.52121439],\n",
       "        [ 218.52121439,   89.97443778]]),\n",
       " array([[ 0.00179379, -0.0043566 ],\n",
       "        [-0.0043566 ,  0.02169515]]),\n",
       " array([42.12931034, 77.87068966]))"
      ]
     },
     "execution_count": 11,
     "metadata": {},
     "output_type": "execute_result"
    }
   ],
   "source": [
    "C  = np.cov(df , rowvar=False)\n",
    "C_1 = np.linalg.matrix_power(C, -1)\n",
    "center = np.mean(df , axis=0)\n",
    "C, C_1, center"
   ]
  },
  {
   "cell_type": "markdown",
   "metadata": {},
   "source": [
    "$\\large D^2 = (X_{p_1} - X_{p_2})^T \\; C^{-1} \\; (X_{p_1} - X_{p_2}) $"
   ]
  },
  {
   "cell_type": "code",
   "execution_count": 18,
   "metadata": {},
   "outputs": [
    {
     "data": {
      "text/plain": [
       "array([2.45907773e+00, 5.01584040e-01, 9.37261736e-01, 3.17223080e+00,\n",
       "       1.95382558e+00, 2.10505386e+00, 4.88231046e+00, 3.24738122e+00,\n",
       "       1.35393435e+00, 9.12282292e-01, 1.57562818e+00, 1.11385684e+00,\n",
       "       5.43291539e+00, 2.19376336e+00, 2.33485072e+00, 5.22145783e+00,\n",
       "       1.33448880e+00, 2.89809874e+00, 3.99748191e+00, 9.31830944e-01,\n",
       "       3.17785963e+00, 4.86994100e+00, 1.40826315e+00, 1.48960908e-01,\n",
       "       8.83592614e+00, 3.95100540e-02, 1.15152620e+00, 1.63575275e+00,\n",
       "       2.07465514e+00, 1.71459512e+00, 6.56985609e-01, 5.32540825e-01,\n",
       "       1.99064802e+00, 8.64384792e-01, 1.12318836e+00, 1.13266328e+01,\n",
       "       7.60578501e-01, 6.72688743e-01, 4.51356803e-01, 6.74093035e-01,\n",
       "       1.32953844e+00, 2.97670069e+00, 2.97670069e+00, 1.82675458e+00,\n",
       "       1.00286469e+00, 1.03556407e+00, 2.96378788e+00, 1.14202794e-01,\n",
       "       7.17610507e-01, 4.46023244e-01, 1.31384263e+00, 5.87584707e-01,\n",
       "       6.68500262e-01, 1.32391418e+00, 4.79405873e+00, 2.04456205e+00,\n",
       "       9.09345968e-01, 1.55859888e+00, 9.87361648e-01, 4.51356803e-01,\n",
       "       2.63000795e-01, 3.15342061e-01, 3.08454634e+00, 2.53474421e+00,\n",
       "       1.20102483e+00, 1.63673990e+00, 9.31484680e-01, 6.38519353e+00,\n",
       "       2.17898375e+00, 4.28187129e+00, 1.30751084e+00, 1.23640204e+00,\n",
       "       6.12320573e-01, 5.90562590e-01, 3.72213092e-01, 4.20524446e-01,\n",
       "       2.35084443e-01, 4.53240035e-03, 6.56985609e-01, 1.02185979e+00,\n",
       "       1.42038483e-02, 2.52002912e+01, 9.56584272e-01, 4.35132339e+00,\n",
       "       5.30712801e+00, 3.66131679e+00, 2.91595077e+00, 2.78275821e+00,\n",
       "       2.22315991e+00, 2.60590292e+00, 2.80777482e+00, 1.46328114e+00,\n",
       "       1.54006598e+00, 1.38736484e+00, 6.78320169e-01, 4.51117704e-01,\n",
       "       3.34862978e-01, 1.67722126e-01, 5.32356511e-01, 2.67363865e-01,\n",
       "       1.00962386e+00, 8.02369602e-01, 2.28767029e-02, 1.32265663e+00,\n",
       "       1.12318836e+00, 1.14412412e+00, 2.53474421e+00, 2.17561561e+00,\n",
       "       5.35365250e-01, 4.46965100e-01, 1.20562277e+00, 2.57221572e+00,\n",
       "       7.76055174e-01, 8.94546672e-01, 7.27011531e-01, 1.08896613e+00])"
      ]
     },
     "execution_count": 18,
     "metadata": {},
     "output_type": "execute_result"
    }
   ],
   "source": [
    "dist = []\n",
    "for i, point in enumerate(df):\n",
    "      d = (point-center).T.dot(C_1).dot(point-center)\n",
    "      dist.append(d)\n",
    "dist = np.array(dist)\n",
    "dist"
   ]
  },
  {
   "cell_type": "code",
   "execution_count": 16,
   "metadata": {},
   "outputs": [
    {
     "name": "stdout",
     "output_type": "stream",
     "text": [
      "Index of Outliers:  (array([24, 35, 67, 81], dtype=int64),)\n",
      "Outliers: \n"
     ]
    },
    {
     "data": {
      "text/plain": [
       "array([[115.,  79.],\n",
       "       [135.,  84.],\n",
       "       [122.,  89.],\n",
       "       [168.,  81.]])"
      ]
     },
     "execution_count": 16,
     "metadata": {},
     "output_type": "execute_result"
    }
   ],
   "source": [
    "cutoff = chi2.ppf(0.95, df.shape[1])\n",
    "out_idxs = np.where(dist > cutoff )\n",
    "\n",
    "print('Index of Outliers: ', out_idxs)\n",
    "print('Outliers: ')\n",
    "df[ dist > cutoff , :]"
   ]
  },
  {
   "cell_type": "code",
   "execution_count": 17,
   "metadata": {},
   "outputs": [
    {
     "data": {
      "image/png": "[encoded data removed]",
      "text/plain": [
       "<Figure size 432x288 with 1 Axes>"
      ]
     },
     "metadata": {
      "needs_background": "light"
     },
     "output_type": "display_data"
    }
   ],
   "source": [
    "## Finding ellipse dimensions \n",
    "pearson = covariance[0, 1]/np.sqrt(covariance[0, 0] * covariance[1, 1])\n",
    "rad_x = np.sqrt(1 + pearson)\n",
    "rad_y = np.sqrt(1 - pearson)\n",
    "lambda_, v = np.linalg.eig(C)\n",
    "lambda_ = np.sqrt(lambda_)\n",
    "\n",
    "# Ellipse patch\n",
    "ellipse = patches.Ellipse(xy=(centerpoint[0], centerpoint[1]), width=lambda_[0]*np.sqrt(cutoff)*2, height=lambda_[1]*np.sqrt(cutoff)*2, angle=np.rad2deg(np.arccos(v[0, 0])), edgecolor='#fab1a0')\n",
    "ellipse.set_facecolor('#0984e3')\n",
    "ellipse.set_alpha(0.5)\n",
    "\n",
    "fig = plt.figure()\n",
    "ax = plt.subplot()\n",
    "ax.add_artist(ellipse)\n",
    "plt.scatter(df[: , 0], df[ : , 1])\n",
    "plt.show()"
   ]
  },
  {
   "cell_type": "markdown",
   "metadata": {},
   "source": [
    "### Credits & Links"
   ]
  },
  {
   "cell_type": "markdown",
   "metadata": {},
   "source": [
    "https://towardsdatascience.com/multivariate-outlier-detection-in-python-e946cfc843b3"
   ]
  }
 ],
 "metadata": {
  "kernelspec": {
   "display_name": "Python 3",
   "language": "python",
   "name": "python3"
  },
  "language_info": {
   "codemirror_mode": {
    "name": "ipython",
    "version": 3
   },
   "file_extension": ".py",
   "mimetype": "text/x-python",
   "name": "python",
   "nbconvert_exporter": "python",
   "pygments_lexer": "ipython3",
   "version": "3.8.6"
  }
 },
 "nbformat": 4,
 "nbformat_minor": 4
}
