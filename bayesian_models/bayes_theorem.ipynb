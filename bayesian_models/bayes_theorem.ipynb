{
 "cells": [
  {
   "cell_type": "markdown",
   "metadata": {},
   "source": [
    "# Bayes theorem"
   ]
  },
  {
   "cell_type": "code",
   "execution_count": 46,
   "metadata": {},
   "outputs": [],
   "source": [
    "import sys\n",
    "sys.path.append('D:/source/repos')\n",
    "from utilities.std_imports import *"
   ]
  },
  {
   "cell_type": "markdown",
   "metadata": {},
   "source": [
    "From Conditional probability definition to Bayes theorem\n",
    "\n",
    "$P(A|B)$ : Conditional probability of A given B  \n",
    "$P(A \\cap B)$ Joint probability of A and B  \n",
    "$P(A)$ Marginal probability of A"
   ]
  },
  {
   "cell_type": "markdown",
   "metadata": {},
   "source": [
    "$\\large P(A|B) = \\frac{P \\,(A \\, \\cap B)}{P \\,(B)} \\; \\therefore P(B) \\;  P(A|B) =  P(A \\cap B) $  \n",
    "  \n",
    "$\\large P(B|A) = \\frac{P \\,(B \\, \\cap A)}{P \\,(A)} \\; \\therefore P(A) \\;  P(B|A) =  P(B \\cap A) $  \n",
    "  \n",
    "$\\large  P(B) \\;  P(A|B) =  P(A) \\;  P(B|A)  \\; \\therefore P(A|B) = \\frac{ P \\,(A) \\;  P\\,(B|A)}{P\\,(B) } $  "
   ]
  },
  {
   "cell_type": "markdown",
   "metadata": {},
   "source": [
    "$P(c|X)$ : Posterior  \n",
    "$P(c)$   : Prior  \n",
    "$P(X|c)$ : Likelihood   "
   ]
  },
  {
   "cell_type": "markdown",
   "metadata": {},
   "source": [
    "$\\large P(c|X) = \\frac{ P \\,(c) \\;  P\\,(X|c)}{P\\,(X) }  $"
   ]
  },
  {
   "cell_type": "code",
   "execution_count": 38,
   "metadata": {},
   "outputs": [
    {
     "data": {
      "text/html": [
       "<div>\n",
       "<style scoped>\n",
       "    .dataframe tbody tr th:only-of-type {\n",
       "        vertical-align: middle;\n",
       "    }\n",
       "\n",
       "    .dataframe tbody tr th {\n",
       "        vertical-align: top;\n",
       "    }\n",
       "\n",
       "    .dataframe thead th {\n",
       "        text-align: right;\n",
       "    }\n",
       "</style>\n",
       "<table border=\"1\" class=\"dataframe\">\n",
       "  <thead>\n",
       "    <tr style=\"text-align: right;\">\n",
       "      <th></th>\n",
       "      <th>id</th>\n",
       "      <th>x1</th>\n",
       "      <th>x2</th>\n",
       "      <th>c</th>\n",
       "    </tr>\n",
       "  </thead>\n",
       "  <tbody>\n",
       "    <tr>\n",
       "      <th>0</th>\n",
       "      <td>1</td>\n",
       "      <td>Engineer</td>\n",
       "      <td>Python</td>\n",
       "      <td>5</td>\n",
       "    </tr>\n",
       "    <tr>\n",
       "      <th>1</th>\n",
       "      <td>2</td>\n",
       "      <td>Engineer</td>\n",
       "      <td>RLang</td>\n",
       "      <td>4</td>\n",
       "    </tr>\n",
       "    <tr>\n",
       "      <th>2</th>\n",
       "      <td>3</td>\n",
       "      <td>Developer</td>\n",
       "      <td>Java</td>\n",
       "      <td>3</td>\n",
       "    </tr>\n",
       "    <tr>\n",
       "      <th>3</th>\n",
       "      <td>4</td>\n",
       "      <td>Tester</td>\n",
       "      <td>CSarp</td>\n",
       "      <td>2</td>\n",
       "    </tr>\n",
       "    <tr>\n",
       "      <th>4</th>\n",
       "      <td>5</td>\n",
       "      <td>Tester</td>\n",
       "      <td>Java</td>\n",
       "      <td>1</td>\n",
       "    </tr>\n",
       "    <tr>\n",
       "      <th>5</th>\n",
       "      <td>6</td>\n",
       "      <td>Developer</td>\n",
       "      <td>Python</td>\n",
       "      <td>3</td>\n",
       "    </tr>\n",
       "    <tr>\n",
       "      <th>6</th>\n",
       "      <td>7</td>\n",
       "      <td>Developer</td>\n",
       "      <td>RLang</td>\n",
       "      <td>2</td>\n",
       "    </tr>\n",
       "    <tr>\n",
       "      <th>7</th>\n",
       "      <td>8</td>\n",
       "      <td>Tester</td>\n",
       "      <td>RLang</td>\n",
       "      <td>1</td>\n",
       "    </tr>\n",
       "    <tr>\n",
       "      <th>8</th>\n",
       "      <td>9</td>\n",
       "      <td>Engineer</td>\n",
       "      <td>Java</td>\n",
       "      <td>4</td>\n",
       "    </tr>\n",
       "    <tr>\n",
       "      <th>9</th>\n",
       "      <td>10</td>\n",
       "      <td>Developer</td>\n",
       "      <td>Python</td>\n",
       "      <td>3</td>\n",
       "    </tr>\n",
       "  </tbody>\n",
       "</table>\n",
       "</div>"
      ],
      "text/plain": [
       "   id         x1      x2  c\n",
       "0   1   Engineer  Python  5\n",
       "1   2   Engineer   RLang  4\n",
       "2   3  Developer    Java  3\n",
       "3   4     Tester   CSarp  2\n",
       "4   5     Tester    Java  1\n",
       "5   6  Developer  Python  3\n",
       "6   7  Developer   RLang  2\n",
       "7   8     Tester   RLang  1\n",
       "8   9   Engineer    Java  4\n",
       "9  10  Developer  Python  3"
      ]
     },
     "execution_count": 38,
     "metadata": {},
     "output_type": "execute_result"
    }
   ],
   "source": [
    "id = [1, 2, 3, 4, 5, 6, 7, 8, 9, 10]\n",
    "job =   ['Engineer', 'Engineer', 'Developer', 'Tester', 'Tester', 'Developer', 'Developer', 'Tester', 'Engineer', 'Developer']\n",
    "lang =  ['Python' ,  'RLang',    'Java',      'CSarp' , 'Java',   'Python'   , 'RLang'    , 'RLang' , 'Java',     'Python']\n",
    "income =['5', '4', '3', '2', '1', '3', '2', '1', '4', '3']\n",
    "ds = pd.DataFrame({'id':id, 'x1': job, 'x2':lang, 'c':income})\n",
    "ds"
   ]
  },
  {
   "cell_type": "code",
   "execution_count": 107,
   "metadata": {},
   "outputs": [],
   "source": [
    "level_counts = ds['c'].value_counts()\n",
    "pc = {k:v for k,v in zip(level_counts.index, level_counts)}\n",
    "\n",
    "def Pc(c):\n",
    "    return pc[c] /ds.shape[0]\n",
    "\n",
    "def L(xi, xi_val, c):\n",
    "    idx = np.where((ds['c']==c) & (ds[xi]==xi_val))\n",
    "    return len(idx[0])/ pc[c]\n",
    "\n",
    "def Px(xi, xi_val):\n",
    "    idx = np.where(ds[xi]==xi_val)\n",
    "    return len(idx[0])/ ds.shape[0]\n",
    "\n",
    "def Bayes(xi, xi_val, c):\n",
    "    post = Pc(c) * L(xi, xi_val, c) / Px(xi, xi_val)\n",
    "    return round(post, 2)"
   ]
  },
  {
   "cell_type": "code",
   "execution_count": 117,
   "metadata": {},
   "outputs": [
    {
     "name": "stdout",
     "output_type": "stream",
     "text": [
      "P(c)   =  0.2\n",
      "L(X|c) =  1.0\n",
      "P(X)   =  0.3\n",
      "Bayes  =  0.67\n"
     ]
    }
   ],
   "source": [
    "xi = 'x1'\n",
    "xi_val = 'Engineer'\n",
    "c = '4'\n",
    "\n",
    "print('P(c)   = ', Pc(c))\n",
    "print('L(X|c) = ', L(xi, xi_val, c))\n",
    "print('P(X)   = ', Px(xi, xi_val))\n",
    "print('Bayes  = ', Bayes(xi, xi_val, c))"
   ]
  },
  {
   "cell_type": "code",
   "execution_count": 118,
   "metadata": {},
   "outputs": [
    {
     "name": "stdout",
     "output_type": "stream",
     "text": [
      "P(c)   =  0.2\n",
      "L(X|c) =  0.5\n",
      "P(X)   =  0.3\n",
      "Bayes  =  0.33\n"
     ]
    }
   ],
   "source": [
    "xi = 'x2'\n",
    "xi_val = 'RLang'\n",
    "c = '2'\n",
    "\n",
    "print('P(c)   = ', Pc(c))\n",
    "print('L(X|c) = ', L(xi, xi_val, c))\n",
    "print('P(X)   = ', Px(xi, xi_val))\n",
    "print('Bayes  = ', Bayes(xi, xi_val, c))"
   ]
  }
 ],
 "metadata": {
  "kernelspec": {
   "display_name": "Python 3.9 64-bit",
   "language": "python",
   "name": "python38164bitc33de82c9da04edea88eb124459bf44a"
  },
  "language_info": {
   "codemirror_mode": {
    "name": "ipython",
    "version": 3
   },
   "file_extension": ".py",
   "mimetype": "text/x-python",
   "name": "python",
   "nbconvert_exporter": "python",
   "pygments_lexer": "ipython3",
   "version": "3.9.2"
  }
 },
 "nbformat": 4,
 "nbformat_minor": 4
}
