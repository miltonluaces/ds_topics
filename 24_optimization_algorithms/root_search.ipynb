{
 "cells": [
  {
   "cell_type": "markdown",
   "metadata": {},
   "source": [
    "# Root search"
   ]
  },
  {
   "cell_type": "markdown",
   "metadata": {},
   "source": [
    "## Imports"
   ]
  },
  {
   "cell_type": "code",
   "execution_count": 1,
   "metadata": {},
   "outputs": [],
   "source": [
    "import numpy as np\n",
    "from scipy import optimize"
   ]
  },
  {
   "cell_type": "markdown",
   "metadata": {},
   "source": [
    "## Function definition"
   ]
  },
  {
   "cell_type": "code",
   "execution_count": 2,
   "metadata": {},
   "outputs": [],
   "source": [
    "def f1(z, *params):\n",
    "     x, y = z\n",
    "     a, b, c, d, e, f, g, h, i, j, k, l, scale = params\n",
    "     return (a * x**2 + b * x * y + c * y**2 + d*x + e*y + f)\n",
    "\n",
    "def f2(z, *params):\n",
    "     x, y = z\n",
    "     a, b, c, d, e, f, g, h, i, j, k, l, scale = params\n",
    "     return (-g*np.exp(-((x-h)**2 + (y-i)**2) / scale))\n",
    "\n",
    "def f3(z, *params):\n",
    "     x, y = z\n",
    "     a, b, c, d, e, f, g, h, i, j, k, l, scale = params\n",
    "     return (-j*np.exp(-((x-k)**2 + (y-l)**2) / scale))\n",
    "\n",
    "def f(z, *params):\n",
    "     return f1(z, *params) + f2(z, *params) + f3(z, *params)"
   ]
  },
  {
   "cell_type": "markdown",
   "metadata": {},
   "source": [
    "## Testing"
   ]
  },
  {
   "cell_type": "code",
   "execution_count": 3,
   "metadata": {},
   "outputs": [
    {
     "name": "stdout",
     "output_type": "stream",
     "text": [
      "global minimum :  [-1.05665192  1.80834843]\n",
      "function value at global minimum : -3.4085818767996527\n"
     ]
    }
   ],
   "source": [
    "rranges = (slice(-4, 4, 0.25), slice(-4, 4, 0.25))\n",
    "params = (2, 3, 7, 8, 9, 10, 44, -1, 2, 26, 1, -2, 0.5)\n",
    "resbrute = optimize.brute(f, rranges, args=params, full_output=True, finish=optimize.fmin)\n",
    "print('global minimum : ', resbrute[0]) \n",
    "print('function value at global minimum :', resbrute[1])"
   ]
  },
  {
   "cell_type": "markdown",
   "metadata": {},
   "source": [
    "## Credits & Links"
   ]
  },
  {
   "cell_type": "code",
   "execution_count": null,
   "metadata": {},
   "outputs": [],
   "source": []
  }
 ],
 "metadata": {
  "kernelspec": {
   "display_name": "Python 3",
   "language": "python",
   "name": "python3"
  },
  "language_info": {
   "codemirror_mode": {
    "name": "ipython",
    "version": 3
   },
   "file_extension": ".py",
   "mimetype": "text/x-python",
   "name": "python",
   "nbconvert_exporter": "python",
   "pygments_lexer": "ipython3",
   "version": "3.7.1"
  }
 },
 "nbformat": 4,
 "nbformat_minor": 4
}
