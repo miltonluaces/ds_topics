{
 "cells": [
  {
   "cell_type": "markdown",
   "metadata": {},
   "source": [
    "# Bias, Variance & Noise\n",
    "\n",
    "Error is equal to Bias squared plus Variance plus irreductible error.  \n",
    "  \n",
    "$\\large Y = f(X) + \\varepsilon $"
   ]
  },
  {
   "cell_type": "markdown",
   "metadata": {},
   "source": [
    "$\\large Err = E[(Y - \\hat{f}(X))^2] = [Y - E[\\hat{f}(X)]]^2 + E[\\hat{f}(X) - E[\\hat{f}(X)]]^2 + \\varepsilon $"
   ]
  },
  {
   "cell_type": "markdown",
   "metadata": {},
   "source": [
    " ![](biasvariance.png)"
   ]
  },
  {
   "cell_type": "markdown",
   "metadata": {},
   "source": [
    "## Imports"
   ]
  },
  {
   "cell_type": "code",
   "execution_count": 1,
   "metadata": {},
   "outputs": [],
   "source": [
    "import numpy as np\n",
    "import pandas as pd\n",
    "import random\n",
    "from sklearn import linear_model\n",
    "from sklearn.tree import DecisionTreeRegressor\n",
    "import matplotlib.pyplot as plt"
   ]
  },
  {
   "cell_type": "markdown",
   "metadata": {},
   "source": [
    "## Calculate MSE\n",
    "\n",
    "$\\large \\frac{1}{M} \\sum_{i=1}^M (y_i-\\hat{y_i})^2$"
   ]
  },
  {
   "cell_type": "code",
   "execution_count": 2,
   "metadata": {},
   "outputs": [],
   "source": [
    "def calc_mse(yh):\n",
    "    y_ = [y] * nSim\n",
    "    m = np.mean((y_ - yh)**2)\n",
    "    return m"
   ]
  },
  {
   "cell_type": "markdown",
   "metadata": {},
   "source": [
    "## Calculate Bias\n",
    "$\\large (\\frac{1}{M} \\sum_{i=1}^M \\hat{y_i}) - y_i $"
   ]
  },
  {
   "cell_type": "code",
   "execution_count": 3,
   "metadata": {},
   "outputs": [],
   "source": [
    "def calc_bias(yh):\n",
    "    bias = np.mean(yh) - y\n",
    "    return bias\n",
    " "
   ]
  },
  {
   "cell_type": "markdown",
   "metadata": {},
   "source": [
    "## Calculate Variance\n",
    "$\\large \\mu = \\frac{1}{M} \\sum_{i=1}^M \\hat{y_i}) $  \n",
    "  \n",
    "$\\large \\frac{1}{M} \\sum_{i=1}^M (\\hat{y_i} - \\mu)^2 $"
   ]
  },
  {
   "cell_type": "code",
   "execution_count": 4,
   "metadata": {},
   "outputs": [],
   "source": [
    "def calc_var(yh):\n",
    "    var = np.mean((yh - np.mean(yh))**2)\n",
    "    return var"
   ]
  },
  {
   "cell_type": "markdown",
   "metadata": {},
   "source": [
    "## Testing"
   ]
  },
  {
   "cell_type": "code",
   "execution_count": 10,
   "metadata": {},
   "outputs": [],
   "source": [
    "def get_population():\n",
    "    size=5000\n",
    "    x1 = np.random.rand(size)\n",
    "    x2 = np.random.rand(size)\n",
    "    x3 = np.random.rand(size)\n",
    "    x4 = np.random.rand(size)\n",
    "    x5 = np.random.rand(size)\n",
    "    \n",
    "    b0= 1.1; b1=2.2; b2 = 3.3; b3= 4.4; b4=5.5; b5= 6.6\n",
    "    y = b0 + b1*x1 + b2*(x2**2) + b3*(x3*x4) + b4*x4 + b5*x5 \n",
    "    random_state=1234\n",
    "    r = np.random.RandomState(random_state)\n",
    "    noise = r.normal(-5, 10, size)\n",
    "    y = y + noise\n",
    "    df = pd.DataFrame({'target':y, 'X1':x1, 'X2':x2, 'X3':x3, 'X4':x4, 'X5':x5})\n",
    "    return df"
   ]
  },
  {
   "cell_type": "code",
   "execution_count": 13,
   "metadata": {},
   "outputs": [],
   "source": [
    "def calculate(model):\n",
    "    Pred = []\n",
    "    for i in range(0, nSim):\n",
    "        D = get_population()\n",
    "        X = D[['X1', 'X2', 'X3', 'X4', 'X5']]\n",
    "        Y = D['target']\n",
    "        model.fit(X,Y)\n",
    "        pred = model.predict(pd.DataFrame(X_test).T)\n",
    "        Pred.append(pred)\n",
    "    return pd.DataFrame(Pred)[0]\n",
    "\n",
    "def evaluate(pred):\n",
    "    mse = calc_mse(pred)\n",
    "    bias = (calc_bias(pred))**2\n",
    "    var = calc_var(pred)\n",
    "    return mse,bias,var"
   ]
  },
  {
   "cell_type": "code",
   "execution_count": 14,
   "metadata": {},
   "outputs": [],
   "source": [
    "np.random.seed(22)\n",
    "X_test = np.random.rand(5)\n",
    "y = get_population()['target'][0]\n",
    "\n",
    "nSim = 100\n",
    "LM = [] \n",
    "DT = []\n",
    "for dt_depth in range(1,30,3):\n",
    "    lm = linear_model.LinearRegression()\n",
    "    pred = calculate(lm)\n",
    "    res = evaluate(pred)\n",
    "    LM.append(res)\n",
    "    \n",
    "    dt = DecisionTreeRegressor(max_depth = dt_depth)\n",
    "    pred = calculate(dt)\n",
    "    res = evaluate(pred)\n",
    "    DT.append(res)\n",
    "\n",
    "LM = pd.DataFrame(LM, columns=['Mse', 'Bias', 'Var'])\n",
    "DT = pd.DataFrame(DT, columns=['Mse', 'Bias', 'Var'])   "
   ]
  },
  {
   "cell_type": "code",
   "execution_count": 15,
   "metadata": {},
   "outputs": [
    {
     "data": {
      "text/plain": [
       "(         Mse       Bias       Var\n",
       " 0  86.723165  86.656809  0.066356\n",
       " 1  86.260321  86.182286  0.078035\n",
       " 2  86.888265  86.824553  0.063712\n",
       " 3  86.572455  86.504079  0.068376\n",
       " 4  85.509122  85.427284  0.081838\n",
       " 5  86.125993  86.069331  0.056661\n",
       " 6  86.583528  86.505424  0.078104\n",
       " 7  87.102633  87.030949  0.071684\n",
       " 8  87.254669  87.191163  0.063507\n",
       " 9  86.456413  86.397337  0.059077,\n",
       "           Mse        Bias         Var\n",
       " 0   52.723591   51.827125    0.896466\n",
       " 1   81.218693   79.146387    2.072306\n",
       " 2   95.018710   90.222078    4.796632\n",
       " 3  105.591662   83.900503   21.691159\n",
       " 4  119.215962   87.592352   31.623610\n",
       " 5  119.477627   73.612182   45.865445\n",
       " 6  173.143462   90.618066   82.525396\n",
       " 7  145.404386   60.873974   84.530411\n",
       " 8  186.710495   82.479633  104.230862\n",
       " 9  207.526612  118.417445   89.109167)"
      ]
     },
     "execution_count": 15,
     "metadata": {},
     "output_type": "execute_result"
    }
   ],
   "source": [
    "LM, DT"
   ]
  },
  {
   "cell_type": "code",
   "execution_count": 16,
   "metadata": {},
   "outputs": [
    {
     "data": {
      "image/png": "[encoded data removed]",
      "text/plain": [
       "<Figure size 432x288 with 1 Axes>"
      ]
     },
     "metadata": {
      "needs_background": "light"
     },
     "output_type": "display_data"
    }
   ],
   "source": [
    "plt.plot(LM['Mse'])\n",
    "plt.plot(DT['Mse'])\n",
    "plt.show();"
   ]
  },
  {
   "cell_type": "code",
   "execution_count": 17,
   "metadata": {},
   "outputs": [
    {
     "data": {
      "image/png": "[encoded data removed]",
      "text/plain": [
       "<Figure size 432x288 with 1 Axes>"
      ]
     },
     "metadata": {
      "needs_background": "light"
     },
     "output_type": "display_data"
    }
   ],
   "source": [
    "plt.plot(LM['Bias'])\n",
    "plt.plot(DT['Bias'])\n",
    "plt.show();"
   ]
  },
  {
   "cell_type": "code",
   "execution_count": 18,
   "metadata": {},
   "outputs": [
    {
     "data": {
      "image/png": "[encoded data removed]",
      "text/plain": [
       "<Figure size 432x288 with 1 Axes>"
      ]
     },
     "metadata": {
      "needs_background": "light"
     },
     "output_type": "display_data"
    }
   ],
   "source": [
    "plt.plot(LM['Var'])\n",
    "plt.plot(DT['Var'])\n",
    "plt.show();"
   ]
  },
  {
   "cell_type": "markdown",
   "metadata": {},
   "source": [
    "## Credits & Links"
   ]
  },
  {
   "cell_type": "markdown",
   "metadata": {},
   "source": [
    "https://towardsdatascience.com/end-your-bias-about-bias-and-variance-67b16f0eb1e6\n",
    "https://towardsdatascience.com/understanding-the-bias-variance-tradeoff-165e6942b229\n",
    "https://www3.nd.edu/~rwilliam/stats1/x12.pdf"
   ]
  }
 ],
 "metadata": {
  "kernelspec": {
   "display_name": "Python 3",
   "language": "python",
   "name": "python3"
  },
  "language_info": {
   "codemirror_mode": {
    "name": "ipython",
    "version": 3
   },
   "file_extension": ".py",
   "mimetype": "text/x-python",
   "name": "python",
   "nbconvert_exporter": "python",
   "pygments_lexer": "ipython3",
   "version": "3.8.1"
  }
 },
 "nbformat": 4,
 "nbformat_minor": 4
}
