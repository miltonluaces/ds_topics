{
 "cells": [
  {
   "cell_type": "markdown",
   "metadata": {},
   "source": [
    "# Bias, Variance & Noise\n",
    "\n",
    "Error is equal to Bias squared plus Variance plus irreductible error.  \n",
    "  \n",
    "$\\large Y = f(X) + \\varepsilon $"
   ]
  },
  {
   "cell_type": "markdown",
   "metadata": {},
   "source": [
    "$\\large Err = E[(Y - \\hat{f}(X))^2] = [Y - E[\\hat{f}(X)]]^2 + E[\\hat{f}(X) - E[\\hat{f}(X)]]^2 + \\varepsilon $"
   ]
  },
  {
   "cell_type": "markdown",
   "metadata": {},
   "source": [
    " ![](biasvariance.png)"
   ]
  },
  {
   "cell_type": "markdown",
   "metadata": {},
   "source": [
    "## Imports"
   ]
  },
  {
   "cell_type": "code",
   "execution_count": 64,
   "metadata": {},
   "outputs": [],
   "source": [
    "import numpy as np\n",
    "import pandas as pd\n",
    "import random\n",
    "from sklearn import linear_model\n",
    "from sklearn.tree import DecisionTreeRegressor\n",
    "import matplotlib.pyplot as plt"
   ]
  },
  {
   "cell_type": "markdown",
   "metadata": {},
   "source": [
    "## Calculate MSE\n",
    "\n",
    "$\\large \\frac{1}{M} \\sum_{i=1}^M (y_i-\\hat{y_i})^2$"
   ]
  },
  {
   "cell_type": "code",
   "execution_count": null,
   "metadata": {},
   "outputs": [],
   "source": [
    "def calc_mse(yh):\n",
    "    y_ = [y] * nSim\n",
    "    m = np.mean((y_ - yh)**2)\n",
    "    return m"
   ]
  },
  {
   "cell_type": "markdown",
   "metadata": {},
   "source": [
    "## Calculate Bias\n",
    "$\\large (\\frac{1}{M} \\sum_{i=1}^M \\hat{y_i}) - y_i $"
   ]
  },
  {
   "cell_type": "code",
   "execution_count": null,
   "metadata": {},
   "outputs": [],
   "source": [
    "def calc_bias(yh):\n",
    "    bias = np.mean(yh) - y\n",
    "    return bias\n",
    " "
   ]
  },
  {
   "cell_type": "markdown",
   "metadata": {},
   "source": [
    "## Calculate Variance\n",
    "$\\large \\mu = \\frac{1}{M} \\sum_{i=1}^M \\hat{y_i}) $  \n",
    "  \n",
    "$\\large \\frac{1}{M} \\sum_{i=1}^M (\\hat{y_i} - \\mu)^2 $"
   ]
  },
  {
   "cell_type": "code",
   "execution_count": null,
   "metadata": {},
   "outputs": [],
   "source": [
    "def calc_var(yh):\n",
    "    var = np.mean((yh - np.mean(yh))**2)\n",
    "    return var"
   ]
  },
  {
   "cell_type": "markdown",
   "metadata": {},
   "source": [
    "## Testing"
   ]
  },
  {
   "cell_type": "code",
   "execution_count": null,
   "metadata": {},
   "outputs": [],
   "source": [
    "def get_population():\n",
    "    size=5000\n",
    "    x1 = np.random.rand(size)\n",
    "    x2 = np.random.rand(size)\n",
    "    x3 = np.random.rand(size)\n",
    "    x4 = np.random.rand(size)\n",
    "    x5 = np.random.rand(size)\n",
    "    \n",
    "    b0= 1.1; b1=2.2; b2 = 3.3; b3= 4.4; b4=5.5; b5= 6.6\n",
    "    y = b0 + b1*x1 + b2*(x2**2) + b3*(x3*x4) + b4*x4 + b5*x5 \n",
    "    random_state=1234\n",
    "    r = np.random.RandomState(random_state)\n",
    "    noise = r.normal(-5, 10, size)\n",
    "    y = y + noise\n",
    "    df = pd.DataFrame({'target':y, 'X1':x1, 'X2':x2, 'X3':x3, 'X4':x4, 'X5':x5})\n",
    "    return df"
   ]
  },
  {
   "cell_type": "code",
   "execution_count": 54,
   "metadata": {},
   "outputs": [],
   "source": [
    "def calculate(model):\n",
    "    Pred = []\n",
    "    for i in range(0, nSim):\n",
    "        D = get_population()\n",
    "        X = D[['X1', 'X2', 'X3', 'X4', 'X5']]\n",
    "        Y = D['target']\n",
    "        lm.fit(X,Y)\n",
    "        dt.fit(X,Y)\n",
    "        pred = model.predict(pd.DataFrame(X_test).T)\n",
    "        Pred.append(pred)\n",
    "    return pd.DataFrame(Pred)[0]\n",
    "\n",
    "def evaluate(pred):\n",
    "    mse = calc_mse(pred)\n",
    "    bias = (calc_bias(pred))**2\n",
    "    var = calc_var(pred)\n",
    "    return mse,bias,var"
   ]
  },
  {
   "cell_type": "code",
   "execution_count": null,
   "metadata": {},
   "outputs": [],
   "source": [
    "np.random.seed(22)\n",
    "X_test = np.random.rand(5)\n",
    "y = get_population()['target'][0]\n",
    "\n",
    "nSim = 100\n",
    "LM = [] \n",
    "DT = []\n",
    "for dt_depth in range(1,30,3):\n",
    "    lm = linear_model.LinearRegression()\n",
    "    pred = calculate(lm)\n",
    "    res = evaluate(pred)\n",
    "    LM.append(res)\n",
    "    \n",
    "    dt = DecisionTreeRegressor(max_depth = dt_depth)\n",
    "    pred = calculate(dt)\n",
    "    res = evaluate(pred)\n",
    "    DT.append(res)\n",
    "\n",
    "LM = pd.DataFrame(LM, columns=['Mse', 'Bias', 'Var'])\n",
    "DT = pd.DataFrame(DT, columns=['Mse', 'Bias', 'Var'])   "
   ]
  },
  {
   "cell_type": "code",
   "execution_count": 91,
   "metadata": {},
   "outputs": [
    {
     "data": {
      "text/plain": [
       "(         Mse       Bias       Var\n",
       " 0  86.523950  86.450106  0.073844\n",
       " 1  86.077778  86.008126  0.069652\n",
       " 2  85.940750  85.871527  0.069223\n",
       " 3  86.439788  86.365918  0.073870\n",
       " 4  85.581543  85.511994  0.069549\n",
       " 5  86.216847  86.139309  0.077537\n",
       " 6  86.140533  86.076400  0.064134\n",
       " 7  86.808867  86.738971  0.069896\n",
       " 8  85.997149  85.901254  0.095895\n",
       " 9  86.926070  86.859196  0.066873,\n",
       "           Mse       Bias         Var\n",
       " 0   52.406884  51.273392    1.133492\n",
       " 1   78.498564  76.758140    1.740423\n",
       " 2   86.873738  82.857157    4.016581\n",
       " 3   90.742929  86.105884    4.637045\n",
       " 4  107.377019  85.998634   21.378385\n",
       " 5  133.414715  94.232118   39.182597\n",
       " 6  138.219306  95.763378   42.455928\n",
       " 7  149.441014  95.403818   54.037196\n",
       " 8  149.870539  93.268382   56.602157\n",
       " 9  188.209161  87.930039  100.279122)"
      ]
     },
     "execution_count": 91,
     "metadata": {},
     "output_type": "execute_result"
    }
   ],
   "source": [
    "LM, DT"
   ]
  },
  {
   "cell_type": "code",
   "execution_count": 94,
   "metadata": {},
   "outputs": [
    {
     "data": {
      "image/png": "[encoded data removed]",
      "text/plain": [
       "<Figure size 432x288 with 1 Axes>"
      ]
     },
     "metadata": {
      "needs_background": "light"
     },
     "output_type": "display_data"
    }
   ],
   "source": [
    "plt.plot(LM['Mse'])\n",
    "plt.plot(DT['Mse'])\n",
    "plt.show();"
   ]
  },
  {
   "cell_type": "code",
   "execution_count": 95,
   "metadata": {},
   "outputs": [
    {
     "data": {
      "image/png": "[encoded data removed]",
      "text/plain": [
       "<Figure size 432x288 with 1 Axes>"
      ]
     },
     "metadata": {
      "needs_background": "light"
     },
     "output_type": "display_data"
    }
   ],
   "source": [
    "plt.plot(LM['Bias'])\n",
    "plt.plot(DT['Bias'])\n",
    "plt.show();"
   ]
  },
  {
   "cell_type": "code",
   "execution_count": 96,
   "metadata": {},
   "outputs": [
    {
     "data": {
      "image/png": "[encoded data removed]",
      "text/plain": [
       "<Figure size 432x288 with 1 Axes>"
      ]
     },
     "metadata": {
      "needs_background": "light"
     },
     "output_type": "display_data"
    }
   ],
   "source": [
    "plt.plot(LM['Var'])\n",
    "plt.plot(DT['Var'])\n",
    "plt.show();"
   ]
  },
  {
   "cell_type": "markdown",
   "metadata": {},
   "source": [
    "## Credits & Links"
   ]
  },
  {
   "cell_type": "markdown",
   "metadata": {},
   "source": [
    "https://towardsdatascience.com/end-your-bias-about-bias-and-variance-67b16f0eb1e6\n",
    "https://towardsdatascience.com/understanding-the-bias-variance-tradeoff-165e6942b229\n",
    "https://www3.nd.edu/~rwilliam/stats1/x12.pdf"
   ]
  }
 ],
 "metadata": {
  "kernelspec": {
   "display_name": "Python 3",
   "language": "python",
   "name": "python3"
  },
  "language_info": {
   "codemirror_mode": {
    "name": "ipython",
    "version": 3
   },
   "file_extension": ".py",
   "mimetype": "text/x-python",
   "name": "python",
   "nbconvert_exporter": "python",
   "pygments_lexer": "ipython3",
   "version": "3.8.1"
  }
 },
 "nbformat": 4,
 "nbformat_minor": 4
}
