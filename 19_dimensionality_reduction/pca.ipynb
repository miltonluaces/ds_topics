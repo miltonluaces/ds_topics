{
 "cells": [
  {
   "cell_type": "code",
   "execution_count": null,
   "metadata": {},
   "outputs": [],
   "source": [
    "import numpy\n",
    "import pandas as pd\n",
    "from pandas import read_csv\n",
    "from sklearn.decomposition import PCA\n",
    "from sklearn.preprocessing import StandardScaler\n",
    "\n",
    "\n",
    "\n",
    "# Feature Extraction with PCA\n",
    "\n",
    "# Load data\n",
    "url = \"https://raw.githubusercontent.com/jbrownlee/Datasets/master/pima-indians-diabetes.data.csv\"\n",
    "names = ['preg', 'plas', 'pres', 'skin', 'test', 'mass', 'pedi', 'age', 'class']\n",
    "dataframe = read_csv(url, names=names)\n",
    "array = dataframe.values\n",
    "X = array[:,0:8]\n",
    "Y = array[:,8]\n",
    "\n",
    "# Feature extraction\n",
    "pca = PCA(n_components=3)\n",
    "fit = pca.fit(X)\n",
    "\n",
    "# Results\n",
    "print(\"Explained Variance:\", fit.explained_variance_ratio_)\n",
    "print(fit.components_)\n",
    "\n",
    "\n",
    "#df = pd.read_csv(filepath_or_buffer='https://archive.ics.uci.edu/ml/machine-learning-databases/iris/iris.data', header=None, sep=',')\n",
    "#df.columns=['sepal_len', 'sepal_wid', 'petal_len', 'petal_wid', 'class']\n",
    "#df.dropna(how=\"all\", inplace=True) # drops the empty line at file-end\n",
    "#df.tail()\n",
    "#X = df.ix[:,0:4].values\n",
    "#y = df.ix[:,4].values\n",
    "#X_std = StandardScaler().fit_transform(X)\n",
    "\n",
    "## Traces\n",
    "#traces = []\n",
    "#for name in ('Iris-setosa', 'Iris-versicolor', 'Iris-virginica'):\n",
    "#    marker = Marker(size=12, line=Line(color='rgba(217, 217, 217, 0.14)', width=0.5),opacity=0.8)\n",
    "#    trace = Scatter(x=Y[y==name,0], y=Y[y==name,1], mode='markers', name=name, marker=marker)\n",
    "#    traces.append(trace)\n",
    "\n",
    "## Plot\n",
    "#data = Data(traces)\n",
    "#layout = Layout(xaxis=XAxis(title='PC1', showline=False), yaxis=YAxis(title='PC2', showline=False))\n",
    "#fig = Figure(data=data, layout=layout)\n",
    "#py.iplot(fig)\n"
   ]
  }
 ],
 "metadata": {
  "kernelspec": {
   "display_name": "Python 3",
   "language": "python",
   "name": "python3"
  },
  "language_info": {
   "codemirror_mode": {
    "name": "ipython",
    "version": 3
   },
   "file_extension": ".py",
   "mimetype": "text/x-python",
   "name": "python",
   "nbconvert_exporter": "python",
   "pygments_lexer": "ipython3",
   "version": "3.7.1"
  }
 },
 "nbformat": 4,
 "nbformat_minor": 4
}
