{
 "cells": [
  {
   "cell_type": "code",
   "execution_count": null,
   "metadata": {},
   "outputs": [],
   "source": [
    "#nvcc --version\n",
    "\n",
    "import os\n",
    "import tensorflow as tf\n",
    "from tensorflow.python.client import device_lib\n",
    "\n",
    "\n",
    "# Current working directory\n",
    "cwd = os.getcwd()\n",
    "print(cwd)\n",
    "\n",
    "#os.environ['CUDA_VISIBLE_DEVICES'] = 1\n",
    "\n",
    "# Check GPU\n",
    "# os.environ['TF_CPP_MIN_LOG_LEVEL'] = '2'\n",
    "hello = tf.constant('Hello, TensorFlow!')\n",
    "sess = tf.Session()\n",
    "output = sess.run(hello)\n",
    "print(output)\n",
    "\n",
    "with tf.device('/cpu:0'):\n",
    "    hello2 = tf.constant('Hello, TensorFlow!')\n",
    "    sess = tf.Session()\n",
    "    output = sess.run(hello2)\n",
    "    print(output)\n",
    "\n",
    "\n",
    "\n",
    "def GetAvailableGPUs():\n",
    "    devices = device_lib.list_local_devices()\n",
    "    print(devices)\n",
    "    return [x.name for x in devices if x.device_type == 'GPU']\n",
    "\n",
    "gpus = GetAvailableGPUs()\n",
    "print(gpus)\n",
    "\n",
    "print(\"GPU available? \" , tf.test.is_gpu_available())\n",
    "print(\"GPU name : \", tf.test.gpu_device_name())"
   ]
  }
 ],
 "metadata": {
  "kernelspec": {
   "display_name": "Python 3",
   "language": "python",
   "name": "python3"
  },
  "language_info": {
   "codemirror_mode": {
    "name": "ipython",
    "version": 3
   },
   "file_extension": ".py",
   "mimetype": "text/x-python",
   "name": "python",
   "nbconvert_exporter": "python",
   "pygments_lexer": "ipython3",
   "version": "3.7.1"
  }
 },
 "nbformat": 4,
 "nbformat_minor": 4
}
